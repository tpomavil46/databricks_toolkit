{
 "cells": [
  {
   "cell_type": "markdown",
   "metadata": {
    "application/vnd.databricks.v1+cell": {
     "cellMetadata": {},
     "inputWidgets": {},
     "nuid": "47cf5f23-c8ae-4903-93bb-b3fa79eca1ef",
     "showTitle": false,
     "tableResultSettingsMap": {},
     "title": ""
    }
   },
   "source": [
    "\n",
    "<div style=\"text-align: center; line-height: 0; padding-top: 9px;\">\n",
    "  <img src=\"https://databricks.com/wp-content/uploads/2018/03/db-academy-rgb-1200px.png\" alt=\"Databricks Learning\">\n",
    "</div>\n"
   ]
  },
  {
   "cell_type": "markdown",
   "metadata": {
    "application/vnd.databricks.v1+cell": {
     "cellMetadata": {},
     "inputWidgets": {},
     "nuid": "b95e9d43-d6ce-48cb-b1e2-143e808ebfef",
     "showTitle": false,
     "tableResultSettingsMap": {},
     "title": ""
    }
   },
   "source": [
    "# Load Data Lab\n",
    "\n",
    "In this lab, you will load data into new and existing Delta tables.\n",
    "\n",
    "## Learning Objectives\n",
    "By the end of this lab, you should be able to:\n",
    "- Create an empty Delta table with a provided schema\n",
    "- Use `COPY INTO` and `CAST` to ingest data to an existing Delta table\n",
    "- Use a CTAS statement to create a Delta table from files"
   ]
  },
  {
   "cell_type": "markdown",
   "metadata": {
    "application/vnd.databricks.v1+cell": {
     "cellMetadata": {},
     "inputWidgets": {},
     "nuid": "678abe5d-bbc5-4f3e-b4e7-e911742ba2c9",
     "showTitle": false,
     "tableResultSettingsMap": {},
     "title": ""
    }
   },
   "source": [
    "## Run Setup\n",
    "\n",
    "Run the following cell to configure variables and datasets for this lesson."
   ]
  },
  {
   "cell_type": "code",
   "execution_count": 0,
   "metadata": {
    "application/vnd.databricks.v1+cell": {
     "cellMetadata": {
      "byteLimit": 2048000,
      "rowLimit": 10000
     },
     "inputWidgets": {},
     "nuid": "ebb79d70-da75-4104-b3f3-d08aa6f3b492",
     "showTitle": false,
     "tableResultSettingsMap": {},
     "title": ""
    }
   },
   "outputs": [
    {
     "output_type": "stream",
     "name": "stdout",
     "output_type": "stream",
     "text": [
      "\u001B[43mNote: you may need to restart the kernel using dbutils.library.restartPython() to use updated packages.\u001B[0m\n\u001B[43mNote: you may need to restart the kernel using dbutils.library.restartPython() to use updated packages.\u001B[0m\n"
     ]
    },
    {
     "output_type": "stream",
     "name": "stdout",
     "output_type": "stream",
     "text": [
      "Resetting the learning environment:\n| dropping the catalog \"labuser9693205_1742837481_u8bu_da\"...(0 seconds)\n| removing the working directory \"dbfs:/mnt/dbacademy-users/labuser9693205_1742837481@vocareum.com/data-engineering-with-databricks\"...(0 seconds)\n\nSkipping install of existing datasets to \"dbfs:/mnt/dbacademy-datasets/data-engineer-learning-path/v04\"\n\nValidating the locally installed datasets:\n| listing local files...(7 seconds)\n| validation completed...(7 seconds total)\nCreating & using the catalog \"labuser9693205_1742837481_u8bu_da\"...(1 seconds)\n\nPredefined tables in \"labuser9693205_1742837481_u8bu_da.default\":\n| events_json\n\nPredefined paths variables:\n| DA.paths.working_dir:  dbfs:/mnt/dbacademy-users/labuser9693205_1742837481@vocareum.com/data-engineering-with-databricks\n| DA.paths.datasets:     dbfs:/mnt/dbacademy-datasets/data-engineer-learning-path/v04\n| DA.paths.kafka_events: dbfs:/mnt/dbacademy-datasets/data-engineer-learning-path/v04/ecommerce/raw/events-kafka\n\nSetup completed (21 seconds)\n"
     ]
    }
   ],
   "source": [
    "%run ./Includes/Classroom-Setup-03.6L"
   ]
  },
  {
   "cell_type": "markdown",
   "metadata": {
    "application/vnd.databricks.v1+cell": {
     "cellMetadata": {},
     "inputWidgets": {},
     "nuid": "424d66cd-5e2f-4ba0-a9c7-975e72d79c34",
     "showTitle": false,
     "tableResultSettingsMap": {},
     "title": ""
    }
   },
   "source": [
    "## Data Overview\n",
    "\n",
    "We will work with a sample of raw Kafka data written as JSON files. \n",
    "\n",
    "Each file contains all records consumed during a 5-second interval, stored with the full Kafka schema as a multiple-record JSON file. \n",
    "\n",
    "The schema for the table:\n",
    "\n",
    "| field  | type | description |\n",
    "| ------ | ---- | ----------- |\n",
    "| key    | BINARY | The **`user_id`** field is used as the key; this is a unique alphanumeric field that corresponds to session/cookie information |\n",
    "| offset | BIGINT | This is a unique value, monotonically increasing for each partition |\n",
    "| partition | INTEGER | Our current Kafka implementation uses only 2 partitions (0 and 1) |\n",
    "| timestamp | BIGINT    | This timestamp is recorded as milliseconds since epoch, and represents the time at which the producer appends a record to a partition |\n",
    "| topic | STRING | While the Kafka service hosts multiple topics, only those records from the **`clickstream`** topic are included here |\n",
    "| value | BINARY | This is the full data payload (to be discussed later), sent as JSON |"
   ]
  },
  {
   "cell_type": "markdown",
   "metadata": {
    "application/vnd.databricks.v1+cell": {
     "cellMetadata": {},
     "inputWidgets": {},
     "nuid": "6a58b75e-0904-482c-bc37-3efb7ebdc6f5",
     "showTitle": false,
     "tableResultSettingsMap": {},
     "title": ""
    }
   },
   "source": [
    "\n",
    "## Define Schema for Empty Delta Table\n",
    "Create an empty managed Delta table named **`events_bronze`** using the same schema."
   ]
  },
  {
   "cell_type": "code",
   "execution_count": 0,
   "metadata": {
    "application/vnd.databricks.v1+cell": {
     "cellMetadata": {
      "byteLimit": 2048000,
      "rowLimit": 10000
     },
     "inputWidgets": {},
     "nuid": "c24d0f66-f8db-401d-a176-270717dd70bb",
     "showTitle": false,
     "tableResultSettingsMap": {},
     "title": ""
    }
   },
   "outputs": [
    {
     "output_type": "display_data",
     "data": {
      "text/html": [
       "<style scoped>\n",
       "  .table-result-container {\n",
       "    max-height: 300px;\n",
       "    overflow: auto;\n",
       "  }\n",
       "  table, th, td {\n",
       "    border: 1px solid black;\n",
       "    border-collapse: collapse;\n",
       "  }\n",
       "  th, td {\n",
       "    padding: 5px;\n",
       "  }\n",
       "  th {\n",
       "    text-align: left;\n",
       "  }\n",
       "</style><div class='table-result-container'><table class='table-result'><thead style='background-color: white'><tr></tr></thead><tbody></tbody></table></div>"
      ]
     },
     "metadata": {
      "application/vnd.databricks.v1+output": {
       "addedWidgets": {},
       "aggData": [],
       "aggError": "",
       "aggOverflow": false,
       "aggSchema": [],
       "aggSeriesLimitReached": false,
       "aggType": "",
       "arguments": {},
       "columnCustomDisplayInfos": {},
       "data": [],
       "datasetInfos": [],
       "dbfsResultPath": null,
       "isJsonSchema": true,
       "metadata": {
        "isDbfsCommandResult": false
       },
       "overflow": false,
       "plotOptions": {
        "customPlotOptions": {},
        "displayType": "table",
        "pivotAggregation": null,
        "pivotColumns": null,
        "xColumns": null,
        "yColumns": null
       },
       "removedWidgets": [],
       "schema": [],
       "type": "table"
      }
     },
     "output_type": "display_data"
    }
   ],
   "source": [
    "CREATE OR REPLACE TABLE events_bronze\n",
    "(\n",
    "    key BINARY,\n",
    "    offset BIGINT,\n",
    "    partition INTEGER,\n",
    "    timestamp BIGINT,\n",
    "    topic STRING,\n",
    "    value BINARY\n",
    ")"
   ]
  },
  {
   "cell_type": "markdown",
   "metadata": {
    "application/vnd.databricks.v1+cell": {
     "cellMetadata": {},
     "inputWidgets": {},
     "nuid": "bfa837b9-2468-4604-a912-d5710a4ad230",
     "showTitle": false,
     "tableResultSettingsMap": {},
     "title": ""
    }
   },
   "source": [
    "Run the cell below to confirm the table was created correctly."
   ]
  },
  {
   "cell_type": "code",
   "execution_count": 0,
   "metadata": {
    "application/vnd.databricks.v1+cell": {
     "cellMetadata": {
      "byteLimit": 2048000,
      "rowLimit": 10000
     },
     "inputWidgets": {},
     "nuid": "6bab7621-ca48-43b1-a5a4-fd3e8fa24282",
     "showTitle": false,
     "tableResultSettingsMap": {},
     "title": ""
    }
   },
   "outputs": [
    {
     "output_type": "display_data",
     "data": {
      "text/html": [
       "<style>\n",
       "      table { text-align: left; border-collapse: collapse; margin: 1em; caption-side: bottom; font-family: Sans-Serif; font-size: 16px}\n",
       "      caption { text-align: left; padding: 5px }\n",
       "      th, td { border: 1px solid #ddd; padding: 5px }\n",
       "      th { background-color: #ddd }\n",
       "      .passed { background-color: #97d897 }\n",
       "      .failed { background-color: #e2716c }\n",
       "      .skipped { background-color: #f9d275 }\n",
       "      .results .points { display: none }\n",
       "      .results .message { display: block; font-size:smaller; color:gray }\n",
       "      .results .note { display: block; font-size:smaller; font-decoration:italics }\n",
       "      .results .passed::before  { content: \"Passed\" }\n",
       "      .results .failed::before  { content: \"Failed\" }\n",
       "      .results .skipped::before { content: \"Skipped\" }\n",
       "      .grade .passed  .message:empty::before { content:\"Passed\" }\n",
       "      .grade .failed  .message:empty::before { content:\"Failed\" }\n",
       "      .grade .skipped .message:empty::before { content:\"Skipped\" }\n",
       "    </style>\n",
       "<table class='results'>\n",
       "  <tr><th class='points'>Points</th><th class='test'>Test</th><th class='result'>Result</th></tr>\n",
       "<tr>\n",
       "  <td class='points'>1</td>\n",
       "  <td class='test'>\n",
       "    Created the table \"events_bronze\"\n",
       "  </td>\n",
       "  <td class='result passed'></td>\n",
       "</tr>\n",
       "<tr>\n",
       "  <td class='points'>1</td>\n",
       "  <td class='test'>\n",
       "    The table should have 0 records\n",
       "  </td>\n",
       "  <td class='result passed'></td>\n",
       "</tr>\n",
       "<tr>\n",
       "  <td class='points'>1</td>\n",
       "  <td class='test'>\n",
       "    Schema contains \"key\" of type BinaryType\n",
       "  </td>\n",
       "  <td class='result passed'></td>\n",
       "</tr>\n",
       "<tr>\n",
       "  <td class='points'>1</td>\n",
       "  <td class='test'>\n",
       "    Schema contains \"offset\" of type LongType\n",
       "  </td>\n",
       "  <td class='result passed'></td>\n",
       "</tr>\n",
       "<tr>\n",
       "  <td class='points'>1</td>\n",
       "  <td class='test'>\n",
       "    Schema contains \"partition\" of type IntegerType\n",
       "  </td>\n",
       "  <td class='result passed'></td>\n",
       "</tr>\n",
       "<tr>\n",
       "  <td class='points'>1</td>\n",
       "  <td class='test'>\n",
       "    Schema contains \"timestamp\" of type LongType\n",
       "  </td>\n",
       "  <td class='result passed'></td>\n",
       "</tr>\n",
       "<tr>\n",
       "  <td class='points'>1</td>\n",
       "  <td class='test'>\n",
       "    Schema contains \"topic\" of type StringType\n",
       "  </td>\n",
       "  <td class='result passed'></td>\n",
       "</tr>\n",
       "<tr>\n",
       "  <td class='points'>1</td>\n",
       "  <td class='test'>\n",
       "    Schema contains \"value\" of type BinaryType\n",
       "  </td>\n",
       "  <td class='result passed'></td>\n",
       "</tr>\n",
       "  <caption class='points'>Score: 8</caption>\n",
       "</table>"
      ]
     },
     "metadata": {},
     "output_type": "display_data"
    }
   ],
   "source": [
    "%python\n",
    "suite = DA.tests.new(\"Define Schema\")\n",
    "expected_table = lambda: spark.table(\"events_bronze\")\n",
    "suite.test_not_none(lambda: expected_table(), \"Created the table \\\"events_bronze\\\"\")\n",
    "suite.test_equals(lambda: expected_table().count(), 0, \"The table should have 0 records\")\n",
    "\n",
    "suite.test_schema_field(lambda: expected_table().schema, \"key\", \"BinaryType\")\n",
    "suite.test_schema_field(lambda: expected_table().schema, \"offset\", \"LongType\")\n",
    "suite.test_schema_field(lambda: expected_table().schema, \"partition\", \"IntegerType\")\n",
    "suite.test_schema_field(lambda: expected_table().schema, \"timestamp\", \"LongType\")\n",
    "suite.test_schema_field(lambda: expected_table().schema, \"topic\", \"StringType\")\n",
    "suite.test_schema_field(lambda: expected_table().schema, \"value\", \"BinaryType\")\n",
    "\n",
    "suite.display_results()\n",
    "assert suite"
   ]
  },
  {
   "cell_type": "markdown",
   "metadata": {
    "application/vnd.databricks.v1+cell": {
     "cellMetadata": {},
     "inputWidgets": {},
     "nuid": "b5ffc2fa-5fa0-47f8-8f0c-024c90d7fe5f",
     "showTitle": false,
     "tableResultSettingsMap": {},
     "title": ""
    }
   },
   "source": [
    "## Using `CAST` with JSON Data\n",
    "In the next cell, you will use COPY INTO to ingest data into the table.  \n",
    "  \n",
    "In order to force the JSON data to fit the schema you used when you created the table, you will need to use `CAST` keyword. The syntax for `CAST` is `CAST(column AS data_type)`.  To use `CAST` with `COPY INTO`, replace the path in the `COPY INTO` command you learned in the previous lesson, with a SELECT query (make sure you include the parentheses):\n",
    "  \n",
    "  <code>(SELECT\n",
    "  CAST(key AS BINARY) AS key,<br />\n",
    "  CAST(offset AS BIGINT) AS offset,<br />\n",
    "  CAST(partition AS INT) AS partition,<br />\n",
    "  CAST(timestamp AS BIGINT) AS timestamp,<br />\n",
    "  CAST(topic AS STRING) AS topic,<br />\n",
    "  CAST(value AS BINARY) AS value<br />\n",
    "FROM '${DA.paths.kafka_events}')</code>\n",
    "  \n",
    "Note: Because the data files are in JSON format, you will not need to use the \"delimiter\" or \"header\" options."
   ]
  },
  {
   "cell_type": "code",
   "execution_count": 0,
   "metadata": {
    "application/vnd.databricks.v1+cell": {
     "cellMetadata": {
      "byteLimit": 2048000,
      "rowLimit": 10000
     },
     "inputWidgets": {},
     "nuid": "05f4bae2-bdb1-4006-b162-2f3037449db9",
     "showTitle": false,
     "tableResultSettingsMap": {},
     "title": ""
    }
   },
   "outputs": [
    {
     "output_type": "display_data",
     "data": {
      "text/html": [
       "<style scoped>\n",
       "  .table-result-container {\n",
       "    max-height: 300px;\n",
       "    overflow: auto;\n",
       "  }\n",
       "  table, th, td {\n",
       "    border: 1px solid black;\n",
       "    border-collapse: collapse;\n",
       "  }\n",
       "  th, td {\n",
       "    padding: 5px;\n",
       "  }\n",
       "  th {\n",
       "    text-align: left;\n",
       "  }\n",
       "</style><div class='table-result-container'><table class='table-result'><thead style='background-color: white'><tr><th>num_affected_rows</th><th>num_inserted_rows</th><th>num_skipped_corrupt_files</th></tr></thead><tbody><tr><td>2252</td><td>2252</td><td>0</td></tr></tbody></table></div>"
      ]
     },
     "metadata": {
      "application/vnd.databricks.v1+output": {
       "addedWidgets": {},
       "aggData": [],
       "aggError": "",
       "aggOverflow": false,
       "aggSchema": [],
       "aggSeriesLimitReached": false,
       "aggType": "",
       "arguments": {},
       "columnCustomDisplayInfos": {},
       "data": [
        [
         2252,
         2252,
         0
        ]
       ],
       "datasetInfos": [],
       "dbfsResultPath": null,
       "isJsonSchema": true,
       "metadata": {
        "isDbfsCommandResult": false
       },
       "overflow": false,
       "plotOptions": {
        "customPlotOptions": {},
        "displayType": "table",
        "pivotAggregation": null,
        "pivotColumns": null,
        "xColumns": null,
        "yColumns": null
       },
       "removedWidgets": [],
       "schema": [
        {
         "metadata": "{}",
         "name": "num_affected_rows",
         "type": "\"long\""
        },
        {
         "metadata": "{}",
         "name": "num_inserted_rows",
         "type": "\"long\""
        },
        {
         "metadata": "{}",
         "name": "num_skipped_corrupt_files",
         "type": "\"integer\""
        }
       ],
       "type": "table"
      }
     },
     "output_type": "display_data"
    }
   ],
   "source": [
    "COPY INTO events_bronze\n",
    "FROM (\n",
    "  SELECT CAST(key AS BINARY) AS key,\n",
    "  CAST(offset AS BIGINT) AS offset,\n",
    "  CAST(partition AS INT) AS partition,\n",
    "  CAST(timestamp AS BIGINT) AS timestamp,\n",
    "  CAST(topic AS STRING) AS topic,\n",
    "  CAST(value AS BINARY) AS value\n",
    "FROM '${DA.paths.kafka_events}'\n",
    ")\n",
    "FILEFORMAT = JSON;"
   ]
  },
  {
   "cell_type": "markdown",
   "metadata": {
    "application/vnd.databricks.v1+cell": {
     "cellMetadata": {},
     "inputWidgets": {},
     "nuid": "c45c841b-f923-4356-aab5-8e2e5ab2fe3b",
     "showTitle": false,
     "tableResultSettingsMap": {},
     "title": ""
    }
   },
   "source": [
    "\n",
    "\n",
    "\n",
    "Manually review the table contents to ensure data was written as expected."
   ]
  },
  {
   "cell_type": "code",
   "execution_count": 0,
   "metadata": {
    "application/vnd.databricks.v1+cell": {
     "cellMetadata": {
      "byteLimit": 2048000,
      "rowLimit": 10000
     },
     "inputWidgets": {},
     "nuid": "7f6ad7b7-5a13-47a6-b3c6-0a91892ee90e",
     "showTitle": false,
     "tableResultSettingsMap": {},
     "title": ""
    }
   },
   "outputs": [
    {
     "output_type": "display_data",
     "data": {
      "text/html": [
       "<style scoped>\n",
       "  .table-result-container {\n",
       "    max-height: 300px;\n",
       "    overflow: auto;\n",
       "  }\n",
       "  table, th, td {\n",
       "    border: 1px solid black;\n",
       "    border-collapse: collapse;\n",
       "  }\n",
       "  th, td {\n",
       "    padding: 5px;\n",
       "  }\n",
       "  th {\n",
       "    text-align: left;\n",
       "  }\n",
       "</style><div class='table-result-container'><table class='table-result'><thead style='background-color: white'><tr><th>key</th><th>offset</th><th>partition</th><th>timestamp</th><th>topic</th><th>value</th></tr></thead><tbody><tr><td>VlVFd01EQXdNREF4TURjek9UZ3dOVFE9</td><td>219255030</td><td>0</td><td>1593880885085</td><td>clickstream</td><td>ZXlKa1pYWnBZMlVpT2lKQmJtUnliMmxrSWl3aVpXTnZiVzFsY21ObElqcDdmU3dpWlhabGJuUmZibUZ0WlNJNkltMWhhVzRpTENKbGRtVnVkRjkwYVcxbGMzUmhiWEFpT2pFMU9UTTRPREE0T0RVd016WXhNamtzSW1kbGJ5STY= (truncated)</td></tr><tr><td>VlVFd01EQXdNREF4TURjek9USTBOVGc9</td><td>219255043</td><td>0</td><td>1593880892303</td><td>clickstream</td><td>ZXlKa1pYWnBZMlVpT2lKcFQxTWlMQ0psWTI5dGJXVnlZMlVpT250OUxDSmxkbVZ1ZEY5dVlXMWxJam9pWVdSa1gybDBaVzBpTENKbGRtVnVkRjl3Y21WMmFXOTFjMTkwYVcxbGMzUmhiWEFpT2pFMU9UTTRPREF6TURBMk9UWTM= (truncated)</td></tr><tr><td>VlVFd01EQXdNREF4TURjek9UVTVOamc9</td><td>219255108</td><td>0</td><td>1593880889174</td><td>clickstream</td><td>ZXlKa1pYWnBZMlVpT2lKdFlXTlBVeUlzSW1WamIyMXRaWEpqWlNJNmUzMHNJbVYyWlc1MFgyNWhiV1VpT2lKd2NtVnRhWFZ0SWl3aVpYWmxiblJmY0hKbGRtbHZkWE5mZEdsdFpYTjBZVzF3SWpveE5Ua3pPRGd3T0RZeE1ETXc= (truncated)</td></tr><tr><td>VlVFd01EQXdNREF4TURjek9UZ3dNekE9</td><td>219255118</td><td>0</td><td>1593880889725</td><td>clickstream</td><td>ZXlKa1pYWnBZMlVpT2lKcFQxTWlMQ0psWTI5dGJXVnlZMlVpT250OUxDSmxkbVZ1ZEY5dVlXMWxJam9pYjNKcFoybHVZV3dpTENKbGRtVnVkRjl3Y21WMmFXOTFjMTkwYVcxbGMzUmhiWEFpT2pFMU9UTTRPREE0T0RJME1qazU= (truncated)</td></tr><tr><td>VlVFd01EQXdNREF4TURjek9ESXlNek09</td><td>219438025</td><td>1</td><td>1593880886106</td><td>clickstream</td><td>ZXlKa1pYWnBZMlVpT2lKQmJtUnliMmxrSWl3aVpXTnZiVzFsY21ObElqcDdmU3dpWlhabGJuUmZibUZ0WlNJNkltTmpYMmx1Wm04aUxDSmxkbVZ1ZEY5d2NtVjJhVzkxYzE5MGFXMWxjM1JoYlhBaU9qRTFPVE00T0RBek5qUXo= (truncated)</td></tr><tr><td>VlVFd01EQXdNREF4TURjek9ESXlNek09</td><td>219438069</td><td>1</td><td>1593880886106</td><td>clickstream</td><td>ZXlKa1pYWnBZMlVpT2lKQmJtUnliMmxrSWl3aVpXTnZiVzFsY21ObElqcDdmU3dpWlhabGJuUmZibUZ0WlNJNkltTmpYMmx1Wm04aUxDSmxkbVZ1ZEY5d2NtVjJhVzkxYzE5MGFXMWxjM1JoYlhBaU9qRTFPVE00T0RBek5qUXo= (truncated)</td></tr><tr><td>VlVFd01EQXdNREF4TURjek9UZ3dNemM9</td><td>219438089</td><td>1</td><td>1593880887640</td><td>clickstream</td><td>ZXlKa1pYWnBZMlVpT2lKQmJtUnliMmxrSWl3aVpXTnZiVzFsY21ObElqcDdmU3dpWlhabGJuUmZibUZ0WlNJNkltUmxiR2wyWlhKNUlpd2laWFpsYm5SZmNISmxkbWx2ZFhOZmRHbHRaWE4wWVcxd0lqb3hOVGt6T0Rnd09EZ3k= (truncated)</td></tr><tr><td>VlVFd01EQXdNREF4TURjek9UZ3hOVGs9</td><td>219438114</td><td>1</td><td>1593880894803</td><td>clickstream</td><td>ZXlKa1pYWnBZMlVpT2lKdFlXTlBVeUlzSW1WamIyMXRaWEpqWlNJNmUzMHNJbVYyWlc1MFgyNWhiV1VpT2lKdFlXbHVJaXdpWlhabGJuUmZkR2x0WlhOMFlXMXdJam94TlRrek9EZ3dPRGswTnpnNU5UYzVMQ0puWlc4aU9uc2k= (truncated)</td></tr><tr><td>VlVFd01EQXdNREF4TURjek56WTBOamM9</td><td>219438126</td><td>1</td><td>1593880888445</td><td>clickstream</td><td>ZXlKa1pYWnBZMlVpT2lKWGFXNWtiM2R6SWl3aVpXTnZiVzFsY21ObElqcDdmU3dpWlhabGJuUmZibUZ0WlNJNkltTmhjblFpTENKbGRtVnVkRjl3Y21WMmFXOTFjMTkwYVcxbGMzUmhiWEFpT2pFMU9UTTROemsyTVRrNE5USTI= (truncated)</td></tr><tr><td>VlVFd01EQXdNREF4TURjek9UZ3dNemM9</td><td>219438135</td><td>1</td><td>1593880887640</td><td>clickstream</td><td>ZXlKa1pYWnBZMlVpT2lKQmJtUnliMmxrSWl3aVpXTnZiVzFsY21ObElqcDdmU3dpWlhabGJuUmZibUZ0WlNJNkltUmxiR2wyWlhKNUlpd2laWFpsYm5SZmNISmxkbWx2ZFhOZmRHbHRaWE4wWVcxd0lqb3hOVGt6T0Rnd09EZ3k= (truncated)</td></tr><tr><td>VlVFd01EQXdNREF4TURjek56WTBOamM9</td><td>219438172</td><td>1</td><td>1593880888445</td><td>clickstream</td><td>ZXlKa1pYWnBZMlVpT2lKWGFXNWtiM2R6SWl3aVpXTnZiVzFsY21ObElqcDdmU3dpWlhabGJuUmZibUZ0WlNJNkltTmhjblFpTENKbGRtVnVkRjl3Y21WMmFXOTFjMTkwYVcxbGMzUmhiWEFpT2pFMU9UTTROemsyTVRrNE5USTI= (truncated)</td></tr><tr><td>VlVFd01EQXdNREF4TURjek9ESXlNek09</td><td>219438185</td><td>1</td><td>1593880889716</td><td>clickstream</td><td>ZXlKa1pYWnBZMlVpT2lKQmJtUnliMmxrSWl3aVpXTnZiVzFsY21ObElqcDdJbkIxY21Ob1lYTmxYM0psZG1WdWRXVmZhVzVmZFhOa0lqbzVORFV1TUN3aWRHOTBZV3hmYVhSbGJWOXhkV0Z1ZEdsMGVTSTZNU3dpZFc1cGNYVmw= (truncated)</td></tr><tr><td>VlVFd01EQXdNREF4TURjek9UQTJNRFk9</td><td>219255011</td><td>0</td><td>1593880890536</td><td>clickstream</td><td>ZXlKa1pYWnBZMlVpT2lKQmJtUnliMmxrSWl3aVpXTnZiVzFsY21ObElqcDdmU3dpWlhabGJuUmZibUZ0WlNJNkluTm9hWEJ3YVc1blgybHVabThpTENKbGRtVnVkRjl3Y21WMmFXOTFjMTkwYVcxbGMzUmhiWEFpT2pFMU9UTTQ= (truncated)</td></tr><tr><td>VlVFd01EQXdNREF4TURjek9URTRNakE9</td><td>219255019</td><td>0</td><td>1593880890989</td><td>clickstream</td><td>ZXlKa1pYWnBZMlVpT2lKQmJtUnliMmxrSWl3aVpXTnZiVzFsY21ObElqcDdmU3dpWlhabGJuUmZibUZ0WlNJNkltMWhkSFJ5WlhOelpYTWlMQ0psZG1WdWRGOXdjbVYyYVc5MWMxOTBhVzFsYzNSaGJYQWlPakUxT1RNNE9EQXk= (truncated)</td></tr><tr><td>VlVFd01EQXdNREF4TURjek9UWXdOelE9</td><td>219255048</td><td>0</td><td>1593880886022</td><td>clickstream</td><td>ZXlKa1pYWnBZMlVpT2lKWGFXNWtiM2R6SWl3aVpXTnZiVzFsY21ObElqcDdmU3dpWlhabGJuUmZibUZ0WlNJNkluQnlaWE56SWl3aVpYWmxiblJmY0hKbGRtbHZkWE5mZEdsdFpYTjBZVzF3SWpveE5Ua3pPRGd3T0Rnd056VTQ= (truncated)</td></tr><tr><td>VlVFd01EQXdNREF4TURjek9ETXdNems9</td><td>219438003</td><td>1</td><td>1593880891842</td><td>clickstream</td><td>ZXlKa1pYWnBZMlVpT2lKQmJtUnliMmxrSWl3aVpXTnZiVzFsY21ObElqcDdmU3dpWlhabGJuUmZibUZ0WlNJNkluSmxaMmx6ZEdWeUlpd2laWFpsYm5SZmNISmxkbWx2ZFhOZmRHbHRaWE4wWVcxd0lqb3hOVGt6T0Rnd09EZzQ= (truncated)</td></tr><tr><td>VlVFd01EQXdNREF4TURjek9UZ3hORFU9</td><td>219438061</td><td>1</td><td>1593880893638</td><td>clickstream</td><td>ZXlKa1pYWnBZMlVpT2lKdFlXTlBVeUlzSW1WamIyMXRaWEpqWlNJNmUzMHNJbVYyWlc1MFgyNWhiV1VpT2lKdFlXbHVJaXdpWlhabGJuUmZkR2x0WlhOMFlXMXdJam94TlRrek9EZ3dPRGt6TlRreE5qTXhMQ0puWlc4aU9uc2k= (truncated)</td></tr><tr><td>VlVFd01EQXdNREF4TURjek9UZ3dNemM9</td><td>219438120</td><td>1</td><td>1593880883013</td><td>clickstream</td><td>ZXlKa1pYWnBZMlVpT2lKQmJtUnliMmxrSWl3aVpXTnZiVzFsY21ObElqcDdmU3dpWlhabGJuUmZibUZ0WlNJNkltMWhhVzRpTENKbGRtVnVkRjkwYVcxbGMzUmhiWEFpT2pFMU9UTTRPREE0T0RJNU5qUXlOaklzSW1kbGJ5STY= (truncated)</td></tr><tr><td>VlVFd01EQXdNREF4TURjek9ETXdNems9</td><td>219438130</td><td>1</td><td>1593880888575</td><td>clickstream</td><td>ZXlKa1pYWnBZMlVpT2lKQmJtUnliMmxrSWl3aVpXTnZiVzFsY21ObElqcDdmU3dpWlhabGJuUmZibUZ0WlNJNkltTm9aV05yYjNWMElpd2laWFpsYm5SZmNISmxkbWx2ZFhOZmRHbHRaWE4wWVcxd0lqb3hOVGt6T0Rnd09EYzQ= (truncated)</td></tr><tr><td>VlVFd01EQXdNREF4TURjek9ETXdNems9</td><td>219438181</td><td>1</td><td>1593880888575</td><td>clickstream</td><td>ZXlKa1pYWnBZMlVpT2lKQmJtUnliMmxrSWl3aVpXTnZiVzFsY21ObElqcDdmU3dpWlhabGJuUmZibUZ0WlNJNkltTm9aV05yYjNWMElpd2laWFpsYm5SZmNISmxkbWx2ZFhOZmRHbHRaWE4wWVcxd0lqb3hOVGt6T0Rnd09EYzQ= (truncated)</td></tr></tbody></table></div>"
      ]
     },
     "metadata": {
      "application/vnd.databricks.v1+output": {
       "addedWidgets": {},
       "aggData": [],
       "aggError": "",
       "aggOverflow": false,
       "aggSchema": [],
       "aggSeriesLimitReached": false,
       "aggType": "",
       "arguments": {},
       "columnCustomDisplayInfos": {},
       "data": [
        [
         "VlVFd01EQXdNREF4TURjek9UZ3dOVFE9",
         219255030,
         0,
         1593880885085,
         "clickstream",
         "ZXlKa1pYWnBZMlVpT2lKQmJtUnliMmxrSWl3aVpXTnZiVzFsY21ObElqcDdmU3dpWlhabGJuUmZibUZ0WlNJNkltMWhhVzRpTENKbGRtVnVkRjkwYVcxbGMzUmhiWEFpT2pFMU9UTTRPREE0T0RVd016WXhNamtzSW1kbGJ5STY= (truncated)"
        ],
        [
         "VlVFd01EQXdNREF4TURjek9USTBOVGc9",
         219255043,
         0,
         1593880892303,
         "clickstream",
         "ZXlKa1pYWnBZMlVpT2lKcFQxTWlMQ0psWTI5dGJXVnlZMlVpT250OUxDSmxkbVZ1ZEY5dVlXMWxJam9pWVdSa1gybDBaVzBpTENKbGRtVnVkRjl3Y21WMmFXOTFjMTkwYVcxbGMzUmhiWEFpT2pFMU9UTTRPREF6TURBMk9UWTM= (truncated)"
        ],
        [
         "VlVFd01EQXdNREF4TURjek9UVTVOamc9",
         219255108,
         0,
         1593880889174,
         "clickstream",
         "ZXlKa1pYWnBZMlVpT2lKdFlXTlBVeUlzSW1WamIyMXRaWEpqWlNJNmUzMHNJbVYyWlc1MFgyNWhiV1VpT2lKd2NtVnRhWFZ0SWl3aVpYWmxiblJmY0hKbGRtbHZkWE5mZEdsdFpYTjBZVzF3SWpveE5Ua3pPRGd3T0RZeE1ETXc= (truncated)"
        ],
        [
         "VlVFd01EQXdNREF4TURjek9UZ3dNekE9",
         219255118,
         0,
         1593880889725,
         "clickstream",
         "ZXlKa1pYWnBZMlVpT2lKcFQxTWlMQ0psWTI5dGJXVnlZMlVpT250OUxDSmxkbVZ1ZEY5dVlXMWxJam9pYjNKcFoybHVZV3dpTENKbGRtVnVkRjl3Y21WMmFXOTFjMTkwYVcxbGMzUmhiWEFpT2pFMU9UTTRPREE0T0RJME1qazU= (truncated)"
        ],
        [
         "VlVFd01EQXdNREF4TURjek9ESXlNek09",
         219438025,
         1,
         1593880886106,
         "clickstream",
         "ZXlKa1pYWnBZMlVpT2lKQmJtUnliMmxrSWl3aVpXTnZiVzFsY21ObElqcDdmU3dpWlhabGJuUmZibUZ0WlNJNkltTmpYMmx1Wm04aUxDSmxkbVZ1ZEY5d2NtVjJhVzkxYzE5MGFXMWxjM1JoYlhBaU9qRTFPVE00T0RBek5qUXo= (truncated)"
        ],
        [
         "VlVFd01EQXdNREF4TURjek9ESXlNek09",
         219438069,
         1,
         1593880886106,
         "clickstream",
         "ZXlKa1pYWnBZMlVpT2lKQmJtUnliMmxrSWl3aVpXTnZiVzFsY21ObElqcDdmU3dpWlhabGJuUmZibUZ0WlNJNkltTmpYMmx1Wm04aUxDSmxkbVZ1ZEY5d2NtVjJhVzkxYzE5MGFXMWxjM1JoYlhBaU9qRTFPVE00T0RBek5qUXo= (truncated)"
        ],
        [
         "VlVFd01EQXdNREF4TURjek9UZ3dNemM9",
         219438089,
         1,
         1593880887640,
         "clickstream",
         "ZXlKa1pYWnBZMlVpT2lKQmJtUnliMmxrSWl3aVpXTnZiVzFsY21ObElqcDdmU3dpWlhabGJuUmZibUZ0WlNJNkltUmxiR2wyWlhKNUlpd2laWFpsYm5SZmNISmxkbWx2ZFhOZmRHbHRaWE4wWVcxd0lqb3hOVGt6T0Rnd09EZ3k= (truncated)"
        ],
        [
         "VlVFd01EQXdNREF4TURjek9UZ3hOVGs9",
         219438114,
         1,
         1593880894803,
         "clickstream",
         "ZXlKa1pYWnBZMlVpT2lKdFlXTlBVeUlzSW1WamIyMXRaWEpqWlNJNmUzMHNJbVYyWlc1MFgyNWhiV1VpT2lKdFlXbHVJaXdpWlhabGJuUmZkR2x0WlhOMFlXMXdJam94TlRrek9EZ3dPRGswTnpnNU5UYzVMQ0puWlc4aU9uc2k= (truncated)"
        ],
        [
         "VlVFd01EQXdNREF4TURjek56WTBOamM9",
         219438126,
         1,
         1593880888445,
         "clickstream",
         "ZXlKa1pYWnBZMlVpT2lKWGFXNWtiM2R6SWl3aVpXTnZiVzFsY21ObElqcDdmU3dpWlhabGJuUmZibUZ0WlNJNkltTmhjblFpTENKbGRtVnVkRjl3Y21WMmFXOTFjMTkwYVcxbGMzUmhiWEFpT2pFMU9UTTROemsyTVRrNE5USTI= (truncated)"
        ],
        [
         "VlVFd01EQXdNREF4TURjek9UZ3dNemM9",
         219438135,
         1,
         1593880887640,
         "clickstream",
         "ZXlKa1pYWnBZMlVpT2lKQmJtUnliMmxrSWl3aVpXTnZiVzFsY21ObElqcDdmU3dpWlhabGJuUmZibUZ0WlNJNkltUmxiR2wyWlhKNUlpd2laWFpsYm5SZmNISmxkbWx2ZFhOZmRHbHRaWE4wWVcxd0lqb3hOVGt6T0Rnd09EZ3k= (truncated)"
        ],
        [
         "VlVFd01EQXdNREF4TURjek56WTBOamM9",
         219438172,
         1,
         1593880888445,
         "clickstream",
         "ZXlKa1pYWnBZMlVpT2lKWGFXNWtiM2R6SWl3aVpXTnZiVzFsY21ObElqcDdmU3dpWlhabGJuUmZibUZ0WlNJNkltTmhjblFpTENKbGRtVnVkRjl3Y21WMmFXOTFjMTkwYVcxbGMzUmhiWEFpT2pFMU9UTTROemsyTVRrNE5USTI= (truncated)"
        ],
        [
         "VlVFd01EQXdNREF4TURjek9ESXlNek09",
         219438185,
         1,
         1593880889716,
         "clickstream",
         "ZXlKa1pYWnBZMlVpT2lKQmJtUnliMmxrSWl3aVpXTnZiVzFsY21ObElqcDdJbkIxY21Ob1lYTmxYM0psZG1WdWRXVmZhVzVmZFhOa0lqbzVORFV1TUN3aWRHOTBZV3hmYVhSbGJWOXhkV0Z1ZEdsMGVTSTZNU3dpZFc1cGNYVmw= (truncated)"
        ],
        [
         "VlVFd01EQXdNREF4TURjek9UQTJNRFk9",
         219255011,
         0,
         1593880890536,
         "clickstream",
         "ZXlKa1pYWnBZMlVpT2lKQmJtUnliMmxrSWl3aVpXTnZiVzFsY21ObElqcDdmU3dpWlhabGJuUmZibUZ0WlNJNkluTm9hWEJ3YVc1blgybHVabThpTENKbGRtVnVkRjl3Y21WMmFXOTFjMTkwYVcxbGMzUmhiWEFpT2pFMU9UTTQ= (truncated)"
        ],
        [
         "VlVFd01EQXdNREF4TURjek9URTRNakE9",
         219255019,
         0,
         1593880890989,
         "clickstream",
         "ZXlKa1pYWnBZMlVpT2lKQmJtUnliMmxrSWl3aVpXTnZiVzFsY21ObElqcDdmU3dpWlhabGJuUmZibUZ0WlNJNkltMWhkSFJ5WlhOelpYTWlMQ0psZG1WdWRGOXdjbVYyYVc5MWMxOTBhVzFsYzNSaGJYQWlPakUxT1RNNE9EQXk= (truncated)"
        ],
        [
         "VlVFd01EQXdNREF4TURjek9UWXdOelE9",
         219255048,
         0,
         1593880886022,
         "clickstream",
         "ZXlKa1pYWnBZMlVpT2lKWGFXNWtiM2R6SWl3aVpXTnZiVzFsY21ObElqcDdmU3dpWlhabGJuUmZibUZ0WlNJNkluQnlaWE56SWl3aVpYWmxiblJmY0hKbGRtbHZkWE5mZEdsdFpYTjBZVzF3SWpveE5Ua3pPRGd3T0Rnd056VTQ= (truncated)"
        ],
        [
         "VlVFd01EQXdNREF4TURjek9ETXdNems9",
         219438003,
         1,
         1593880891842,
         "clickstream",
         "ZXlKa1pYWnBZMlVpT2lKQmJtUnliMmxrSWl3aVpXTnZiVzFsY21ObElqcDdmU3dpWlhabGJuUmZibUZ0WlNJNkluSmxaMmx6ZEdWeUlpd2laWFpsYm5SZmNISmxkbWx2ZFhOZmRHbHRaWE4wWVcxd0lqb3hOVGt6T0Rnd09EZzQ= (truncated)"
        ],
        [
         "VlVFd01EQXdNREF4TURjek9UZ3hORFU9",
         219438061,
         1,
         1593880893638,
         "clickstream",
         "ZXlKa1pYWnBZMlVpT2lKdFlXTlBVeUlzSW1WamIyMXRaWEpqWlNJNmUzMHNJbVYyWlc1MFgyNWhiV1VpT2lKdFlXbHVJaXdpWlhabGJuUmZkR2x0WlhOMFlXMXdJam94TlRrek9EZ3dPRGt6TlRreE5qTXhMQ0puWlc4aU9uc2k= (truncated)"
        ],
        [
         "VlVFd01EQXdNREF4TURjek9UZ3dNemM9",
         219438120,
         1,
         1593880883013,
         "clickstream",
         "ZXlKa1pYWnBZMlVpT2lKQmJtUnliMmxrSWl3aVpXTnZiVzFsY21ObElqcDdmU3dpWlhabGJuUmZibUZ0WlNJNkltMWhhVzRpTENKbGRtVnVkRjkwYVcxbGMzUmhiWEFpT2pFMU9UTTRPREE0T0RJNU5qUXlOaklzSW1kbGJ5STY= (truncated)"
        ],
        [
         "VlVFd01EQXdNREF4TURjek9ETXdNems9",
         219438130,
         1,
         1593880888575,
         "clickstream",
         "ZXlKa1pYWnBZMlVpT2lKQmJtUnliMmxrSWl3aVpXTnZiVzFsY21ObElqcDdmU3dpWlhabGJuUmZibUZ0WlNJNkltTm9aV05yYjNWMElpd2laWFpsYm5SZmNISmxkbWx2ZFhOZmRHbHRaWE4wWVcxd0lqb3hOVGt6T0Rnd09EYzQ= (truncated)"
        ],
        [
         "VlVFd01EQXdNREF4TURjek9ETXdNems9",
         219438181,
         1,
         1593880888575,
         "clickstream",
         "ZXlKa1pYWnBZMlVpT2lKQmJtUnliMmxrSWl3aVpXTnZiVzFsY21ObElqcDdmU3dpWlhabGJuUmZibUZ0WlNJNkltTm9aV05yYjNWMElpd2laWFpsYm5SZmNISmxkbWx2ZFhOZmRHbHRaWE4wWVcxd0lqb3hOVGt6T0Rnd09EYzQ= (truncated)"
        ]
       ],
       "datasetInfos": [],
       "dbfsResultPath": null,
       "isJsonSchema": true,
       "metadata": {
        "isDbfsCommandResult": false
       },
       "overflow": false,
       "plotOptions": {
        "customPlotOptions": {},
        "displayType": "table",
        "pivotAggregation": null,
        "pivotColumns": null,
        "xColumns": null,
        "yColumns": null
       },
       "removedWidgets": [],
       "schema": [
        {
         "metadata": "{}",
         "name": "key",
         "type": "\"binary\""
        },
        {
         "metadata": "{}",
         "name": "offset",
         "type": "\"long\""
        },
        {
         "metadata": "{}",
         "name": "partition",
         "type": "\"integer\""
        },
        {
         "metadata": "{}",
         "name": "timestamp",
         "type": "\"long\""
        },
        {
         "metadata": "{}",
         "name": "topic",
         "type": "\"string\""
        },
        {
         "metadata": "{}",
         "name": "value",
         "type": "\"binary\""
        }
       ],
       "type": "table"
      }
     },
     "output_type": "display_data"
    }
   ],
   "source": [
    "SELECT * FROM events_bronze LIMIT 20;"
   ]
  },
  {
   "cell_type": "markdown",
   "metadata": {
    "application/vnd.databricks.v1+cell": {
     "cellMetadata": {},
     "inputWidgets": {},
     "nuid": "02e50a3c-a9c6-44b7-8eff-f27917008af4",
     "showTitle": false,
     "tableResultSettingsMap": {},
     "title": ""
    }
   },
   "source": [
    "\n",
    "\n",
    "\n",
    "\n",
    "Run the cell below to confirm the data has been loaded correctly."
   ]
  },
  {
   "cell_type": "code",
   "execution_count": 0,
   "metadata": {
    "application/vnd.databricks.v1+cell": {
     "cellMetadata": {
      "byteLimit": 2048000,
      "rowLimit": 10000
     },
     "inputWidgets": {},
     "nuid": "e17153db-a779-47c1-9dcb-faa2410f180f",
     "showTitle": false,
     "tableResultSettingsMap": {},
     "title": ""
    }
   },
   "outputs": [
    {
     "output_type": "display_data",
     "data": {
      "text/html": [
       "<style>\n",
       "      table { text-align: left; border-collapse: collapse; margin: 1em; caption-side: bottom; font-family: Sans-Serif; font-size: 16px}\n",
       "      caption { text-align: left; padding: 5px }\n",
       "      th, td { border: 1px solid #ddd; padding: 5px }\n",
       "      th { background-color: #ddd }\n",
       "      .passed { background-color: #97d897 }\n",
       "      .failed { background-color: #e2716c }\n",
       "      .skipped { background-color: #f9d275 }\n",
       "      .results .points { display: none }\n",
       "      .results .message { display: block; font-size:smaller; color:gray }\n",
       "      .results .note { display: block; font-size:smaller; font-decoration:italics }\n",
       "      .results .passed::before  { content: \"Passed\" }\n",
       "      .results .failed::before  { content: \"Failed\" }\n",
       "      .results .skipped::before { content: \"Skipped\" }\n",
       "      .grade .passed  .message:empty::before { content:\"Passed\" }\n",
       "      .grade .failed  .message:empty::before { content:\"Failed\" }\n",
       "      .grade .skipped .message:empty::before { content:\"Skipped\" }\n",
       "    </style>\n",
       "<table class='results'>\n",
       "  <tr><th class='points'>Points</th><th class='test'>Test</th><th class='result'>Result</th></tr>\n",
       "<tr>\n",
       "  <td class='points'>1</td>\n",
       "  <td class='test'>\n",
       "    Created the table \"events_bronze\"\n",
       "  </td>\n",
       "  <td class='result passed'></td>\n",
       "</tr>\n",
       "<tr>\n",
       "  <td class='points'>1</td>\n",
       "  <td class='test'>\n",
       "    The table should have 2252 records\n",
       "  </td>\n",
       "  <td class='result passed'></td>\n",
       "</tr>\n",
       "<tr>\n",
       "  <td class='points'>1</td>\n",
       "  <td class='test'>\n",
       "    First 5 values are correct\n",
       "  </td>\n",
       "  <td class='result passed'></td>\n",
       "</tr>\n",
       "<tr>\n",
       "  <td class='points'>1</td>\n",
       "  <td class='test'>\n",
       "    Last 5 values are correct\n",
       "  </td>\n",
       "  <td class='result passed'></td>\n",
       "</tr>\n",
       "  <caption class='points'>Score: 4</caption>\n",
       "</table>"
      ]
     },
     "metadata": {},
     "output_type": "display_data"
    }
   ],
   "source": [
    "%python\n",
    "import pyspark.sql.functions as F\n",
    "\n",
    "suite = DA.tests.new(\"Validate events_bronze\")\n",
    "expected_table = lambda: spark.table(\"events_bronze\")\n",
    "suite.test_not_none(lambda: expected_table(), \"Created the table \\\"events_bronze\\\"\")\n",
    "suite.test_equals(lambda: expected_table().count(), 2252, \"The table should have 2252 records\")\n",
    "\n",
    "first_five = lambda: [r[\"timestamp\"] for r in expected_table().orderBy(F.col(\"timestamp\").asc()).limit(5).collect()]\n",
    "suite.test_sequence(first_five, [1593879303631, 1593879304224, 1593879305465, 1593879305482, 1593879305746], True, \"First 5 values are correct\")\n",
    "\n",
    "last_five = lambda: [r[\"timestamp\"] for r in expected_table().orderBy(F.col(\"timestamp\").desc()).limit(5).collect()]\n",
    "suite.test_sequence(last_five, [1593881096290, 1593881095799, 1593881093452, 1593881093394, 1593881092076], True, \"Last 5 values are correct\")\n",
    "\n",
    "suite.display_results()\n",
    "assert suite.passed"
   ]
  },
  {
   "cell_type": "markdown",
   "metadata": {
    "application/vnd.databricks.v1+cell": {
     "cellMetadata": {},
     "inputWidgets": {},
     "nuid": "7b5ca8c0-e566-48e4-acba-4b0a33bd179b",
     "showTitle": false,
     "tableResultSettingsMap": {},
     "title": ""
    }
   },
   "source": [
    "\n",
    "\n",
    "## Create a Delta Table From Query Results\n",
    "\n",
    "In addition to new events data, let's also load a small lookup table that provides product details that we'll use later in the course.\n",
    "Use a CTAS statement to create a managed Delta table named **`item_lookup`** that extracts data from the parquet directory provided below."
   ]
  },
  {
   "cell_type": "code",
   "execution_count": 0,
   "metadata": {
    "application/vnd.databricks.v1+cell": {
     "cellMetadata": {
      "byteLimit": 2048000,
      "rowLimit": 10000
     },
     "inputWidgets": {},
     "nuid": "a3dda6ea-0c4a-4412-801a-c4b69c9a6eb2",
     "showTitle": false,
     "tableResultSettingsMap": {},
     "title": ""
    }
   },
   "outputs": [
    {
     "output_type": "display_data",
     "data": {
      "text/html": [
       "<style scoped>\n",
       "  .table-result-container {\n",
       "    max-height: 300px;\n",
       "    overflow: auto;\n",
       "  }\n",
       "  table, th, td {\n",
       "    border: 1px solid black;\n",
       "    border-collapse: collapse;\n",
       "  }\n",
       "  th, td {\n",
       "    padding: 5px;\n",
       "  }\n",
       "  th {\n",
       "    text-align: left;\n",
       "  }\n",
       "</style><div class='table-result-container'><table class='table-result'><thead style='background-color: white'><tr><th>num_affected_rows</th><th>num_inserted_rows</th></tr></thead><tbody></tbody></table></div>"
      ]
     },
     "metadata": {
      "application/vnd.databricks.v1+output": {
       "addedWidgets": {},
       "aggData": [],
       "aggError": "",
       "aggOverflow": false,
       "aggSchema": [],
       "aggSeriesLimitReached": false,
       "aggType": "",
       "arguments": {},
       "columnCustomDisplayInfos": {},
       "data": [],
       "datasetInfos": [],
       "dbfsResultPath": null,
       "isJsonSchema": true,
       "metadata": {
        "isDbfsCommandResult": false
       },
       "overflow": false,
       "plotOptions": {
        "customPlotOptions": {},
        "displayType": "table",
        "pivotAggregation": null,
        "pivotColumns": null,
        "xColumns": null,
        "yColumns": null
       },
       "removedWidgets": [],
       "schema": [
        {
         "metadata": "{}",
         "name": "num_affected_rows",
         "type": "\"long\""
        },
        {
         "metadata": "{}",
         "name": "num_inserted_rows",
         "type": "\"long\""
        }
       ],
       "type": "table"
      }
     },
     "output_type": "display_data"
    }
   ],
   "source": [
    "CREATE OR REPLACE TABLE item_lookup\n",
    "    AS SELECT * FROM parquet.`${da.paths.datasets}/ecommerce/raw/item-lookup`"
   ]
  },
  {
   "cell_type": "markdown",
   "metadata": {
    "application/vnd.databricks.v1+cell": {
     "cellMetadata": {},
     "inputWidgets": {},
     "nuid": "642e5771-eca4-4901-b016-032e39b99629",
     "showTitle": false,
     "tableResultSettingsMap": {},
     "title": ""
    }
   },
   "source": [
    "\n",
    "\n",
    "\n",
    "\n",
    "Run the cell below to confirm the lookup table has been loaded correctly."
   ]
  },
  {
   "cell_type": "code",
   "execution_count": 0,
   "metadata": {
    "application/vnd.databricks.v1+cell": {
     "cellMetadata": {
      "byteLimit": 2048000,
      "rowLimit": 10000
     },
     "inputWidgets": {},
     "nuid": "6bed2b2a-f536-473f-b5aa-fb68edad6462",
     "showTitle": false,
     "tableResultSettingsMap": {},
     "title": ""
    }
   },
   "outputs": [
    {
     "output_type": "display_data",
     "data": {
      "text/html": [
       "<style>\n",
       "      table { text-align: left; border-collapse: collapse; margin: 1em; caption-side: bottom; font-family: Sans-Serif; font-size: 16px}\n",
       "      caption { text-align: left; padding: 5px }\n",
       "      th, td { border: 1px solid #ddd; padding: 5px }\n",
       "      th { background-color: #ddd }\n",
       "      .passed { background-color: #97d897 }\n",
       "      .failed { background-color: #e2716c }\n",
       "      .skipped { background-color: #f9d275 }\n",
       "      .results .points { display: none }\n",
       "      .results .message { display: block; font-size:smaller; color:gray }\n",
       "      .results .note { display: block; font-size:smaller; font-decoration:italics }\n",
       "      .results .passed::before  { content: \"Passed\" }\n",
       "      .results .failed::before  { content: \"Failed\" }\n",
       "      .results .skipped::before { content: \"Skipped\" }\n",
       "      .grade .passed  .message:empty::before { content:\"Passed\" }\n",
       "      .grade .failed  .message:empty::before { content:\"Failed\" }\n",
       "      .grade .skipped .message:empty::before { content:\"Skipped\" }\n",
       "    </style>\n",
       "<table class='results'>\n",
       "  <tr><th class='points'>Points</th><th class='test'>Test</th><th class='result'>Result</th></tr>\n",
       "<tr>\n",
       "  <td class='points'>1</td>\n",
       "  <td class='test'>\n",
       "    Created the table \"item_lookup\"\n",
       "  </td>\n",
       "  <td class='result passed'></td>\n",
       "</tr>\n",
       "<tr>\n",
       "  <td class='points'>1</td>\n",
       "  <td class='test'>\n",
       "    Contains the 12 expected item IDs\n",
       "  </td>\n",
       "  <td class='result passed'></td>\n",
       "</tr>\n",
       "  <caption class='points'>Score: 2</caption>\n",
       "</table>"
      ]
     },
     "metadata": {},
     "output_type": "display_data"
    }
   ],
   "source": [
    "%python\n",
    "suite = DA.tests.new(\"Validate item_lookup\")\n",
    "expected_table = lambda: spark.table(\"item_lookup\")\n",
    "suite.test_not_none(lambda: expected_table(), \"Created the table \\\"item_lookup\\\"\")\n",
    "\n",
    "actual_values = lambda: [r[\"item_id\"] for r in expected_table().collect()]\n",
    "expected_values = ['M_PREM_Q','M_STAN_F','M_PREM_F','M_PREM_T','M_PREM_K','P_DOWN_S','M_STAN_Q','M_STAN_K','M_STAN_T','P_FOAM_S','P_FOAM_K','P_DOWN_K']\n",
    "suite.test_sequence(actual_values, expected_values, False, \"Contains the 12 expected item IDs\")\n",
    "\n",
    "suite.display_results()\n",
    "assert suite.passed"
   ]
  },
  {
   "cell_type": "markdown",
   "metadata": {
    "application/vnd.databricks.v1+cell": {
     "cellMetadata": {},
     "inputWidgets": {},
     "nuid": "14977441-5f35-4c12-bef6-d8d84f22fc72",
     "showTitle": false,
     "tableResultSettingsMap": {},
     "title": ""
    }
   },
   "source": [
    "\n",
    "\n",
    " \n",
    "Run the following cell to delete the tables and files associated with this lesson."
   ]
  },
  {
   "cell_type": "code",
   "execution_count": 0,
   "metadata": {
    "application/vnd.databricks.v1+cell": {
     "cellMetadata": {
      "byteLimit": 2048000,
      "rowLimit": 10000
     },
     "inputWidgets": {},
     "nuid": "2d9e040f-8e3e-4b8f-976c-9b8e0e2b54d3",
     "showTitle": false,
     "tableResultSettingsMap": {},
     "title": ""
    }
   },
   "outputs": [
    {
     "output_type": "stream",
     "name": "stdout",
     "output_type": "stream",
     "text": [
      "Resetting the learning environment:\n| dropping the catalog \"labuser9693205_1742837481_u8bu_da\"...(0 seconds)\n\nValidating the locally installed datasets:\n| listing local files...(6 seconds)\n| validation completed...(6 seconds total)\n"
     ]
    }
   ],
   "source": [
    "%python\n",
    "DA.cleanup()"
   ]
  },
  {
   "cell_type": "markdown",
   "metadata": {
    "application/vnd.databricks.v1+cell": {
     "cellMetadata": {},
     "inputWidgets": {},
     "nuid": "d03988c5-c6ff-4769-962e-82e4549e5a02",
     "showTitle": false,
     "tableResultSettingsMap": {},
     "title": ""
    }
   },
   "source": [
    "\n",
    "&copy; 2024 Databricks, Inc. All rights reserved.<br/>\n",
    "Apache, Apache Spark, Spark and the Spark logo are trademarks of the \n",
    "<a href=\"https://www.apache.org/\">Apache Software Foundation</a>.<br/>\n",
    "<br/><a href=\"https://databricks.com/privacy-policy\">Privacy Policy</a> | \n",
    "<a href=\"https://databricks.com/terms-of-use\">Terms of Use</a> | \n",
    "<a href=\"https://help.databricks.com/\">Support</a>"
   ]
  }
 ],
 "metadata": {
  "application/vnd.databricks.v1+notebook": {
   "computePreferences": null,
   "dashboards": [],
   "environmentMetadata": null,
   "inputWidgetPreferences": null,
   "language": "sql",
   "notebookMetadata": {
    "pythonIndentUnit": 4
   },
   "notebookName": "3L - Load Data Lab",
   "widgets": {}
  },
  "language_info": {
   "name": "sql"
  }
 },
 "nbformat": 4,
 "nbformat_minor": 0
}