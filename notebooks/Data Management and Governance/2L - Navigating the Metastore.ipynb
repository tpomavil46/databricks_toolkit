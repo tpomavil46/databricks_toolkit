{
 "cells": [
  {
   "cell_type": "markdown",
   "metadata": {
    "application/vnd.databricks.v1+cell": {
     "cellMetadata": {},
     "inputWidgets": {},
     "nuid": "191c4cfd-9bca-400c-9160-0857c10a8d76",
     "showTitle": false,
     "tableResultSettingsMap": {},
     "title": ""
    }
   },
   "source": [
    "\n",
    "<div style=\"text-align: center; line-height: 0; padding-top: 9px;\">\n",
    "  <img src=\"https://databricks.com/wp-content/uploads/2018/03/db-academy-rgb-1200px.png\" alt=\"Databricks Learning\">\n",
    "</div>\n"
   ]
  },
  {
   "cell_type": "markdown",
   "metadata": {
    "application/vnd.databricks.v1+cell": {
     "cellMetadata": {},
     "inputWidgets": {},
     "nuid": "8580e43a-209a-440f-8785-3966b535e89c",
     "showTitle": false,
     "tableResultSettingsMap": {},
     "title": ""
    }
   },
   "source": [
    "# Lab: Navigating the Metastore\n",
    "In this demo, we'll explore the structure and functionality of a metastore, delving into its various components like catalogs, schemas, and tables. We'll employ SQL commands such as SHOW and DESCRIBE to inspect and analyze these elements, enhancing our understanding of the metastore's configuration and the properties of different data objects. Additionally, we'll examine the roles of system catalogs and information_schema in metadata management, and highlight the importance of data lineage in data governance. This hands-on demonstration will equip participants with the knowledge to effectively navigate and utilize metastores in a cloud environment."
   ]
  },
  {
   "cell_type": "markdown",
   "metadata": {
    "application/vnd.databricks.v1+cell": {
     "cellMetadata": {},
     "inputWidgets": {},
     "nuid": "04e5e3b1-5a4a-48eb-865d-d0a86df76fbc",
     "showTitle": false,
     "tableResultSettingsMap": {},
     "title": ""
    }
   },
   "source": [
    "### Learning Objectives\n",
    "By the end of this demo, you will be able to:\n",
    "1. Discuss the structure and function of a metastore, including its different components such as catalogs, schemas, and tables.\n",
    "2. Apply SQL commands like `SHOW` and `DESCRIBE` to inspect and explore different elements within the metastore, such as catalogs, schemas, tables, user-defined functions, and privileges.\n",
    "3. Analyze and interpret the configuration of the metastore and the properties of various data objects.\n",
    "4. Evaluate the roles of the system catalog and the information_schema in managing and accessing metadata.\n",
    "5. Identify and explain the importance of data lineage as part of data governance.\n"
   ]
  },
  {
   "cell_type": "markdown",
   "metadata": {
    "application/vnd.databricks.v1+cell": {
     "cellMetadata": {},
     "inputWidgets": {},
     "nuid": "cebc75ec-1c76-4d14-86ee-47a77674c226",
     "showTitle": false,
     "tableResultSettingsMap": {},
     "title": ""
    }
   },
   "source": [
    "## REQUIRED - SELECT CLASSIC COMPUTE\n",
    "\n",
    "Before executing cells in this notebook, please select your classic compute cluster in the lab. Be aware that **Serverless** is enabled by default.\n",
    "\n",
    "Follow these steps to select the classic compute cluster:\n",
    "\n",
    "1. Navigate to the top-right of this notebook and click the drop-down menu to select your cluster. By default, the notebook will use **Serverless**.\n",
    "\n",
    "1. If your cluster is available, select it and continue to the next cell. If the cluster is not shown:\n",
    "\n",
    "  - In the drop-down, select **More**.\n",
    "\n",
    "  - In the **Attach to an existing compute resource** pop-up, select the first drop-down. You will see a unique cluster name in that drop-down. Please select that cluster.\n",
    "\n",
    "**NOTE:** If your cluster has terminated, you might need to restart it in order to select it. To do this:\n",
    "\n",
    "1. Right-click on **Compute** in the left navigation pane and select *Open in new tab*.\n",
    "\n",
    "1. Find the triangle icon to the right of your compute cluster name and click it.\n",
    "\n",
    "1. Wait a few minutes for the cluster to start.\n",
    "\n",
    "1. Once the cluster is running, complete the steps above to select your cluster."
   ]
  },
  {
   "cell_type": "markdown",
   "metadata": {
    "application/vnd.databricks.v1+cell": {
     "cellMetadata": {},
     "inputWidgets": {},
     "nuid": "002bdf11-71a6-482d-a86c-cdc6ebe1207a",
     "showTitle": false,
     "tableResultSettingsMap": {},
     "title": ""
    }
   },
   "source": [
    "## Classroom Setup\n",
    "\n",
    "Run the following cell to configure your working environment for this course. It will also set your default catalog to your specific catalog and the schema to the schema name shown below using the `USE` statements.\n",
    "<br></br>\n",
    "\n",
    "\n",
    "```\n",
    "USE CATALOG <your catalog>;\n",
    "USE SCHEMA <your catalog>.<schema>;\n",
    "```\n",
    "\n",
    "**NOTE:** The `DA` object is only used in Databricks Academy courses and is not available outside of these courses. It will dynamically reference the information needed to run the course."
   ]
  },
  {
   "cell_type": "code",
   "execution_count": 0,
   "metadata": {
    "application/vnd.databricks.v1+cell": {
     "cellMetadata": {
      "byteLimit": 2048000,
      "rowLimit": 10000
     },
     "inputWidgets": {},
     "nuid": "cce1d017-8d17-4532-9efe-26c8713d82ab",
     "showTitle": false,
     "tableResultSettingsMap": {},
     "title": ""
    }
   },
   "outputs": [
    {
     "output_type": "stream",
     "name": "stdout",
     "output_type": "stream",
     "text": [
      "\u001B[43mNote: you may need to restart the kernel using %restart_python or dbutils.library.restartPython() to use updated packages.\u001B[0m\n"
     ]
    },
    {
     "output_type": "stream",
     "name": "stdout",
     "output_type": "stream",
     "text": [
      "Created the silver table and vw_gold view in your catalog labuser9907309_1744210882 with the example schema.\nSet the default catalog to labuser9907309_1744210882.\nSet the default schema to example.\n"
     ]
    },
    {
     "output_type": "display_data",
     "data": {
      "text/html": [
       "<table style=\"width:100%\">\n",
       "            <tr>\n",
       "                <td style=\"white-space:nowrap; width:1em\">Your Unity Catalog name:</td>\n",
       "                <td><input type=\"text\" value=\"labuser9907309_1744210882\" style=\"width: 100%\"></td></tr>\n",
       "            <tr>\n",
       "                <td style=\"white-space:nowrap; width:1em\">Your Schema Name:</td>\n",
       "                <td><input type=\"text\" value=\"example\" style=\"width: 100%\"></td></tr></table>"
      ]
     },
     "metadata": {},
     "output_type": "display_data"
    }
   ],
   "source": [
    "%run ./Includes/Classroom-Setup-2"
   ]
  },
  {
   "cell_type": "markdown",
   "metadata": {
    "application/vnd.databricks.v1+cell": {
     "cellMetadata": {},
     "inputWidgets": {},
     "nuid": "7c251e30-d0d1-42df-a1d3-dc3da3e02b04",
     "showTitle": false,
     "tableResultSettingsMap": {},
     "title": ""
    }
   },
   "source": [
    "## A. Analyze Data Objects in Classroom Setup\n",
    "Let us analyze the current data objects and their components during the classroom setup."
   ]
  },
  {
   "cell_type": "markdown",
   "metadata": {
    "application/vnd.databricks.v1+cell": {
     "cellMetadata": {},
     "inputWidgets": {},
     "nuid": "a9b4b9fe-fce0-40c9-8c0a-0c37d0477e73",
     "showTitle": false,
     "tableResultSettingsMap": {},
     "title": ""
    }
   },
   "source": [
    "### A1. Analyze the Current Catalog\n",
    "\n",
    "1. Run code to view your current default catalog. Confirm that the catalog name displayed above is your current catalog.\n"
   ]
  },
  {
   "cell_type": "code",
   "execution_count": 0,
   "metadata": {
    "application/vnd.databricks.v1+cell": {
     "cellMetadata": {
      "byteLimit": 2048000,
      "rowLimit": 10000
     },
     "inputWidgets": {},
     "nuid": "718a134c-7ba4-4ff9-86cb-c0c1f94ed5e4",
     "showTitle": false,
     "tableResultSettingsMap": {},
     "title": ""
    }
   },
   "outputs": [
    {
     "output_type": "display_data",
     "data": {
      "text/html": [
       "<style scoped>\n",
       "  .table-result-container {\n",
       "    max-height: 300px;\n",
       "    overflow: auto;\n",
       "  }\n",
       "  table, th, td {\n",
       "    border: 1px solid black;\n",
       "    border-collapse: collapse;\n",
       "  }\n",
       "  th, td {\n",
       "    padding: 5px;\n",
       "  }\n",
       "  th {\n",
       "    text-align: left;\n",
       "  }\n",
       "</style><div class='table-result-container'><table class='table-result'><thead style='background-color: white'><tr><th>current_catalog()</th></tr></thead><tbody><tr><td>labuser9907309_1744210882</td></tr></tbody></table></div>"
      ]
     },
     "metadata": {
      "application/vnd.databricks.v1+output": {
       "addedWidgets": {},
       "aggData": [],
       "aggError": "",
       "aggOverflow": false,
       "aggSchema": [],
       "aggSeriesLimitReached": false,
       "aggType": "",
       "arguments": {},
       "columnCustomDisplayInfos": {},
       "data": [
        [
         "labuser9907309_1744210882"
        ]
       ],
       "datasetInfos": [],
       "dbfsResultPath": null,
       "isJsonSchema": true,
       "metadata": {
        "isDbfsCommandResult": false
       },
       "overflow": false,
       "plotOptions": {
        "customPlotOptions": {},
        "displayType": "table",
        "pivotAggregation": null,
        "pivotColumns": null,
        "xColumns": null,
        "yColumns": null
       },
       "removedWidgets": [],
       "schema": [
        {
         "metadata": "{\"__autoGeneratedAlias\":\"true\"}",
         "name": "current_catalog()",
         "type": "\"string\""
        }
       ],
       "type": "table"
      }
     },
     "output_type": "display_data"
    }
   ],
   "source": [
    "SELECT current_catalog();"
   ]
  },
  {
   "cell_type": "markdown",
   "metadata": {
    "application/vnd.databricks.v1+cell": {
     "cellMetadata": {},
     "inputWidgets": {},
     "nuid": "68086733-7dfd-4a9f-a250-e1db58c67982",
     "showTitle": false,
     "tableResultSettingsMap": {},
     "title": ""
    }
   },
   "source": [
    "### A2. Analyze the Current Schema\n",
    "\n",
    "1. Run code to view your current default schema. Confirm that your current schema is **example**.\n"
   ]
  },
  {
   "cell_type": "code",
   "execution_count": 0,
   "metadata": {
    "application/vnd.databricks.v1+cell": {
     "cellMetadata": {
      "byteLimit": 2048000,
      "rowLimit": 10000
     },
     "inputWidgets": {},
     "nuid": "dcbde49b-4d91-4cc9-873f-6045e50a3091",
     "showTitle": false,
     "tableResultSettingsMap": {},
     "title": ""
    }
   },
   "outputs": [
    {
     "output_type": "display_data",
     "data": {
      "text/html": [
       "<style scoped>\n",
       "  .table-result-container {\n",
       "    max-height: 300px;\n",
       "    overflow: auto;\n",
       "  }\n",
       "  table, th, td {\n",
       "    border: 1px solid black;\n",
       "    border-collapse: collapse;\n",
       "  }\n",
       "  th, td {\n",
       "    padding: 5px;\n",
       "  }\n",
       "  th {\n",
       "    text-align: left;\n",
       "  }\n",
       "</style><div class='table-result-container'><table class='table-result'><thead style='background-color: white'><tr><th>current_schema()</th></tr></thead><tbody><tr><td>example</td></tr></tbody></table></div>"
      ]
     },
     "metadata": {
      "application/vnd.databricks.v1+output": {
       "addedWidgets": {},
       "aggData": [],
       "aggError": "",
       "aggOverflow": false,
       "aggSchema": [],
       "aggSeriesLimitReached": false,
       "aggType": "",
       "arguments": {},
       "columnCustomDisplayInfos": {},
       "data": [
        [
         "example"
        ]
       ],
       "datasetInfos": [],
       "dbfsResultPath": null,
       "isJsonSchema": true,
       "metadata": {
        "isDbfsCommandResult": false
       },
       "overflow": false,
       "plotOptions": {
        "customPlotOptions": {},
        "displayType": "table",
        "pivotAggregation": null,
        "pivotColumns": null,
        "xColumns": null,
        "yColumns": null
       },
       "removedWidgets": [],
       "schema": [
        {
         "metadata": "{\"__autoGeneratedAlias\":\"true\"}",
         "name": "current_schema()",
         "type": "\"string\""
        }
       ],
       "type": "table"
      }
     },
     "output_type": "display_data"
    }
   ],
   "source": [
    "SELECT current_schema();"
   ]
  },
  {
   "cell_type": "markdown",
   "metadata": {
    "application/vnd.databricks.v1+cell": {
     "cellMetadata": {},
     "inputWidgets": {},
     "nuid": "84212207-e72e-46ee-9752-0f38569f4531",
     "showTitle": false,
     "tableResultSettingsMap": {},
     "title": ""
    }
   },
   "source": [
    "### A3. Analyze the List of Available Tables and Views in the Custom Schema\n",
    "\n",
    "1. Let us analyze your **example** schema to display a list of tables and views. Confirm that the schema contains the **silver** table and the **vw_gold** view.\n"
   ]
  },
  {
   "cell_type": "code",
   "execution_count": 0,
   "metadata": {
    "application/vnd.databricks.v1+cell": {
     "cellMetadata": {
      "byteLimit": 2048000,
      "rowLimit": 10000
     },
     "inputWidgets": {},
     "nuid": "cd659981-313e-4893-92d0-64a57e9ba275",
     "showTitle": false,
     "tableResultSettingsMap": {},
     "title": ""
    }
   },
   "outputs": [
    {
     "output_type": "display_data",
     "data": {
      "text/html": [
       "<style scoped>\n",
       "  .table-result-container {\n",
       "    max-height: 300px;\n",
       "    overflow: auto;\n",
       "  }\n",
       "  table, th, td {\n",
       "    border: 1px solid black;\n",
       "    border-collapse: collapse;\n",
       "  }\n",
       "  th, td {\n",
       "    padding: 5px;\n",
       "  }\n",
       "  th {\n",
       "    text-align: left;\n",
       "  }\n",
       "</style><div class='table-result-container'><table class='table-result'><thead style='background-color: white'><tr><th>database</th><th>tableName</th><th>isTemporary</th></tr></thead><tbody><tr><td>example</td><td>silver</td><td>false</td></tr><tr><td>example</td><td>vw_gold</td><td>false</td></tr></tbody></table></div>"
      ]
     },
     "metadata": {
      "application/vnd.databricks.v1+output": {
       "addedWidgets": {},
       "aggData": [],
       "aggError": "",
       "aggOverflow": false,
       "aggSchema": [],
       "aggSeriesLimitReached": false,
       "aggType": "",
       "arguments": {},
       "columnCustomDisplayInfos": {},
       "data": [
        [
         "example",
         "silver",
         false
        ],
        [
         "example",
         "vw_gold",
         false
        ]
       ],
       "datasetInfos": [],
       "dbfsResultPath": null,
       "isJsonSchema": true,
       "metadata": {
        "isDbfsCommandResult": false
       },
       "overflow": false,
       "plotOptions": {
        "customPlotOptions": {},
        "displayType": "table",
        "pivotAggregation": null,
        "pivotColumns": null,
        "xColumns": null,
        "yColumns": null
       },
       "removedWidgets": [],
       "schema": [
        {
         "metadata": "{}",
         "name": "database",
         "type": "\"string\""
        },
        {
         "metadata": "{}",
         "name": "tableName",
         "type": "\"string\""
        },
        {
         "metadata": "{}",
         "name": "isTemporary",
         "type": "\"boolean\""
        }
       ],
       "type": "table"
      }
     },
     "output_type": "display_data"
    }
   ],
   "source": [
    "SHOW TABLES IN example;"
   ]
  },
  {
   "cell_type": "markdown",
   "metadata": {
    "application/vnd.databricks.v1+cell": {
     "cellMetadata": {},
     "inputWidgets": {},
     "nuid": "38a2b891-ebc9-4b6f-b53d-70345c423347",
     "showTitle": false,
     "tableResultSettingsMap": {},
     "title": ""
    }
   },
   "source": [
    "2. Display the available views in your current schema. Confirm the schema contains the view **vw_gold**."
   ]
  },
  {
   "cell_type": "code",
   "execution_count": 0,
   "metadata": {
    "application/vnd.databricks.v1+cell": {
     "cellMetadata": {
      "byteLimit": 2048000,
      "rowLimit": 10000
     },
     "inputWidgets": {},
     "nuid": "317d5da0-beaa-43e4-9fb4-fef7419a00c3",
     "showTitle": false,
     "tableResultSettingsMap": {},
     "title": ""
    }
   },
   "outputs": [
    {
     "output_type": "display_data",
     "data": {
      "text/html": [
       "<style scoped>\n",
       "  .table-result-container {\n",
       "    max-height: 300px;\n",
       "    overflow: auto;\n",
       "  }\n",
       "  table, th, td {\n",
       "    border: 1px solid black;\n",
       "    border-collapse: collapse;\n",
       "  }\n",
       "  th, td {\n",
       "    padding: 5px;\n",
       "  }\n",
       "  th {\n",
       "    text-align: left;\n",
       "  }\n",
       "</style><div class='table-result-container'><table class='table-result'><thead style='background-color: white'><tr><th>namespace</th><th>viewName</th><th>isTemporary</th><th>isMaterialized</th></tr></thead><tbody><tr><td>example</td><td>vw_gold</td><td>false</td><td>false</td></tr></tbody></table></div>"
      ]
     },
     "metadata": {
      "application/vnd.databricks.v1+output": {
       "addedWidgets": {},
       "aggData": [],
       "aggError": "",
       "aggOverflow": false,
       "aggSchema": [],
       "aggSeriesLimitReached": false,
       "aggType": "",
       "arguments": {},
       "columnCustomDisplayInfos": {},
       "data": [
        [
         "example",
         "vw_gold",
         false,
         false
        ]
       ],
       "datasetInfos": [],
       "dbfsResultPath": null,
       "isJsonSchema": true,
       "metadata": {
        "isDbfsCommandResult": false
       },
       "overflow": false,
       "plotOptions": {
        "customPlotOptions": {},
        "displayType": "table",
        "pivotAggregation": null,
        "pivotColumns": null,
        "xColumns": null,
        "yColumns": null
       },
       "removedWidgets": [],
       "schema": [
        {
         "metadata": "{}",
         "name": "namespace",
         "type": "\"string\""
        },
        {
         "metadata": "{}",
         "name": "viewName",
         "type": "\"string\""
        },
        {
         "metadata": "{}",
         "name": "isTemporary",
         "type": "\"boolean\""
        },
        {
         "metadata": "{}",
         "name": "isMaterialized",
         "type": "\"boolean\""
        }
       ],
       "type": "table"
      }
     },
     "output_type": "display_data"
    }
   ],
   "source": [
    "SHOW VIEWS IN example"
   ]
  },
  {
   "cell_type": "markdown",
   "metadata": {
    "application/vnd.databricks.v1+cell": {
     "cellMetadata": {},
     "inputWidgets": {},
     "nuid": "e20cf016-681b-4ce9-ae6d-f1fd3b4bf9cf",
     "showTitle": false,
     "tableResultSettingsMap": {},
     "title": ""
    }
   },
   "source": [
    "**NOTE:** `SHOW TABLES` will display both tables and views, and `SHOW VIEWS` will only show views. From the above observation, there are the following tables and views in the custom schema:\n",
    "1. Table\\(s\\): **silver**\n",
    "2. View\\(s\\): **vw_gold**"
   ]
  },
  {
   "cell_type": "markdown",
   "metadata": {
    "application/vnd.databricks.v1+cell": {
     "cellMetadata": {},
     "inputWidgets": {},
     "nuid": "3ab29a63-0cc8-4b2a-898a-e5592ff9acf7",
     "showTitle": false,
     "tableResultSettingsMap": {},
     "title": ""
    }
   },
   "source": [
    "\n",
    "## B. Exploring the Metastore\n",
    "\n",
    "In this section, let's explore our metastore and its data objects.\n",
    "\n",
    "\n",
    "### Using SQL: Inspect Elements with SQL `SHOW` Command\n",
    "Let's explore objects using the SQL commands. Though we embed them in a notebook here, you can easily port them over for execution in the DBSQL environment as well.\n",
    "\n",
    "We use the SQL `SHOW` command to inspect elements at various levels in the hierarchy.\n",
    "\n",
    "For syntax references, check out the [SQL language reference - DDL statements](https://docs.databricks.com/en/sql/language-manual/index.html#ddl-statements)"
   ]
  },
  {
   "cell_type": "markdown",
   "metadata": {
    "application/vnd.databricks.v1+cell": {
     "cellMetadata": {},
     "inputWidgets": {},
     "nuid": "851f7372-6f01-4da7-b6ab-f402518afb5c",
     "showTitle": false,
     "tableResultSettingsMap": {},
     "title": ""
    }
   },
   "source": [
    "#### B1. Inspect Catalogs\n",
    "1. Let's start by displaying all available catalogs in the metastore with the `SHOW` statement. Confirm a variety of catalogs exist."
   ]
  },
  {
   "cell_type": "code",
   "execution_count": 0,
   "metadata": {
    "application/vnd.databricks.v1+cell": {
     "cellMetadata": {
      "byteLimit": 2048000,
      "rowLimit": 10000
     },
     "inputWidgets": {},
     "nuid": "5d9808f7-ce37-4d26-ba14-3aea2da2482b",
     "showTitle": false,
     "tableResultSettingsMap": {},
     "title": ""
    }
   },
   "outputs": [
    {
     "output_type": "display_data",
     "data": {
      "text/html": [
       "<style scoped>\n",
       "  .table-result-container {\n",
       "    max-height: 300px;\n",
       "    overflow: auto;\n",
       "  }\n",
       "  table, th, td {\n",
       "    border: 1px solid black;\n",
       "    border-collapse: collapse;\n",
       "  }\n",
       "  th, td {\n",
       "    padding: 5px;\n",
       "  }\n",
       "  th {\n",
       "    text-align: left;\n",
       "  }\n",
       "</style><div class='table-result-container'><table class='table-result'><thead style='background-color: white'><tr><th>catalog</th></tr></thead><tbody><tr><td>dbacademy</td></tr><tr><td>dbacademy_movies</td></tr><tr><td>dbacademy_retail</td></tr><tr><td>hive_metastore</td></tr><tr><td>labuser9907309_1744210882</td></tr><tr><td>main</td></tr><tr><td>samples</td></tr><tr><td>system</td></tr></tbody></table></div>"
      ]
     },
     "metadata": {
      "application/vnd.databricks.v1+output": {
       "addedWidgets": {},
       "aggData": [],
       "aggError": "",
       "aggOverflow": false,
       "aggSchema": [],
       "aggSeriesLimitReached": false,
       "aggType": "",
       "arguments": {},
       "columnCustomDisplayInfos": {},
       "data": [
        [
         "dbacademy"
        ],
        [
         "dbacademy_movies"
        ],
        [
         "dbacademy_retail"
        ],
        [
         "hive_metastore"
        ],
        [
         "labuser9907309_1744210882"
        ],
        [
         "main"
        ],
        [
         "samples"
        ],
        [
         "system"
        ]
       ],
       "datasetInfos": [],
       "dbfsResultPath": null,
       "isJsonSchema": true,
       "metadata": {
        "isDbfsCommandResult": false
       },
       "overflow": false,
       "plotOptions": {
        "customPlotOptions": {},
        "displayType": "table",
        "pivotAggregation": null,
        "pivotColumns": null,
        "xColumns": null,
        "yColumns": null
       },
       "removedWidgets": [],
       "schema": [
        {
         "metadata": "{}",
         "name": "catalog",
         "type": "\"string\""
        }
       ],
       "type": "table"
      }
     },
     "output_type": "display_data"
    }
   ],
   "source": [
    "SHOW CATALOGS"
   ]
  },
  {
   "cell_type": "markdown",
   "metadata": {
    "application/vnd.databricks.v1+cell": {
     "cellMetadata": {},
     "inputWidgets": {},
     "nuid": "c4fcae50-46d6-41a5-81ae-1dacad6d1113",
     "showTitle": false,
     "tableResultSettingsMap": {},
     "title": ""
    }
   },
   "source": [
    "Do any of these entries surprise you? You should definitely see a catalog beginning with your user name as the prefix, which is the one we created earlier. But there may be more, depending on the activity in your metastore, and how your workspace is configured. In addition to catalogs others have created, you will also see some special catalogs:\n",
    "* **hive_metastore**. This is not actually a catalog. Rather, it's Unity Catalog's way of making the workspace local Hive metastore seamlessly accessible through the three-level namespace.\n",
    "* **main**: this catalog is created by default with each new metastore, though you can remove it from your metastore if desired (it isn't used by the system)\n",
    "* **samples**: this references a cloud container containing sample datasets hosted by Databricks.\n",
    "* **system**: this catalog provides an interface to the system tables - a collection of tables that return information about objects across all catalogs in the metastore.\n"
   ]
  },
  {
   "cell_type": "markdown",
   "metadata": {
    "application/vnd.databricks.v1+cell": {
     "cellMetadata": {},
     "inputWidgets": {},
     "nuid": "df12dc17-e535-4f57-a511-1c6da5038061",
     "showTitle": false,
     "tableResultSettingsMap": {},
     "title": ""
    }
   },
   "source": [
    "#### B2. Inspect Schemas\n",
    "1. Now let's take a look at the schemas contained in your specific catalog (your default catalog). Remember that we have a default catalog selected so we needn't specify it in our query. Confirm the schemas **default**, **dmguc**, **example** and **information_schema** exist."
   ]
  },
  {
   "cell_type": "code",
   "execution_count": 0,
   "metadata": {
    "application/vnd.databricks.v1+cell": {
     "cellMetadata": {
      "byteLimit": 2048000,
      "rowLimit": 10000
     },
     "inputWidgets": {},
     "nuid": "d19a06cf-5504-4df7-a4bc-b6f128f82199",
     "showTitle": false,
     "tableResultSettingsMap": {},
     "title": ""
    }
   },
   "outputs": [
    {
     "output_type": "display_data",
     "data": {
      "text/html": [
       "<style scoped>\n",
       "  .table-result-container {\n",
       "    max-height: 300px;\n",
       "    overflow: auto;\n",
       "  }\n",
       "  table, th, td {\n",
       "    border: 1px solid black;\n",
       "    border-collapse: collapse;\n",
       "  }\n",
       "  th, td {\n",
       "    padding: 5px;\n",
       "  }\n",
       "  th {\n",
       "    text-align: left;\n",
       "  }\n",
       "</style><div class='table-result-container'><table class='table-result'><thead style='background-color: white'><tr><th>databaseName</th></tr></thead><tbody><tr><td>default</td></tr><tr><td>example</td></tr><tr><td>information_schema</td></tr></tbody></table></div>"
      ]
     },
     "metadata": {
      "application/vnd.databricks.v1+output": {
       "addedWidgets": {},
       "aggData": [],
       "aggError": "",
       "aggOverflow": false,
       "aggSchema": [],
       "aggSeriesLimitReached": false,
       "aggType": "",
       "arguments": {},
       "columnCustomDisplayInfos": {},
       "data": [
        [
         "default"
        ],
        [
         "example"
        ],
        [
         "information_schema"
        ]
       ],
       "datasetInfos": [],
       "dbfsResultPath": null,
       "isJsonSchema": true,
       "metadata": {
        "isDbfsCommandResult": false
       },
       "overflow": false,
       "plotOptions": {
        "customPlotOptions": {},
        "displayType": "table",
        "pivotAggregation": null,
        "pivotColumns": null,
        "xColumns": null,
        "yColumns": null
       },
       "removedWidgets": [],
       "schema": [
        {
         "metadata": "{}",
         "name": "databaseName",
         "type": "\"string\""
        }
       ],
       "type": "table"
      }
     },
     "output_type": "display_data"
    }
   ],
   "source": [
    "SHOW SCHEMAS"
   ]
  },
  {
   "cell_type": "markdown",
   "metadata": {
    "application/vnd.databricks.v1+cell": {
     "cellMetadata": {},
     "inputWidgets": {},
     "nuid": "9e4e6d18-ef53-474d-addf-fa74207b34ab",
     "showTitle": false,
     "tableResultSettingsMap": {},
     "title": ""
    }
   },
   "source": [
    "The **example** schema, of course, is the one we created earlier but there are a couple additional entries you maybe weren't expecting:\n",
    "* **default**: this schema is created by default with each new catalog.\n",
    "* **information_schema**: this schema is also created by default with each new catalog and provides a set of views describing the objects in the catalog."
   ]
  },
  {
   "cell_type": "markdown",
   "metadata": {
    "application/vnd.databricks.v1+cell": {
     "cellMetadata": {},
     "inputWidgets": {},
     "nuid": "bffa03e9-7895-4230-90c8-3cb03b8069cf",
     "showTitle": false,
     "tableResultSettingsMap": {},
     "title": ""
    }
   },
   "source": [
    "2. As a sidenote, if we want to inspect schemas in a catalog that isn't the default, we specify it as follows `SHOW SCHEMAS IN catalog-name`. Run code to view available schemas in the **samples** catalog. Confirm multiple schemas exist."
   ]
  },
  {
   "cell_type": "code",
   "execution_count": 0,
   "metadata": {
    "application/vnd.databricks.v1+cell": {
     "cellMetadata": {
      "byteLimit": 2048000,
      "rowLimit": 10000
     },
     "inputWidgets": {},
     "nuid": "4c555ec0-41b9-418a-bf77-4d2b728b5053",
     "showTitle": false,
     "tableResultSettingsMap": {},
     "title": ""
    }
   },
   "outputs": [
    {
     "output_type": "display_data",
     "data": {
      "text/html": [
       "<style scoped>\n",
       "  .table-result-container {\n",
       "    max-height: 300px;\n",
       "    overflow: auto;\n",
       "  }\n",
       "  table, th, td {\n",
       "    border: 1px solid black;\n",
       "    border-collapse: collapse;\n",
       "  }\n",
       "  th, td {\n",
       "    padding: 5px;\n",
       "  }\n",
       "  th {\n",
       "    text-align: left;\n",
       "  }\n",
       "</style><div class='table-result-container'><table class='table-result'><thead style='background-color: white'><tr><th>databaseName</th></tr></thead><tbody><tr><td>accuweather</td></tr><tr><td>bakehouse</td></tr><tr><td>information_schema</td></tr><tr><td>nyctaxi</td></tr><tr><td>tpch</td></tr></tbody></table></div>"
      ]
     },
     "metadata": {
      "application/vnd.databricks.v1+output": {
       "addedWidgets": {},
       "aggData": [],
       "aggError": "",
       "aggOverflow": false,
       "aggSchema": [],
       "aggSeriesLimitReached": false,
       "aggType": "",
       "arguments": {},
       "columnCustomDisplayInfos": {},
       "data": [
        [
         "accuweather"
        ],
        [
         "bakehouse"
        ],
        [
         "information_schema"
        ],
        [
         "nyctaxi"
        ],
        [
         "tpch"
        ]
       ],
       "datasetInfos": [],
       "dbfsResultPath": null,
       "isJsonSchema": true,
       "metadata": {
        "isDbfsCommandResult": false
       },
       "overflow": false,
       "plotOptions": {
        "customPlotOptions": {},
        "displayType": "table",
        "pivotAggregation": null,
        "pivotColumns": null,
        "xColumns": null,
        "yColumns": null
       },
       "removedWidgets": [],
       "schema": [
        {
         "metadata": "{}",
         "name": "databaseName",
         "type": "\"string\""
        }
       ],
       "type": "table"
      }
     },
     "output_type": "display_data"
    }
   ],
   "source": [
    "SHOW SCHEMAS IN samples;"
   ]
  },
  {
   "cell_type": "markdown",
   "metadata": {
    "application/vnd.databricks.v1+cell": {
     "cellMetadata": {},
     "inputWidgets": {},
     "nuid": "bfd3b3ee-baa1-4c70-b4e4-23cdc282cb32",
     "showTitle": false,
     "tableResultSettingsMap": {},
     "title": ""
    }
   },
   "source": [
    "#### B3. Inspect Tables\n",
    "1. Now let's take a look at the tables contained our  **example** schema within our course catalog. Again, we don't need to specify schema or catalog since we're referencing the defaults. Confirm the **silver** table and **vw_gold** view exist."
   ]
  },
  {
   "cell_type": "code",
   "execution_count": 0,
   "metadata": {
    "application/vnd.databricks.v1+cell": {
     "cellMetadata": {
      "byteLimit": 2048000,
      "rowLimit": 10000
     },
     "inputWidgets": {},
     "nuid": "3733f8e7-09f2-4f09-a9b5-bef8994b37a5",
     "showTitle": false,
     "tableResultSettingsMap": {},
     "title": ""
    }
   },
   "outputs": [
    {
     "output_type": "display_data",
     "data": {
      "text/html": [
       "<style scoped>\n",
       "  .table-result-container {\n",
       "    max-height: 300px;\n",
       "    overflow: auto;\n",
       "  }\n",
       "  table, th, td {\n",
       "    border: 1px solid black;\n",
       "    border-collapse: collapse;\n",
       "  }\n",
       "  th, td {\n",
       "    padding: 5px;\n",
       "  }\n",
       "  th {\n",
       "    text-align: left;\n",
       "  }\n",
       "</style><div class='table-result-container'><table class='table-result'><thead style='background-color: white'><tr><th>database</th><th>tableName</th><th>isTemporary</th></tr></thead><tbody><tr><td>example</td><td>silver</td><td>false</td></tr><tr><td>example</td><td>vw_gold</td><td>false</td></tr></tbody></table></div>"
      ]
     },
     "metadata": {
      "application/vnd.databricks.v1+output": {
       "addedWidgets": {},
       "aggData": [],
       "aggError": "",
       "aggOverflow": false,
       "aggSchema": [],
       "aggSeriesLimitReached": false,
       "aggType": "",
       "arguments": {},
       "columnCustomDisplayInfos": {},
       "data": [
        [
         "example",
         "silver",
         false
        ],
        [
         "example",
         "vw_gold",
         false
        ]
       ],
       "datasetInfos": [],
       "dbfsResultPath": null,
       "isJsonSchema": true,
       "metadata": {
        "isDbfsCommandResult": false
       },
       "overflow": false,
       "plotOptions": {
        "customPlotOptions": {},
        "displayType": "table",
        "pivotAggregation": null,
        "pivotColumns": null,
        "xColumns": null,
        "yColumns": null
       },
       "removedWidgets": [],
       "schema": [
        {
         "metadata": "{}",
         "name": "database",
         "type": "\"string\""
        },
        {
         "metadata": "{}",
         "name": "tableName",
         "type": "\"string\""
        },
        {
         "metadata": "{}",
         "name": "isTemporary",
         "type": "\"boolean\""
        }
       ],
       "type": "table"
      }
     },
     "output_type": "display_data"
    }
   ],
   "source": [
    "SHOW TABLES"
   ]
  },
  {
   "cell_type": "markdown",
   "metadata": {
    "application/vnd.databricks.v1+cell": {
     "cellMetadata": {},
     "inputWidgets": {},
     "nuid": "4d908866-6261-4d20-a1ba-8590b22b60f0",
     "showTitle": false,
     "tableResultSettingsMap": {},
     "title": ""
    }
   },
   "source": [
    "2. If you want to inspect elsewhere, you can explicitly override the default catalog and schema as follows: `SHOW TABLES IN catalog-name.schema-name`. \n",
    "\n",
    "   View the available tables in the **samples** catalog within the **tpch** schema. Confirm that a variety of tables are available."
   ]
  },
  {
   "cell_type": "code",
   "execution_count": 0,
   "metadata": {
    "application/vnd.databricks.v1+cell": {
     "cellMetadata": {
      "byteLimit": 2048000,
      "rowLimit": 10000
     },
     "inputWidgets": {},
     "nuid": "131d59f4-d8b1-4f94-8a44-a67912cfee49",
     "showTitle": false,
     "tableResultSettingsMap": {},
     "title": ""
    }
   },
   "outputs": [
    {
     "output_type": "display_data",
     "data": {
      "text/html": [
       "<style scoped>\n",
       "  .table-result-container {\n",
       "    max-height: 300px;\n",
       "    overflow: auto;\n",
       "  }\n",
       "  table, th, td {\n",
       "    border: 1px solid black;\n",
       "    border-collapse: collapse;\n",
       "  }\n",
       "  th, td {\n",
       "    padding: 5px;\n",
       "  }\n",
       "  th {\n",
       "    text-align: left;\n",
       "  }\n",
       "</style><div class='table-result-container'><table class='table-result'><thead style='background-color: white'><tr><th>database</th><th>tableName</th><th>isTemporary</th></tr></thead><tbody><tr><td>tpch</td><td>customer</td><td>false</td></tr><tr><td>tpch</td><td>lineitem</td><td>false</td></tr><tr><td>tpch</td><td>nation</td><td>false</td></tr><tr><td>tpch</td><td>orders</td><td>false</td></tr><tr><td>tpch</td><td>part</td><td>false</td></tr><tr><td>tpch</td><td>partsupp</td><td>false</td></tr><tr><td>tpch</td><td>region</td><td>false</td></tr><tr><td>tpch</td><td>supplier</td><td>false</td></tr></tbody></table></div>"
      ]
     },
     "metadata": {
      "application/vnd.databricks.v1+output": {
       "addedWidgets": {},
       "aggData": [],
       "aggError": "",
       "aggOverflow": false,
       "aggSchema": [],
       "aggSeriesLimitReached": false,
       "aggType": "",
       "arguments": {},
       "columnCustomDisplayInfos": {},
       "data": [
        [
         "tpch",
         "customer",
         false
        ],
        [
         "tpch",
         "lineitem",
         false
        ],
        [
         "tpch",
         "nation",
         false
        ],
        [
         "tpch",
         "orders",
         false
        ],
        [
         "tpch",
         "part",
         false
        ],
        [
         "tpch",
         "partsupp",
         false
        ],
        [
         "tpch",
         "region",
         false
        ],
        [
         "tpch",
         "supplier",
         false
        ]
       ],
       "datasetInfos": [],
       "dbfsResultPath": null,
       "isJsonSchema": true,
       "metadata": {
        "isDbfsCommandResult": false
       },
       "overflow": false,
       "plotOptions": {
        "customPlotOptions": {},
        "displayType": "table",
        "pivotAggregation": null,
        "pivotColumns": null,
        "xColumns": null,
        "yColumns": null
       },
       "removedWidgets": [],
       "schema": [
        {
         "metadata": "{}",
         "name": "database",
         "type": "\"string\""
        },
        {
         "metadata": "{}",
         "name": "tableName",
         "type": "\"string\""
        },
        {
         "metadata": "{}",
         "name": "isTemporary",
         "type": "\"boolean\""
        }
       ],
       "type": "table"
      }
     },
     "output_type": "display_data"
    }
   ],
   "source": [
    "SHOW TABLES IN samples.tpch"
   ]
  },
  {
   "cell_type": "markdown",
   "metadata": {
    "application/vnd.databricks.v1+cell": {
     "cellMetadata": {},
     "inputWidgets": {},
     "nuid": "67f3ebc2-5c40-4375-9c52-af9dbe744ba1",
     "showTitle": false,
     "tableResultSettingsMap": {},
     "title": ""
    }
   },
   "source": [
    "#### B4. Inspect User-Defined Functions\n",
    "1. There's a command available for exploring all the different object types. For example, display the available user-defined functions in your default schema (**examples**). Confirm that the `dbacademy_mask` function is available.\n",
    "\n",
    "[SHOW FUNCTIONS](https://docs.databricks.com/en/sql/language-manual/sql-ref-syntax-aux-show-functions.html)\n"
   ]
  },
  {
   "cell_type": "code",
   "execution_count": 0,
   "metadata": {
    "application/vnd.databricks.v1+cell": {
     "cellMetadata": {
      "byteLimit": 2048000,
      "rowLimit": 10000
     },
     "inputWidgets": {},
     "nuid": "f707c010-0a0f-4a2a-85bc-760e82034759",
     "showTitle": false,
     "tableResultSettingsMap": {},
     "title": ""
    }
   },
   "outputs": [
    {
     "output_type": "display_data",
     "data": {
      "text/html": [
       "<style scoped>\n",
       "  .table-result-container {\n",
       "    max-height: 300px;\n",
       "    overflow: auto;\n",
       "  }\n",
       "  table, th, td {\n",
       "    border: 1px solid black;\n",
       "    border-collapse: collapse;\n",
       "  }\n",
       "  th, td {\n",
       "    padding: 5px;\n",
       "  }\n",
       "  th {\n",
       "    text-align: left;\n",
       "  }\n",
       "</style><div class='table-result-container'><table class='table-result'><thead style='background-color: white'><tr><th>function</th></tr></thead><tbody><tr><td>getargument</td></tr><tr><td>labuser9907309_1744210882.example.dbacademy_mask</td></tr></tbody></table></div>"
      ]
     },
     "metadata": {
      "application/vnd.databricks.v1+output": {
       "addedWidgets": {},
       "aggData": [],
       "aggError": "",
       "aggOverflow": false,
       "aggSchema": [],
       "aggSeriesLimitReached": false,
       "aggType": "",
       "arguments": {},
       "columnCustomDisplayInfos": {},
       "data": [
        [
         "getargument"
        ],
        [
         "labuser9907309_1744210882.example.dbacademy_mask"
        ]
       ],
       "datasetInfos": [],
       "dbfsResultPath": null,
       "isJsonSchema": true,
       "metadata": {
        "isDbfsCommandResult": false
       },
       "overflow": false,
       "plotOptions": {
        "customPlotOptions": {},
        "displayType": "table",
        "pivotAggregation": null,
        "pivotColumns": null,
        "xColumns": null,
        "yColumns": null
       },
       "removedWidgets": [],
       "schema": [
        {
         "metadata": "{}",
         "name": "function",
         "type": "\"string\""
        }
       ],
       "type": "table"
      }
     },
     "output_type": "display_data"
    }
   ],
   "source": [
    "SHOW USER FUNCTIONS\n"
   ]
  },
  {
   "cell_type": "markdown",
   "metadata": {
    "application/vnd.databricks.v1+cell": {
     "cellMetadata": {},
     "inputWidgets": {},
     "nuid": "03e610b2-912e-4cb7-9e9b-97df2a40992f",
     "showTitle": false,
     "tableResultSettingsMap": {},
     "title": ""
    }
   },
   "source": [
    "#### B5. Inspect Privileges Granted on Data Objects\n",
    "We can also use `SHOW` to see privileges granted on data objects.\n",
    "\n",
    "For syntax references, check out the [SQL language reference - Security statements](https://docs.databricks.com/en/sql/language-manual/index.html#security-statements) documentation.\n",
    "\n",
    "1. Display all privileges (inherited, denied, and granted) on your **silver** table in the **examples** schema (default schema). Confirm that *ALL PRIVILEGES* are available to your user account.\n",
    "\n",
    "\n",
    "\n",
    "**HINT:** `SHOW GRANTS ON`"
   ]
  },
  {
   "cell_type": "code",
   "execution_count": 0,
   "metadata": {
    "application/vnd.databricks.v1+cell": {
     "cellMetadata": {
      "byteLimit": 2048000,
      "rowLimit": 10000
     },
     "inputWidgets": {},
     "nuid": "fb33ad24-4d5c-4a9e-a5b6-5ce02e805ed2",
     "showTitle": false,
     "tableResultSettingsMap": {},
     "title": ""
    }
   },
   "outputs": [
    {
     "output_type": "display_data",
     "data": {
      "text/html": [
       "<style scoped>\n",
       "  .table-result-container {\n",
       "    max-height: 300px;\n",
       "    overflow: auto;\n",
       "  }\n",
       "  table, th, td {\n",
       "    border: 1px solid black;\n",
       "    border-collapse: collapse;\n",
       "  }\n",
       "  th, td {\n",
       "    padding: 5px;\n",
       "  }\n",
       "  th {\n",
       "    text-align: left;\n",
       "  }\n",
       "</style><div class='table-result-container'><table class='table-result'><thead style='background-color: white'><tr><th>Principal</th><th>ActionType</th><th>ObjectType</th><th>ObjectKey</th></tr></thead><tbody><tr><td>labuser9907309_1744210882@vocareum.com</td><td>ALL PRIVILEGES</td><td>CATALOG</td><td>labuser9907309_1744210882</td></tr></tbody></table></div>"
      ]
     },
     "metadata": {
      "application/vnd.databricks.v1+output": {
       "addedWidgets": {},
       "aggData": [],
       "aggError": "",
       "aggOverflow": false,
       "aggSchema": [],
       "aggSeriesLimitReached": false,
       "aggType": "",
       "arguments": {},
       "columnCustomDisplayInfos": {},
       "data": [
        [
         "labuser9907309_1744210882@vocareum.com",
         "ALL PRIVILEGES",
         "CATALOG",
         "labuser9907309_1744210882"
        ]
       ],
       "datasetInfos": [],
       "dbfsResultPath": null,
       "isJsonSchema": true,
       "metadata": {
        "isDbfsCommandResult": false
       },
       "overflow": false,
       "plotOptions": {
        "customPlotOptions": {},
        "displayType": "table",
        "pivotAggregation": null,
        "pivotColumns": null,
        "xColumns": null,
        "yColumns": null
       },
       "removedWidgets": [],
       "schema": [
        {
         "metadata": "{}",
         "name": "Principal",
         "type": "\"string\""
        },
        {
         "metadata": "{}",
         "name": "ActionType",
         "type": "\"string\""
        },
        {
         "metadata": "{}",
         "name": "ObjectType",
         "type": "\"string\""
        },
        {
         "metadata": "{}",
         "name": "ObjectKey",
         "type": "\"string\""
        }
       ],
       "type": "table"
      }
     },
     "output_type": "display_data"
    }
   ],
   "source": [
    "SHOW GRANTS ON TABLE silver"
   ]
  },
  {
   "cell_type": "markdown",
   "metadata": {
    "application/vnd.databricks.v1+cell": {
     "cellMetadata": {},
     "inputWidgets": {},
     "nuid": "4b78fc48-c654-491b-858e-48e2580bb2ad",
     "showTitle": false,
     "tableResultSettingsMap": {},
     "title": ""
    }
   },
   "source": [
    "Since there are no grants on this table yet, no results are returned. That means that only you, the data owner, can access this table. We'll get to granting privileges shortly."
   ]
  },
  {
   "cell_type": "markdown",
   "metadata": {
    "application/vnd.databricks.v1+cell": {
     "cellMetadata": {},
     "inputWidgets": {},
     "nuid": "03f70e76-b7ed-4332-8eca-67c3a9d3970c",
     "showTitle": false,
     "tableResultSettingsMap": {},
     "title": ""
    }
   },
   "source": [
    "## C. Analyze Additional Information with SQL `DESCRIBE` Command\n",
    "\n",
    "We also have `DESCRIBE` at our disposal, to provide additional information about a specific object.\n",
    "\n",
    "For syntax references, check out the [SQL language reference](https://docs.databricks.com/en/sql/language-manual/index.html#sql-language-reference) documentation."
   ]
  },
  {
   "cell_type": "markdown",
   "metadata": {
    "application/vnd.databricks.v1+cell": {
     "cellMetadata": {},
     "inputWidgets": {},
     "nuid": "9b962729-810e-4761-99d8-55f6ed13f1d6",
     "showTitle": false,
     "tableResultSettingsMap": {},
     "title": ""
    }
   },
   "source": [
    "### C1. Analyze Tables\n",
    "1. Let us analyze the information about a few tables. \n",
    "\n",
    "    Use the `DESCRIBE TABLE EXTENDED` statement on your **silver** table to display detailed information about the specified columns, including the column statistics collected by the command, and additional metadata information (such as schema qualifier, owner, and access time)."
   ]
  },
  {
   "cell_type": "code",
   "execution_count": 0,
   "metadata": {
    "application/vnd.databricks.v1+cell": {
     "cellMetadata": {
      "byteLimit": 2048000,
      "rowLimit": 10000
     },
     "inputWidgets": {},
     "nuid": "6628e22e-b75f-43d8-b1ae-9d9554dfaf2b",
     "showTitle": false,
     "tableResultSettingsMap": {},
     "title": ""
    }
   },
   "outputs": [
    {
     "output_type": "display_data",
     "data": {
      "text/html": [
       "<style scoped>\n",
       "  .table-result-container {\n",
       "    max-height: 300px;\n",
       "    overflow: auto;\n",
       "  }\n",
       "  table, th, td {\n",
       "    border: 1px solid black;\n",
       "    border-collapse: collapse;\n",
       "  }\n",
       "  th, td {\n",
       "    padding: 5px;\n",
       "  }\n",
       "  th {\n",
       "    text-align: left;\n",
       "  }\n",
       "</style><div class='table-result-container'><table class='table-result'><thead style='background-color: white'><tr><th>col_name</th><th>data_type</th><th>comment</th></tr></thead><tbody><tr><td>device_id</td><td>int</td><td>null</td></tr><tr><td>mrn</td><td>string</td><td>null</td></tr><tr><td>name</td><td>string</td><td>null</td></tr><tr><td>time</td><td>timestamp</td><td>null</td></tr><tr><td>heartrate</td><td>double</td><td>null</td></tr><tr><td></td><td></td><td></td></tr><tr><td># Delta Statistics Columns</td><td></td><td></td></tr><tr><td>Column Names</td><td>device_id, name, time, mrn, heartrate</td><td></td></tr><tr><td>Column Selection Method</td><td>first-32</td><td></td></tr><tr><td></td><td></td><td></td></tr><tr><td># Detailed Table Information</td><td></td><td></td></tr><tr><td>Catalog</td><td>labuser9907309_1744210882</td><td></td></tr><tr><td>Database</td><td>example</td><td></td></tr><tr><td>Table</td><td>silver</td><td></td></tr><tr><td>Created Time</td><td>Wed Apr 09 15:09:13 UTC 2025</td><td></td></tr><tr><td>Last Access</td><td>UNKNOWN</td><td></td></tr><tr><td>Created By</td><td>Spark </td><td></td></tr><tr><td>Type</td><td>MANAGED</td><td></td></tr><tr><td>Location</td><td>s3://unity-catalogs-us-west-2/metastore/3763185-root/83642ff0-0464-4d77-9401-f8233c076a6c/tables/c555299e-bb89-4461-9b4c-97c7d9efe395</td><td></td></tr><tr><td>Provider</td><td>delta</td><td></td></tr><tr><td>Owner</td><td>labuser9907309_1744210882@vocareum.com</td><td></td></tr><tr><td>Is_managed_location</td><td>true</td><td></td></tr><tr><td>Predictive Optimization</td><td>ENABLE (inherited from METASTORE 3763185-us-west-2)</td><td></td></tr><tr><td>Table Properties</td><td>[delta.enableDeletionVectors=true,delta.feature.deletionVectors=supported,delta.minReaderVersion=3,delta.minWriterVersion=7]</td><td></td></tr></tbody></table></div>"
      ]
     },
     "metadata": {
      "application/vnd.databricks.v1+output": {
       "addedWidgets": {},
       "aggData": [],
       "aggError": "",
       "aggOverflow": false,
       "aggSchema": [],
       "aggSeriesLimitReached": false,
       "aggType": "",
       "arguments": {},
       "columnCustomDisplayInfos": {},
       "data": [
        [
         "device_id",
         "int",
         null
        ],
        [
         "mrn",
         "string",
         null
        ],
        [
         "name",
         "string",
         null
        ],
        [
         "time",
         "timestamp",
         null
        ],
        [
         "heartrate",
         "double",
         null
        ],
        [
         "",
         "",
         ""
        ],
        [
         "# Delta Statistics Columns",
         "",
         ""
        ],
        [
         "Column Names",
         "device_id, name, time, mrn, heartrate",
         ""
        ],
        [
         "Column Selection Method",
         "first-32",
         ""
        ],
        [
         "",
         "",
         ""
        ],
        [
         "# Detailed Table Information",
         "",
         ""
        ],
        [
         "Catalog",
         "labuser9907309_1744210882",
         ""
        ],
        [
         "Database",
         "example",
         ""
        ],
        [
         "Table",
         "silver",
         ""
        ],
        [
         "Created Time",
         "Wed Apr 09 15:09:13 UTC 2025",
         ""
        ],
        [
         "Last Access",
         "UNKNOWN",
         ""
        ],
        [
         "Created By",
         "Spark ",
         ""
        ],
        [
         "Type",
         "MANAGED",
         ""
        ],
        [
         "Location",
         "s3://unity-catalogs-us-west-2/metastore/3763185-root/83642ff0-0464-4d77-9401-f8233c076a6c/tables/c555299e-bb89-4461-9b4c-97c7d9efe395",
         ""
        ],
        [
         "Provider",
         "delta",
         ""
        ],
        [
         "Owner",
         "labuser9907309_1744210882@vocareum.com",
         ""
        ],
        [
         "Is_managed_location",
         "true",
         ""
        ],
        [
         "Predictive Optimization",
         "ENABLE (inherited from METASTORE 3763185-us-west-2)",
         ""
        ],
        [
         "Table Properties",
         "[delta.enableDeletionVectors=true,delta.feature.deletionVectors=supported,delta.minReaderVersion=3,delta.minWriterVersion=7]",
         ""
        ]
       ],
       "datasetInfos": [],
       "dbfsResultPath": null,
       "isJsonSchema": true,
       "metadata": {
        "isDbfsCommandResult": false
       },
       "overflow": false,
       "plotOptions": {
        "customPlotOptions": {},
        "displayType": "table",
        "pivotAggregation": null,
        "pivotColumns": null,
        "xColumns": null,
        "yColumns": null
       },
       "removedWidgets": [],
       "schema": [
        {
         "metadata": "{\"comment\":\"name of the column\"}",
         "name": "col_name",
         "type": "\"string\""
        },
        {
         "metadata": "{\"comment\":\"data type of the column\"}",
         "name": "data_type",
         "type": "\"string\""
        },
        {
         "metadata": "{\"comment\":\"comment of the column\"}",
         "name": "comment",
         "type": "\"string\""
        }
       ],
       "type": "table"
      }
     },
     "output_type": "display_data"
    }
   ],
   "source": [
    "DESCRIBE TABLE EXTENDED silver"
   ]
  },
  {
   "cell_type": "markdown",
   "metadata": {
    "application/vnd.databricks.v1+cell": {
     "cellMetadata": {},
     "inputWidgets": {},
     "nuid": "2cbab369-a7fa-489d-bc0e-1358c5d77153",
     "showTitle": false,
     "tableResultSettingsMap": {},
     "title": ""
    }
   },
   "source": [
    "2. Use the same statement as above to view information about your **vw_gold** view. In the results, scroll down to the *View Text* value in the **col_name** column. Notice that you can view the SQL text for the view.\n"
   ]
  },
  {
   "cell_type": "code",
   "execution_count": 0,
   "metadata": {
    "application/vnd.databricks.v1+cell": {
     "cellMetadata": {
      "byteLimit": 2048000,
      "rowLimit": 10000
     },
     "inputWidgets": {},
     "nuid": "e3c0ca27-daad-4104-b28b-c32587d80caa",
     "showTitle": false,
     "tableResultSettingsMap": {},
     "title": ""
    }
   },
   "outputs": [
    {
     "output_type": "display_data",
     "data": {
      "text/html": [
       "<style scoped>\n",
       "  .table-result-container {\n",
       "    max-height: 300px;\n",
       "    overflow: auto;\n",
       "  }\n",
       "  table, th, td {\n",
       "    border: 1px solid black;\n",
       "    border-collapse: collapse;\n",
       "  }\n",
       "  th, td {\n",
       "    padding: 5px;\n",
       "  }\n",
       "  th {\n",
       "    text-align: left;\n",
       "  }\n",
       "</style><div class='table-result-container'><table class='table-result'><thead style='background-color: white'><tr><th>col_name</th><th>data_type</th><th>comment</th></tr></thead><tbody><tr><td>mrn</td><td>string</td><td>null</td></tr><tr><td>name</td><td>string</td><td>null</td></tr><tr><td>avg_heartrate</td><td>double</td><td>null</td></tr><tr><td>date</td><td>timestamp</td><td>null</td></tr><tr><td></td><td></td><td></td></tr><tr><td># Detailed Table Information</td><td></td><td></td></tr><tr><td>Catalog</td><td>labuser9907309_1744210882</td><td></td></tr><tr><td>Database</td><td>example</td><td></td></tr><tr><td>Table</td><td>vw_gold</td><td></td></tr><tr><td>Owner</td><td>labuser9907309_1744210882@vocareum.com</td><td></td></tr><tr><td>Created Time</td><td>Wed Apr 09 15:09:29 UTC 2025</td><td></td></tr><tr><td>Last Access</td><td>UNKNOWN</td><td></td></tr><tr><td>Created By</td><td>Spark </td><td></td></tr><tr><td>Type</td><td>VIEW</td><td></td></tr><tr><td>View Text</td><td>(\n",
       "        SELECT \n",
       "            mrn, \n",
       "            name, \n",
       "            MEAN(heartrate) \n",
       "            avg_heartrate, \n",
       "            DATE_TRUNC(\"DD\", time) AS date\n",
       "        FROM silver\n",
       "        GROUP BY mrn, name, DATE_TRUNC(\"DD\", time)\n",
       "        )</td><td></td></tr><tr><td>View Schema Mode</td><td>COMPENSATION</td><td></td></tr><tr><td>View Catalog and Namespace</td><td>labuser9907309_1744210882.example</td><td></td></tr><tr><td>View Query Output Columns</td><td>[mrn, name, avg_heartrate, date]</td><td></td></tr></tbody></table></div>"
      ]
     },
     "metadata": {
      "application/vnd.databricks.v1+output": {
       "addedWidgets": {},
       "aggData": [],
       "aggError": "",
       "aggOverflow": false,
       "aggSchema": [],
       "aggSeriesLimitReached": false,
       "aggType": "",
       "arguments": {},
       "columnCustomDisplayInfos": {},
       "data": [
        [
         "mrn",
         "string",
         null
        ],
        [
         "name",
         "string",
         null
        ],
        [
         "avg_heartrate",
         "double",
         null
        ],
        [
         "date",
         "timestamp",
         null
        ],
        [
         "",
         "",
         ""
        ],
        [
         "# Detailed Table Information",
         "",
         ""
        ],
        [
         "Catalog",
         "labuser9907309_1744210882",
         ""
        ],
        [
         "Database",
         "example",
         ""
        ],
        [
         "Table",
         "vw_gold",
         ""
        ],
        [
         "Owner",
         "labuser9907309_1744210882@vocareum.com",
         ""
        ],
        [
         "Created Time",
         "Wed Apr 09 15:09:29 UTC 2025",
         ""
        ],
        [
         "Last Access",
         "UNKNOWN",
         ""
        ],
        [
         "Created By",
         "Spark ",
         ""
        ],
        [
         "Type",
         "VIEW",
         ""
        ],
        [
         "View Text",
         "(\n        SELECT \n            mrn, \n            name, \n            MEAN(heartrate) \n            avg_heartrate, \n            DATE_TRUNC(\"DD\", time) AS date\n        FROM silver\n        GROUP BY mrn, name, DATE_TRUNC(\"DD\", time)\n        )",
         ""
        ],
        [
         "View Schema Mode",
         "COMPENSATION",
         ""
        ],
        [
         "View Catalog and Namespace",
         "labuser9907309_1744210882.example",
         ""
        ],
        [
         "View Query Output Columns",
         "[mrn, name, avg_heartrate, date]",
         ""
        ]
       ],
       "datasetInfos": [],
       "dbfsResultPath": null,
       "isJsonSchema": true,
       "metadata": {
        "isDbfsCommandResult": false
       },
       "overflow": false,
       "plotOptions": {
        "customPlotOptions": {},
        "displayType": "table",
        "pivotAggregation": null,
        "pivotColumns": null,
        "xColumns": null,
        "yColumns": null
       },
       "removedWidgets": [],
       "schema": [
        {
         "metadata": "{\"comment\":\"name of the column\"}",
         "name": "col_name",
         "type": "\"string\""
        },
        {
         "metadata": "{\"comment\":\"data type of the column\"}",
         "name": "data_type",
         "type": "\"string\""
        },
        {
         "metadata": "{\"comment\":\"comment of the column\"}",
         "name": "comment",
         "type": "\"string\""
        }
       ],
       "type": "table"
      }
     },
     "output_type": "display_data"
    }
   ],
   "source": [
    "DESCRIBE TABLE EXTENDED vw_gold"
   ]
  },
  {
   "cell_type": "markdown",
   "metadata": {
    "application/vnd.databricks.v1+cell": {
     "cellMetadata": {},
     "inputWidgets": {},
     "nuid": "3bd3b57c-805c-4344-acb6-dfd0e66b87a4",
     "showTitle": false,
     "tableResultSettingsMap": {},
     "title": ""
    }
   },
   "source": [
    "### C2. Analyze User-Defined Functions\n",
    "1. Let us analyze the information about the **dbacademy_mask** user-defined function in the **example** schema. Use the `DESCRIBE FUNCTION EXTENDED` statement to view detailed information about the function."
   ]
  },
  {
   "cell_type": "code",
   "execution_count": 0,
   "metadata": {
    "application/vnd.databricks.v1+cell": {
     "cellMetadata": {
      "byteLimit": 2048000,
      "rowLimit": 10000
     },
     "inputWidgets": {},
     "nuid": "8ed882b4-6535-4f7e-bc0f-1828d2710f80",
     "showTitle": false,
     "tableResultSettingsMap": {},
     "title": ""
    }
   },
   "outputs": [
    {
     "output_type": "display_data",
     "data": {
      "text/html": [
       "<style scoped>\n",
       "  .table-result-container {\n",
       "    max-height: 300px;\n",
       "    overflow: auto;\n",
       "  }\n",
       "  table, th, td {\n",
       "    border: 1px solid black;\n",
       "    border-collapse: collapse;\n",
       "  }\n",
       "  th, td {\n",
       "    padding: 5px;\n",
       "  }\n",
       "  th {\n",
       "    text-align: left;\n",
       "  }\n",
       "</style><div class='table-result-container'><table class='table-result'><thead style='background-color: white'><tr><th>function_desc</th></tr></thead><tbody><tr><td>Function:      labuser9907309_1744210882.example.dbacademy_mask</td></tr><tr><td>Type:          SCALAR</td></tr><tr><td>Input:         x STRING</td></tr><tr><td>Returns:       STRING</td></tr><tr><td>Deterministic: true</td></tr><tr><td>Data Access:   CONTAINS SQL</td></tr><tr><td>Configs:       spark.databricks.sql.expression.aiFunctions.repartition=0</td></tr><tr><td>               spark.databricks.sql.functions.aiForecast.enabled=false</td></tr><tr><td>               spark.databricks.sql.functions.aiFunctions.adaptiveThreadPool.clusterSizeBasedGlobalParallelism.scaleFactor=512.0</td></tr><tr><td>               spark.databricks.sql.functions.aiFunctions.adaptiveThreadPool.debugLogEnabled=true</td></tr><tr><td>               spark.databricks.sql.functions.aiFunctions.adaptiveThreadPool.dynamicPoolSizeEnabled=false</td></tr><tr><td>               spark.databricks.sql.functions.aiFunctions.adaptiveThreadPool.enabled=true</td></tr><tr><td>               spark.databricks.sql.functions.aiFunctions.adaptiveThreadPool.maxPoolSize=2048</td></tr><tr><td>               spark.databricks.sql.functions.aiFunctions.adaptiveThreadPool.maxPoolSizeForBatch=512</td></tr><tr><td>               spark.databricks.sql.functions.aiFunctions.adaptiveThreadPool.scaleUpThresholdCurrentQpsIncreaseRatio=0.0</td></tr><tr><td>               spark.databricks.sql.functions.aiFunctions.adaptiveThreadPool.scaleUpThresholdSuccessRatio=0.95</td></tr><tr><td>               spark.databricks.sql.functions.aiFunctions.adaptiveThreadPool.scaleUpThresholdTotalQpsIncreaseRatio=0.0</td></tr><tr><td>               spark.databricks.sql.functions.aiFunctions.adaptiveThreadPool.taskWaitTimeInSeconds=1000</td></tr><tr><td>               spark.databricks.sql.functions.aiFunctions.adaptiveThreadPool.threadKeepAliveTimeInSeconds=600</td></tr><tr><td>               spark.databricks.sql.functions.aiFunctions.adaptiveThreadPool.useDynamicTaskQueueExecutor=false</td></tr><tr><td>               spark.databricks.sql.functions.aiFunctions.batch.aiQuery.embedding.request.size=40</td></tr><tr><td>               spark.databricks.sql.functions.aiFunctions.batch.execution.size=2048</td></tr><tr><td>               spark.databricks.sql.functions.aiFunctions.batchInferenceApi.enabled=true</td></tr><tr><td>               spark.databricks.sql.functions.aiFunctions.batchSession.enabled=true</td></tr><tr><td>               spark.databricks.sql.functions.aiFunctions.decimal.dataType.enabled=true</td></tr><tr><td>               spark.databricks.sql.functions.aiFunctions.embeddingsEndpointName=databricks-gte-large-en</td></tr><tr><td>               spark.databricks.sql.functions.aiFunctions.model.parameters.enabled=true</td></tr><tr><td>               spark.databricks.sql.functions.aiFunctions.modelEndpointTypeParsing.enabled=true</td></tr><tr><td>               spark.databricks.sql.functions.aiFunctions.purposeBuiltFunctions.batch.execution.enabled=true</td></tr><tr><td>               spark.databricks.sql.functions.aiFunctions.remoteHttpClient.maxConnections=2048</td></tr><tr><td>               spark.databricks.sql.functions.aiFunctions.remoteHttpClient.timeoutInSeconds=360</td></tr><tr><td>               spark.databricks.sql.functions.aiFunctions.safe.inference.enabled=true</td></tr><tr><td>               spark.databricks.sql.functions.aiFunctions.useDedicatedHttpClient=true</td></tr><tr><td>               spark.databricks.sql.functions.aiGen.endpointName=databricks-meta-llama-3-3-70b-instruct</td></tr><tr><td>               spark.databricks.sql.functions.vectorSearch.enabled=true</td></tr><tr><td>               spark.sql.functions.remoteHttpClient.retryOn400TimeoutError=true</td></tr><tr><td>               spark.sql.functions.remoteHttpClient.retryOnSocketTimeoutException=true</td></tr><tr><td>               spark.sql.hive.convertCTAS=true</td></tr><tr><td>               spark.sql.legacy.createHiveTableByDefault=false</td></tr><tr><td>               spark.sql.parquet.compression.codec=snappy</td></tr><tr><td>               spark.sql.sources.commitProtocolClass=com.databricks.sql.transaction.directory.DirectoryAtomicCommitProtocol</td></tr><tr><td>               spark.sql.sources.default=delta</td></tr><tr><td>               spark.sql.streaming.stopTimeout=15s</td></tr><tr><td>Owner:         labuser9907309_1744210882@vocareum.com</td></tr><tr><td>Create Time:   Wed Apr 09 15:09:30 UTC 2025</td></tr><tr><td>Body:          CONCAT(LEFT(x, 2) , REPEAT(\"*\", LENGTH(x) - 2))</td></tr></tbody></table></div>"
      ]
     },
     "metadata": {
      "application/vnd.databricks.v1+output": {
       "addedWidgets": {},
       "aggData": [],
       "aggError": "",
       "aggOverflow": false,
       "aggSchema": [],
       "aggSeriesLimitReached": false,
       "aggType": "",
       "arguments": {},
       "columnCustomDisplayInfos": {},
       "data": [
        [
         "Function:      labuser9907309_1744210882.example.dbacademy_mask"
        ],
        [
         "Type:          SCALAR"
        ],
        [
         "Input:         x STRING"
        ],
        [
         "Returns:       STRING"
        ],
        [
         "Deterministic: true"
        ],
        [
         "Data Access:   CONTAINS SQL"
        ],
        [
         "Configs:       spark.databricks.sql.expression.aiFunctions.repartition=0"
        ],
        [
         "               spark.databricks.sql.functions.aiForecast.enabled=false"
        ],
        [
         "               spark.databricks.sql.functions.aiFunctions.adaptiveThreadPool.clusterSizeBasedGlobalParallelism.scaleFactor=512.0"
        ],
        [
         "               spark.databricks.sql.functions.aiFunctions.adaptiveThreadPool.debugLogEnabled=true"
        ],
        [
         "               spark.databricks.sql.functions.aiFunctions.adaptiveThreadPool.dynamicPoolSizeEnabled=false"
        ],
        [
         "               spark.databricks.sql.functions.aiFunctions.adaptiveThreadPool.enabled=true"
        ],
        [
         "               spark.databricks.sql.functions.aiFunctions.adaptiveThreadPool.maxPoolSize=2048"
        ],
        [
         "               spark.databricks.sql.functions.aiFunctions.adaptiveThreadPool.maxPoolSizeForBatch=512"
        ],
        [
         "               spark.databricks.sql.functions.aiFunctions.adaptiveThreadPool.scaleUpThresholdCurrentQpsIncreaseRatio=0.0"
        ],
        [
         "               spark.databricks.sql.functions.aiFunctions.adaptiveThreadPool.scaleUpThresholdSuccessRatio=0.95"
        ],
        [
         "               spark.databricks.sql.functions.aiFunctions.adaptiveThreadPool.scaleUpThresholdTotalQpsIncreaseRatio=0.0"
        ],
        [
         "               spark.databricks.sql.functions.aiFunctions.adaptiveThreadPool.taskWaitTimeInSeconds=1000"
        ],
        [
         "               spark.databricks.sql.functions.aiFunctions.adaptiveThreadPool.threadKeepAliveTimeInSeconds=600"
        ],
        [
         "               spark.databricks.sql.functions.aiFunctions.adaptiveThreadPool.useDynamicTaskQueueExecutor=false"
        ],
        [
         "               spark.databricks.sql.functions.aiFunctions.batch.aiQuery.embedding.request.size=40"
        ],
        [
         "               spark.databricks.sql.functions.aiFunctions.batch.execution.size=2048"
        ],
        [
         "               spark.databricks.sql.functions.aiFunctions.batchInferenceApi.enabled=true"
        ],
        [
         "               spark.databricks.sql.functions.aiFunctions.batchSession.enabled=true"
        ],
        [
         "               spark.databricks.sql.functions.aiFunctions.decimal.dataType.enabled=true"
        ],
        [
         "               spark.databricks.sql.functions.aiFunctions.embeddingsEndpointName=databricks-gte-large-en"
        ],
        [
         "               spark.databricks.sql.functions.aiFunctions.model.parameters.enabled=true"
        ],
        [
         "               spark.databricks.sql.functions.aiFunctions.modelEndpointTypeParsing.enabled=true"
        ],
        [
         "               spark.databricks.sql.functions.aiFunctions.purposeBuiltFunctions.batch.execution.enabled=true"
        ],
        [
         "               spark.databricks.sql.functions.aiFunctions.remoteHttpClient.maxConnections=2048"
        ],
        [
         "               spark.databricks.sql.functions.aiFunctions.remoteHttpClient.timeoutInSeconds=360"
        ],
        [
         "               spark.databricks.sql.functions.aiFunctions.safe.inference.enabled=true"
        ],
        [
         "               spark.databricks.sql.functions.aiFunctions.useDedicatedHttpClient=true"
        ],
        [
         "               spark.databricks.sql.functions.aiGen.endpointName=databricks-meta-llama-3-3-70b-instruct"
        ],
        [
         "               spark.databricks.sql.functions.vectorSearch.enabled=true"
        ],
        [
         "               spark.sql.functions.remoteHttpClient.retryOn400TimeoutError=true"
        ],
        [
         "               spark.sql.functions.remoteHttpClient.retryOnSocketTimeoutException=true"
        ],
        [
         "               spark.sql.hive.convertCTAS=true"
        ],
        [
         "               spark.sql.legacy.createHiveTableByDefault=false"
        ],
        [
         "               spark.sql.parquet.compression.codec=snappy"
        ],
        [
         "               spark.sql.sources.commitProtocolClass=com.databricks.sql.transaction.directory.DirectoryAtomicCommitProtocol"
        ],
        [
         "               spark.sql.sources.default=delta"
        ],
        [
         "               spark.sql.streaming.stopTimeout=15s"
        ],
        [
         "Owner:         labuser9907309_1744210882@vocareum.com"
        ],
        [
         "Create Time:   Wed Apr 09 15:09:30 UTC 2025"
        ],
        [
         "Body:          CONCAT(LEFT(x, 2) , REPEAT(\"*\", LENGTH(x) - 2))"
        ]
       ],
       "datasetInfos": [],
       "dbfsResultPath": null,
       "isJsonSchema": true,
       "metadata": {
        "isDbfsCommandResult": false
       },
       "overflow": false,
       "plotOptions": {
        "customPlotOptions": {},
        "displayType": "table",
        "pivotAggregation": null,
        "pivotColumns": null,
        "xColumns": null,
        "yColumns": null
       },
       "removedWidgets": [],
       "schema": [
        {
         "metadata": "{}",
         "name": "function_desc",
         "type": "\"string\""
        }
       ],
       "type": "table"
      }
     },
     "output_type": "display_data"
    }
   ],
   "source": [
    "DESCRIBE FUNCTION EXTENDED dbacademy_mask"
   ]
  },
  {
   "cell_type": "markdown",
   "metadata": {
    "application/vnd.databricks.v1+cell": {
     "cellMetadata": {},
     "inputWidgets": {},
     "nuid": "c7d0ade0-5b7b-4c1f-a725-c01a1888df35",
     "showTitle": false,
     "tableResultSettingsMap": {},
     "title": ""
    }
   },
   "source": [
    "## D. Analyze Other Data Objects\n",
    "We can also analyze other data objects in the metastore."
   ]
  },
  {
   "cell_type": "markdown",
   "metadata": {
    "application/vnd.databricks.v1+cell": {
     "cellMetadata": {},
     "inputWidgets": {},
     "nuid": "87869e5d-3b6b-4765-8492-846ad334442d",
     "showTitle": false,
     "tableResultSettingsMap": {},
     "title": ""
    }
   },
   "source": [
    "### D1. System Catalog\n",
    "The *system* catalog provides an interface to the system tables; that is a collection of views whose purpose is to provide a SQL-based, self-describing API to the metadata related to objects across all catalogs in the metastore. This exposes a host of information useful for administration and housekeeping and there are a lot of applications for this.\n",
    "\n"
   ]
  },
  {
   "cell_type": "markdown",
   "metadata": {
    "application/vnd.databricks.v1+cell": {
     "cellMetadata": {},
     "inputWidgets": {},
     "nuid": "566ba268-8ce4-4abd-a582-c65e070b9bea",
     "showTitle": false,
     "tableResultSettingsMap": {},
     "title": ""
    }
   },
   "source": [
    "1. Run the following cell to view tables in the **system** catalog's **information_schema** schema. Notice that a variety of system tables are available.\n",
    "\n",
    "   **NOTE:** System tables are a Databricks-hosted analytical store of your account’s operational data found in the system catalog. These tables can be used for historical observability across your account.\n",
    "\n",
    "   For more information, check out the [Monitor usage with system tables](https://docs.databricks.com/en/admin/system-tables/index.html#monitor-usage-with-system-tables) documentation.\n"
   ]
  },
  {
   "cell_type": "code",
   "execution_count": 0,
   "metadata": {
    "application/vnd.databricks.v1+cell": {
     "cellMetadata": {
      "byteLimit": 2048000,
      "rowLimit": 10000
     },
     "inputWidgets": {},
     "nuid": "966ab180-4d81-4472-8e27-27c47967da6c",
     "showTitle": false,
     "tableResultSettingsMap": {},
     "title": ""
    }
   },
   "outputs": [
    {
     "output_type": "display_data",
     "data": {
      "text/html": [
       "<style scoped>\n",
       "  .table-result-container {\n",
       "    max-height: 300px;\n",
       "    overflow: auto;\n",
       "  }\n",
       "  table, th, td {\n",
       "    border: 1px solid black;\n",
       "    border-collapse: collapse;\n",
       "  }\n",
       "  th, td {\n",
       "    padding: 5px;\n",
       "  }\n",
       "  th {\n",
       "    text-align: left;\n",
       "  }\n",
       "</style><div class='table-result-container'><table class='table-result'><thead style='background-color: white'><tr><th>database</th><th>tableName</th><th>isTemporary</th></tr></thead><tbody><tr><td>information_schema</td><td>catalog_privileges</td><td>false</td></tr><tr><td>information_schema</td><td>catalog_provider_share_usage</td><td>false</td></tr><tr><td>information_schema</td><td>catalog_tags</td><td>false</td></tr><tr><td>information_schema</td><td>catalogs</td><td>false</td></tr><tr><td>information_schema</td><td>check_constraints</td><td>false</td></tr><tr><td>information_schema</td><td>column_masks</td><td>false</td></tr><tr><td>information_schema</td><td>column_tags</td><td>false</td></tr><tr><td>information_schema</td><td>columns</td><td>false</td></tr><tr><td>information_schema</td><td>connection_privileges</td><td>false</td></tr><tr><td>information_schema</td><td>connections</td><td>false</td></tr><tr><td>information_schema</td><td>constraint_column_usage</td><td>false</td></tr><tr><td>information_schema</td><td>constraint_table_usage</td><td>false</td></tr><tr><td>information_schema</td><td>external_location_privileges</td><td>false</td></tr><tr><td>information_schema</td><td>external_locations</td><td>false</td></tr><tr><td>information_schema</td><td>information_schema_catalog_name</td><td>false</td></tr><tr><td>information_schema</td><td>key_column_usage</td><td>false</td></tr><tr><td>information_schema</td><td>metastore_privileges</td><td>false</td></tr><tr><td>information_schema</td><td>metastores</td><td>false</td></tr><tr><td>information_schema</td><td>parameters</td><td>false</td></tr><tr><td>information_schema</td><td>providers</td><td>false</td></tr><tr><td>information_schema</td><td>recipient_allowed_ip_ranges</td><td>false</td></tr><tr><td>information_schema</td><td>recipient_tokens</td><td>false</td></tr><tr><td>information_schema</td><td>recipients</td><td>false</td></tr><tr><td>information_schema</td><td>referential_constraints</td><td>false</td></tr><tr><td>information_schema</td><td>routine_columns</td><td>false</td></tr><tr><td>information_schema</td><td>routine_privileges</td><td>false</td></tr><tr><td>information_schema</td><td>routines</td><td>false</td></tr><tr><td>information_schema</td><td>row_filters</td><td>false</td></tr><tr><td>information_schema</td><td>schema_privileges</td><td>false</td></tr><tr><td>information_schema</td><td>schema_share_usage</td><td>false</td></tr><tr><td>information_schema</td><td>schema_tags</td><td>false</td></tr><tr><td>information_schema</td><td>schemata</td><td>false</td></tr><tr><td>information_schema</td><td>share_recipient_privileges</td><td>false</td></tr><tr><td>information_schema</td><td>shares</td><td>false</td></tr><tr><td>information_schema</td><td>storage_credential_privileges</td><td>false</td></tr><tr><td>information_schema</td><td>storage_credentials</td><td>false</td></tr><tr><td>information_schema</td><td>table_constraints</td><td>false</td></tr><tr><td>information_schema</td><td>table_privileges</td><td>false</td></tr><tr><td>information_schema</td><td>table_share_usage</td><td>false</td></tr><tr><td>information_schema</td><td>table_tags</td><td>false</td></tr><tr><td>information_schema</td><td>tables</td><td>false</td></tr><tr><td>information_schema</td><td>views</td><td>false</td></tr><tr><td>information_schema</td><td>volume_privileges</td><td>false</td></tr><tr><td>information_schema</td><td>volume_tags</td><td>false</td></tr><tr><td>information_schema</td><td>volumes</td><td>false</td></tr></tbody></table></div>"
      ]
     },
     "metadata": {
      "application/vnd.databricks.v1+output": {
       "addedWidgets": {},
       "aggData": [],
       "aggError": "",
       "aggOverflow": false,
       "aggSchema": [],
       "aggSeriesLimitReached": false,
       "aggType": "",
       "arguments": {},
       "columnCustomDisplayInfos": {},
       "data": [
        [
         "information_schema",
         "catalog_privileges",
         false
        ],
        [
         "information_schema",
         "catalog_provider_share_usage",
         false
        ],
        [
         "information_schema",
         "catalog_tags",
         false
        ],
        [
         "information_schema",
         "catalogs",
         false
        ],
        [
         "information_schema",
         "check_constraints",
         false
        ],
        [
         "information_schema",
         "column_masks",
         false
        ],
        [
         "information_schema",
         "column_tags",
         false
        ],
        [
         "information_schema",
         "columns",
         false
        ],
        [
         "information_schema",
         "connection_privileges",
         false
        ],
        [
         "information_schema",
         "connections",
         false
        ],
        [
         "information_schema",
         "constraint_column_usage",
         false
        ],
        [
         "information_schema",
         "constraint_table_usage",
         false
        ],
        [
         "information_schema",
         "external_location_privileges",
         false
        ],
        [
         "information_schema",
         "external_locations",
         false
        ],
        [
         "information_schema",
         "information_schema_catalog_name",
         false
        ],
        [
         "information_schema",
         "key_column_usage",
         false
        ],
        [
         "information_schema",
         "metastore_privileges",
         false
        ],
        [
         "information_schema",
         "metastores",
         false
        ],
        [
         "information_schema",
         "parameters",
         false
        ],
        [
         "information_schema",
         "providers",
         false
        ],
        [
         "information_schema",
         "recipient_allowed_ip_ranges",
         false
        ],
        [
         "information_schema",
         "recipient_tokens",
         false
        ],
        [
         "information_schema",
         "recipients",
         false
        ],
        [
         "information_schema",
         "referential_constraints",
         false
        ],
        [
         "information_schema",
         "routine_columns",
         false
        ],
        [
         "information_schema",
         "routine_privileges",
         false
        ],
        [
         "information_schema",
         "routines",
         false
        ],
        [
         "information_schema",
         "row_filters",
         false
        ],
        [
         "information_schema",
         "schema_privileges",
         false
        ],
        [
         "information_schema",
         "schema_share_usage",
         false
        ],
        [
         "information_schema",
         "schema_tags",
         false
        ],
        [
         "information_schema",
         "schemata",
         false
        ],
        [
         "information_schema",
         "share_recipient_privileges",
         false
        ],
        [
         "information_schema",
         "shares",
         false
        ],
        [
         "information_schema",
         "storage_credential_privileges",
         false
        ],
        [
         "information_schema",
         "storage_credentials",
         false
        ],
        [
         "information_schema",
         "table_constraints",
         false
        ],
        [
         "information_schema",
         "table_privileges",
         false
        ],
        [
         "information_schema",
         "table_share_usage",
         false
        ],
        [
         "information_schema",
         "table_tags",
         false
        ],
        [
         "information_schema",
         "tables",
         false
        ],
        [
         "information_schema",
         "views",
         false
        ],
        [
         "information_schema",
         "volume_privileges",
         false
        ],
        [
         "information_schema",
         "volume_tags",
         false
        ],
        [
         "information_schema",
         "volumes",
         false
        ]
       ],
       "datasetInfos": [],
       "dbfsResultPath": null,
       "isJsonSchema": true,
       "metadata": {
        "isDbfsCommandResult": false
       },
       "overflow": false,
       "plotOptions": {
        "customPlotOptions": {},
        "displayType": "table",
        "pivotAggregation": null,
        "pivotColumns": null,
        "xColumns": null,
        "yColumns": null
       },
       "removedWidgets": [],
       "schema": [
        {
         "metadata": "{}",
         "name": "database",
         "type": "\"string\""
        },
        {
         "metadata": "{}",
         "name": "tableName",
         "type": "\"string\""
        },
        {
         "metadata": "{}",
         "name": "isTemporary",
         "type": "\"boolean\""
        }
       ],
       "type": "table"
      }
     },
     "output_type": "display_data"
    }
   ],
   "source": [
    "SHOW TABLES in system.information_schema;"
   ]
  },
  {
   "cell_type": "markdown",
   "metadata": {
    "application/vnd.databricks.v1+cell": {
     "cellMetadata": {},
     "inputWidgets": {},
     "nuid": "8f68e859-a367-49ed-997a-5f2fdf2adce2",
     "showTitle": false,
     "tableResultSettingsMap": {},
     "title": ""
    }
   },
   "source": [
    "2. Let's consider the following query, which shows all tables that have been modified in the last *24 hours* using the **system** catalog.\n",
    "\n",
    "    **NOTE:** In addition to demonstrating how to leverage this information, the query also demonstrates a Unity Catalog three-level namespace reference."
   ]
  },
  {
   "cell_type": "code",
   "execution_count": 0,
   "metadata": {
    "application/vnd.databricks.v1+cell": {
     "cellMetadata": {
      "byteLimit": 2048000,
      "rowLimit": 10000
     },
     "inputWidgets": {},
     "nuid": "ac86df25-5b7c-44bd-a2d3-a43fbe4bab3f",
     "showTitle": false,
     "tableResultSettingsMap": {},
     "title": ""
    }
   },
   "outputs": [
    {
     "output_type": "display_data",
     "data": {
      "text/html": [
       "<style scoped>\n",
       "  .table-result-container {\n",
       "    max-height: 300px;\n",
       "    overflow: auto;\n",
       "  }\n",
       "  table, th, td {\n",
       "    border: 1px solid black;\n",
       "    border-collapse: collapse;\n",
       "  }\n",
       "  th, td {\n",
       "    padding: 5px;\n",
       "  }\n",
       "  th {\n",
       "    text-align: left;\n",
       "  }\n",
       "</style><div class='table-result-container'><table class='table-result'><thead style='background-color: white'><tr><th>table_name</th><th>table_owner</th><th>created_by</th><th>last_altered</th><th>last_altered_by</th><th>table_catalog</th></tr></thead><tbody><tr><td>catalog_privileges</td><td>System user</td><td>System user</td><td>2025-04-09T15:02:03.081Z</td><td>System user</td><td>labuser9907309_1744210882</td></tr><tr><td>views</td><td>System user</td><td>System user</td><td>2025-04-09T15:02:03.522Z</td><td>System user</td><td>labuser9907309_1744210882</td></tr><tr><td>meta</td><td>metastore_admins</td><td>9556a37f-7dc0-4b5f-849c-babbde9b34af</td><td>2025-04-09T15:02:01.877Z</td><td>9556a37f-7dc0-4b5f-849c-babbde9b34af</td><td>dbacademy</td></tr><tr><td>routine_columns</td><td>System user</td><td>System user</td><td>2025-04-09T15:02:03.276Z</td><td>System user</td><td>labuser9907309_1744210882</td></tr><tr><td>customers</td><td>metastore_admins</td><td>9556a37f-7dc0-4b5f-849c-babbde9b34af</td><td>2025-04-09T10:37:27.937Z</td><td>System user</td><td>dbacademy_retail</td></tr><tr><td>table_privileges</td><td>System user</td><td>System user</td><td>2025-04-09T15:02:03.477Z</td><td>System user</td><td>labuser9907309_1744210882</td></tr><tr><td>routine_privileges</td><td>System user</td><td>System user</td><td>2025-04-09T15:02:03.324Z</td><td>System user</td><td>labuser9907309_1744210882</td></tr><tr><td>table_constraints</td><td>System user</td><td>System user</td><td>2025-04-09T15:02:03.391Z</td><td>System user</td><td>labuser9907309_1744210882</td></tr><tr><td>table_tags</td><td>System user</td><td>System user</td><td>2025-04-09T15:02:03.667Z</td><td>System user</td><td>labuser9907309_1744210882</td></tr><tr><td>catalog_tags</td><td>System user</td><td>System user</td><td>2025-04-09T15:02:03.628Z</td><td>System user</td><td>labuser9907309_1744210882</td></tr><tr><td>schema_privileges</td><td>System user</td><td>System user</td><td>2025-04-09T15:02:03.346Z</td><td>System user</td><td>labuser9907309_1744210882</td></tr><tr><td>volume_tags</td><td>System user</td><td>System user</td><td>2025-04-09T15:02:03.708Z</td><td>System user</td><td>labuser9907309_1744210882</td></tr><tr><td>schemata</td><td>System user</td><td>System user</td><td>2025-04-09T15:02:03.367Z</td><td>System user</td><td>labuser9907309_1744210882</td></tr><tr><td>volumes</td><td>System user</td><td>System user</td><td>2025-04-09T15:02:03.586Z</td><td>System user</td><td>labuser9907309_1744210882</td></tr><tr><td>customer</td><td>System user</td><td>System user</td><td>2025-04-09T14:00:25.693Z</td><td>System user</td><td>samples</td></tr><tr><td>columns</td><td>System user</td><td>System user</td><td>2025-04-09T15:02:03.149Z</td><td>System user</td><td>labuser9907309_1744210882</td></tr><tr><td>vw_gold</td><td>labuser9907309_1744210882@vocareum.com</td><td>labuser9907309_1744210882@vocareum.com</td><td>2025-04-09T15:09:29.167Z</td><td>labuser9907309_1744210882@vocareum.com</td><td>labuser9907309_1744210882</td></tr><tr><td>referential_constraints</td><td>System user</td><td>System user</td><td>2025-04-09T15:02:03.229Z</td><td>System user</td><td>labuser9907309_1744210882</td></tr><tr><td>routines</td><td>System user</td><td>System user</td><td>2025-04-09T15:02:03.25Z</td><td>System user</td><td>labuser9907309_1744210882</td></tr><tr><td>check_constraints</td><td>System user</td><td>System user</td><td>2025-04-09T15:02:03.126Z</td><td>System user</td><td>labuser9907309_1744210882</td></tr><tr><td>row_filters</td><td>System user</td><td>System user</td><td>2025-04-09T15:02:03.545Z</td><td>System user</td><td>labuser9907309_1744210882</td></tr><tr><td>movies_bronze</td><td>metastore_admins</td><td>9556a37f-7dc0-4b5f-849c-babbde9b34af</td><td>2025-04-09T13:40:30.407Z</td><td>metastore_admins</td><td>dbacademy_movies</td></tr><tr><td>information_schema_catalog_name</td><td>System user</td><td>System user</td><td>2025-04-09T15:02:03.209Z</td><td>System user</td><td>labuser9907309_1744210882</td></tr><tr><td>catalogs</td><td>System user</td><td>System user</td><td>2025-04-09T15:02:03.103Z</td><td>System user</td><td>labuser9907309_1744210882</td></tr><tr><td>volume_privileges</td><td>System user</td><td>System user</td><td>2025-04-09T15:02:03.607Z</td><td>System user</td><td>labuser9907309_1744210882</td></tr><tr><td>constraint_table_usage</td><td>System user</td><td>System user</td><td>2025-04-09T15:02:03.457Z</td><td>System user</td><td>labuser9907309_1744210882</td></tr><tr><td>schema_tags</td><td>System user</td><td>System user</td><td>2025-04-09T15:02:03.647Z</td><td>System user</td><td>labuser9907309_1744210882</td></tr><tr><td>parameters</td><td>System user</td><td>System user</td><td>2025-04-09T15:02:03.299Z</td><td>System user</td><td>labuser9907309_1744210882</td></tr><tr><td>silver</td><td>labuser9907309_1744210882@vocareum.com</td><td>labuser9907309_1744210882@vocareum.com</td><td>2025-04-09T15:09:13.847Z</td><td>labuser9907309_1744210882@vocareum.com</td><td>labuser9907309_1744210882</td></tr><tr><td>tables</td><td>System user</td><td>System user</td><td>2025-04-09T15:02:03.5Z</td><td>System user</td><td>labuser9907309_1744210882</td></tr><tr><td>key_column_usage</td><td>System user</td><td>System user</td><td>2025-04-09T15:02:03.412Z</td><td>System user</td><td>labuser9907309_1744210882</td></tr><tr><td>constraint_column_usage</td><td>System user</td><td>System user</td><td>2025-04-09T15:02:03.436Z</td><td>System user</td><td>labuser9907309_1744210882</td></tr><tr><td>column_masks</td><td>System user</td><td>System user</td><td>2025-04-09T15:02:03.565Z</td><td>System user</td><td>labuser9907309_1744210882</td></tr><tr><td>column_tags</td><td>System user</td><td>System user</td><td>2025-04-09T15:02:03.687Z</td><td>System user</td><td>labuser9907309_1744210882</td></tr></tbody></table></div>"
      ]
     },
     "metadata": {
      "application/vnd.databricks.v1+output": {
       "addedWidgets": {},
       "aggData": [],
       "aggError": "",
       "aggOverflow": false,
       "aggSchema": [],
       "aggSeriesLimitReached": false,
       "aggType": "",
       "arguments": {},
       "columnCustomDisplayInfos": {},
       "data": [
        [
         "catalog_privileges",
         "System user",
         "System user",
         "2025-04-09T15:02:03.081Z",
         "System user",
         "labuser9907309_1744210882"
        ],
        [
         "views",
         "System user",
         "System user",
         "2025-04-09T15:02:03.522Z",
         "System user",
         "labuser9907309_1744210882"
        ],
        [
         "meta",
         "metastore_admins",
         "9556a37f-7dc0-4b5f-849c-babbde9b34af",
         "2025-04-09T15:02:01.877Z",
         "9556a37f-7dc0-4b5f-849c-babbde9b34af",
         "dbacademy"
        ],
        [
         "routine_columns",
         "System user",
         "System user",
         "2025-04-09T15:02:03.276Z",
         "System user",
         "labuser9907309_1744210882"
        ],
        [
         "customers",
         "metastore_admins",
         "9556a37f-7dc0-4b5f-849c-babbde9b34af",
         "2025-04-09T10:37:27.937Z",
         "System user",
         "dbacademy_retail"
        ],
        [
         "table_privileges",
         "System user",
         "System user",
         "2025-04-09T15:02:03.477Z",
         "System user",
         "labuser9907309_1744210882"
        ],
        [
         "routine_privileges",
         "System user",
         "System user",
         "2025-04-09T15:02:03.324Z",
         "System user",
         "labuser9907309_1744210882"
        ],
        [
         "table_constraints",
         "System user",
         "System user",
         "2025-04-09T15:02:03.391Z",
         "System user",
         "labuser9907309_1744210882"
        ],
        [
         "table_tags",
         "System user",
         "System user",
         "2025-04-09T15:02:03.667Z",
         "System user",
         "labuser9907309_1744210882"
        ],
        [
         "catalog_tags",
         "System user",
         "System user",
         "2025-04-09T15:02:03.628Z",
         "System user",
         "labuser9907309_1744210882"
        ],
        [
         "schema_privileges",
         "System user",
         "System user",
         "2025-04-09T15:02:03.346Z",
         "System user",
         "labuser9907309_1744210882"
        ],
        [
         "volume_tags",
         "System user",
         "System user",
         "2025-04-09T15:02:03.708Z",
         "System user",
         "labuser9907309_1744210882"
        ],
        [
         "schemata",
         "System user",
         "System user",
         "2025-04-09T15:02:03.367Z",
         "System user",
         "labuser9907309_1744210882"
        ],
        [
         "volumes",
         "System user",
         "System user",
         "2025-04-09T15:02:03.586Z",
         "System user",
         "labuser9907309_1744210882"
        ],
        [
         "customer",
         "System user",
         "System user",
         "2025-04-09T14:00:25.693Z",
         "System user",
         "samples"
        ],
        [
         "columns",
         "System user",
         "System user",
         "2025-04-09T15:02:03.149Z",
         "System user",
         "labuser9907309_1744210882"
        ],
        [
         "vw_gold",
         "labuser9907309_1744210882@vocareum.com",
         "labuser9907309_1744210882@vocareum.com",
         "2025-04-09T15:09:29.167Z",
         "labuser9907309_1744210882@vocareum.com",
         "labuser9907309_1744210882"
        ],
        [
         "referential_constraints",
         "System user",
         "System user",
         "2025-04-09T15:02:03.229Z",
         "System user",
         "labuser9907309_1744210882"
        ],
        [
         "routines",
         "System user",
         "System user",
         "2025-04-09T15:02:03.25Z",
         "System user",
         "labuser9907309_1744210882"
        ],
        [
         "check_constraints",
         "System user",
         "System user",
         "2025-04-09T15:02:03.126Z",
         "System user",
         "labuser9907309_1744210882"
        ],
        [
         "row_filters",
         "System user",
         "System user",
         "2025-04-09T15:02:03.545Z",
         "System user",
         "labuser9907309_1744210882"
        ],
        [
         "movies_bronze",
         "metastore_admins",
         "9556a37f-7dc0-4b5f-849c-babbde9b34af",
         "2025-04-09T13:40:30.407Z",
         "metastore_admins",
         "dbacademy_movies"
        ],
        [
         "information_schema_catalog_name",
         "System user",
         "System user",
         "2025-04-09T15:02:03.209Z",
         "System user",
         "labuser9907309_1744210882"
        ],
        [
         "catalogs",
         "System user",
         "System user",
         "2025-04-09T15:02:03.103Z",
         "System user",
         "labuser9907309_1744210882"
        ],
        [
         "volume_privileges",
         "System user",
         "System user",
         "2025-04-09T15:02:03.607Z",
         "System user",
         "labuser9907309_1744210882"
        ],
        [
         "constraint_table_usage",
         "System user",
         "System user",
         "2025-04-09T15:02:03.457Z",
         "System user",
         "labuser9907309_1744210882"
        ],
        [
         "schema_tags",
         "System user",
         "System user",
         "2025-04-09T15:02:03.647Z",
         "System user",
         "labuser9907309_1744210882"
        ],
        [
         "parameters",
         "System user",
         "System user",
         "2025-04-09T15:02:03.299Z",
         "System user",
         "labuser9907309_1744210882"
        ],
        [
         "silver",
         "labuser9907309_1744210882@vocareum.com",
         "labuser9907309_1744210882@vocareum.com",
         "2025-04-09T15:09:13.847Z",
         "labuser9907309_1744210882@vocareum.com",
         "labuser9907309_1744210882"
        ],
        [
         "tables",
         "System user",
         "System user",
         "2025-04-09T15:02:03.5Z",
         "System user",
         "labuser9907309_1744210882"
        ],
        [
         "key_column_usage",
         "System user",
         "System user",
         "2025-04-09T15:02:03.412Z",
         "System user",
         "labuser9907309_1744210882"
        ],
        [
         "constraint_column_usage",
         "System user",
         "System user",
         "2025-04-09T15:02:03.436Z",
         "System user",
         "labuser9907309_1744210882"
        ],
        [
         "column_masks",
         "System user",
         "System user",
         "2025-04-09T15:02:03.565Z",
         "System user",
         "labuser9907309_1744210882"
        ],
        [
         "column_tags",
         "System user",
         "System user",
         "2025-04-09T15:02:03.687Z",
         "System user",
         "labuser9907309_1744210882"
        ]
       ],
       "datasetInfos": [],
       "dbfsResultPath": null,
       "isJsonSchema": true,
       "metadata": {
        "isDbfsCommandResult": false
       },
       "overflow": false,
       "plotOptions": {
        "customPlotOptions": {},
        "displayType": "table",
        "pivotAggregation": null,
        "pivotColumns": null,
        "xColumns": null,
        "yColumns": null
       },
       "removedWidgets": [],
       "schema": [
        {
         "metadata": "{\"comment\":\"Name of the relation.\"}",
         "name": "table_name",
         "type": "\"string\""
        },
        {
         "metadata": "{\"comment\":\"User or group (principal) currently owning the relation.\"}",
         "name": "table_owner",
         "type": "\"string\""
        },
        {
         "metadata": "{\"comment\":\"Principal which created the relation.\"}",
         "name": "created_by",
         "type": "\"string\""
        },
        {
         "metadata": "{\"comment\":\"Timestamp when the relation definition was last altered in any way.\"}",
         "name": "last_altered",
         "type": "\"timestamp\""
        },
        {
         "metadata": "{\"comment\":\"Principal which last altered the relation.\"}",
         "name": "last_altered_by",
         "type": "\"string\""
        },
        {
         "metadata": "{\"comment\":\"Catalog that contains the relation.\"}",
         "name": "table_catalog",
         "type": "\"string\""
        }
       ],
       "type": "table"
      }
     },
     "output_type": "display_data"
    }
   ],
   "source": [
    "SELECT \n",
    "    table_name, \n",
    "    table_owner, \n",
    "    created_by, \n",
    "    last_altered, \n",
    "    last_altered_by, \n",
    "    table_catalog\n",
    "FROM system.information_schema.tables\n",
    "WHERE  datediff(now(), last_altered) < 1;"
   ]
  },
  {
   "cell_type": "markdown",
   "metadata": {
    "application/vnd.databricks.v1+cell": {
     "cellMetadata": {},
     "inputWidgets": {},
     "nuid": "d63dacba-2176-42fb-8fbf-557e12780680",
     "showTitle": false,
     "tableResultSettingsMap": {},
     "title": ""
    }
   },
   "source": [
    "### D2. Information Schema\n",
    "\n",
    "The *information_schema* is automatically created with each catalog and contains a collection of views whose purpose is to provide a SQL-based, self-describing API to the metadata related to the elements contained within the catalog.\n",
    "\n",
    "The relations found in this schema are documented <a href=\"https://docs.databricks.com/sql/language-manual/sql-ref-information-schema.html\" target=\"_blank\">here</a>. \n",
    "\n",
    "1. As a basic example, let's see all of your available tables in your default catalog. Note that since we only specify two levels here, we're referencing the default catalog selected earlier."
   ]
  },
  {
   "cell_type": "code",
   "execution_count": 0,
   "metadata": {
    "application/vnd.databricks.v1+cell": {
     "cellMetadata": {
      "byteLimit": 2048000,
      "rowLimit": 10000
     },
     "inputWidgets": {},
     "nuid": "0dbfd487-2569-453a-9a3c-fa2e72fce6b2",
     "showTitle": false,
     "tableResultSettingsMap": {},
     "title": ""
    }
   },
   "outputs": [
    {
     "output_type": "display_data",
     "data": {
      "text/html": [
       "<style scoped>\n",
       "  .table-result-container {\n",
       "    max-height: 300px;\n",
       "    overflow: auto;\n",
       "  }\n",
       "  table, th, td {\n",
       "    border: 1px solid black;\n",
       "    border-collapse: collapse;\n",
       "  }\n",
       "  th, td {\n",
       "    padding: 5px;\n",
       "  }\n",
       "  th {\n",
       "    text-align: left;\n",
       "  }\n",
       "</style><div class='table-result-container'><table class='table-result'><thead style='background-color: white'><tr><th>table_catalog</th><th>table_schema</th><th>table_name</th><th>table_type</th><th>is_insertable_into</th><th>commit_action</th><th>table_owner</th><th>comment</th><th>created</th><th>created_by</th><th>last_altered</th><th>last_altered_by</th><th>data_source_format</th><th>storage_sub_directory</th><th>storage_path</th></tr></thead><tbody><tr><td>labuser9907309_1744210882</td><td>information_schema</td><td>catalog_privileges</td><td>VIEW</td><td>NO</td><td>PRESERVE</td><td>System user</td><td>Lists principals that have privileges on the catalogs.</td><td>2025-04-09T15:02:03.081Z</td><td>System user</td><td>2025-04-09T15:02:03.081Z</td><td>System user</td><td>UNKNOWN_DATA_SOURCE_FORMAT</td><td>null</td><td>null</td></tr><tr><td>labuser9907309_1744210882</td><td>information_schema</td><td>views</td><td>VIEW</td><td>NO</td><td>PRESERVE</td><td>System user</td><td>Describes view specific information about the views in the catalog.</td><td>2025-04-09T15:02:03.522Z</td><td>System user</td><td>2025-04-09T15:02:03.522Z</td><td>System user</td><td>UNKNOWN_DATA_SOURCE_FORMAT</td><td>null</td><td>null</td></tr><tr><td>labuser9907309_1744210882</td><td>information_schema</td><td>routine_columns</td><td>VIEW</td><td>NO</td><td>PRESERVE</td><td>System user</td><td>Describes result columns of table valued functions.</td><td>2025-04-09T15:02:03.276Z</td><td>System user</td><td>2025-04-09T15:02:03.276Z</td><td>System user</td><td>UNKNOWN_DATA_SOURCE_FORMAT</td><td>null</td><td>null</td></tr><tr><td>labuser9907309_1744210882</td><td>information_schema</td><td>table_privileges</td><td>VIEW</td><td>NO</td><td>PRESERVE</td><td>System user</td><td>Lists principals that have privileges on the tables and views in the catalog.</td><td>2025-04-09T15:02:03.477Z</td><td>System user</td><td>2025-04-09T15:02:03.477Z</td><td>System user</td><td>UNKNOWN_DATA_SOURCE_FORMAT</td><td>null</td><td>null</td></tr><tr><td>labuser9907309_1744210882</td><td>information_schema</td><td>routine_privileges</td><td>VIEW</td><td>NO</td><td>PRESERVE</td><td>System user</td><td>Lists principals that have privileges on the routines in the catalog.</td><td>2025-04-09T15:02:03.324Z</td><td>System user</td><td>2025-04-09T15:02:03.324Z</td><td>System user</td><td>UNKNOWN_DATA_SOURCE_FORMAT</td><td>null</td><td>null</td></tr><tr><td>labuser9907309_1744210882</td><td>information_schema</td><td>table_constraints</td><td>VIEW</td><td>NO</td><td>PRESERVE</td><td>System user</td><td>Describes metadata for all primary and foreign key constraints within the catalog.</td><td>2025-04-09T15:02:03.391Z</td><td>System user</td><td>2025-04-09T15:02:03.391Z</td><td>System user</td><td>UNKNOWN_DATA_SOURCE_FORMAT</td><td>null</td><td>null</td></tr><tr><td>labuser9907309_1744210882</td><td>information_schema</td><td>table_tags</td><td>VIEW</td><td>NO</td><td>PRESERVE</td><td>System user</td><td>null</td><td>2025-04-09T15:02:03.667Z</td><td>System user</td><td>2025-04-09T15:02:03.667Z</td><td>System user</td><td>UNKNOWN_DATA_SOURCE_FORMAT</td><td>null</td><td>null</td></tr><tr><td>labuser9907309_1744210882</td><td>information_schema</td><td>catalog_tags</td><td>VIEW</td><td>NO</td><td>PRESERVE</td><td>System user</td><td>null</td><td>2025-04-09T15:02:03.628Z</td><td>System user</td><td>2025-04-09T15:02:03.628Z</td><td>System user</td><td>UNKNOWN_DATA_SOURCE_FORMAT</td><td>null</td><td>null</td></tr><tr><td>labuser9907309_1744210882</td><td>information_schema</td><td>schema_privileges</td><td>VIEW</td><td>NO</td><td>PRESERVE</td><td>System user</td><td>Lists principals that have privileges on the schemas in the catalog.</td><td>2025-04-09T15:02:03.346Z</td><td>System user</td><td>2025-04-09T15:02:03.346Z</td><td>System user</td><td>UNKNOWN_DATA_SOURCE_FORMAT</td><td>null</td><td>null</td></tr><tr><td>labuser9907309_1744210882</td><td>information_schema</td><td>volume_tags</td><td>VIEW</td><td>NO</td><td>PRESERVE</td><td>System user</td><td>null</td><td>2025-04-09T15:02:03.708Z</td><td>System user</td><td>2025-04-09T15:02:03.708Z</td><td>System user</td><td>UNKNOWN_DATA_SOURCE_FORMAT</td><td>null</td><td>null</td></tr><tr><td>labuser9907309_1744210882</td><td>information_schema</td><td>schemata</td><td>VIEW</td><td>NO</td><td>PRESERVE</td><td>System user</td><td>Describes schemas within the catalog.</td><td>2025-04-09T15:02:03.367Z</td><td>System user</td><td>2025-04-09T15:02:03.367Z</td><td>System user</td><td>UNKNOWN_DATA_SOURCE_FORMAT</td><td>null</td><td>null</td></tr><tr><td>labuser9907309_1744210882</td><td>information_schema</td><td>volumes</td><td>VIEW</td><td>NO</td><td>PRESERVE</td><td>System user</td><td>null</td><td>2025-04-09T15:02:03.586Z</td><td>System user</td><td>2025-04-09T15:02:03.586Z</td><td>System user</td><td>UNKNOWN_DATA_SOURCE_FORMAT</td><td>null</td><td>null</td></tr><tr><td>labuser9907309_1744210882</td><td>information_schema</td><td>columns</td><td>VIEW</td><td>NO</td><td>PRESERVE</td><td>System user</td><td>Describes columns of tables and views in the catalog.</td><td>2025-04-09T15:02:03.149Z</td><td>System user</td><td>2025-04-09T15:02:03.149Z</td><td>System user</td><td>UNKNOWN_DATA_SOURCE_FORMAT</td><td>null</td><td>null</td></tr><tr><td>labuser9907309_1744210882</td><td>example</td><td>vw_gold</td><td>VIEW</td><td>NO</td><td>PRESERVE</td><td>labuser9907309_1744210882@vocareum.com</td><td>null</td><td>2025-04-09T15:09:29.167Z</td><td>labuser9907309_1744210882@vocareum.com</td><td>2025-04-09T15:09:29.167Z</td><td>labuser9907309_1744210882@vocareum.com</td><td>UNKNOWN_DATA_SOURCE_FORMAT</td><td>null</td><td>null</td></tr><tr><td>labuser9907309_1744210882</td><td>information_schema</td><td>referential_constraints</td><td>VIEW</td><td>NO</td><td>PRESERVE</td><td>System user</td><td>Describes referential (foreign key) constraints defined in the catalog.</td><td>2025-04-09T15:02:03.229Z</td><td>System user</td><td>2025-04-09T15:02:03.229Z</td><td>System user</td><td>UNKNOWN_DATA_SOURCE_FORMAT</td><td>null</td><td>null</td></tr><tr><td>labuser9907309_1744210882</td><td>information_schema</td><td>routines</td><td>VIEW</td><td>NO</td><td>PRESERVE</td><td>System user</td><td>Describes routines (functions) in the catalog.</td><td>2025-04-09T15:02:03.25Z</td><td>System user</td><td>2025-04-09T15:02:03.25Z</td><td>System user</td><td>UNKNOWN_DATA_SOURCE_FORMAT</td><td>null</td><td>null</td></tr><tr><td>labuser9907309_1744210882</td><td>information_schema</td><td>check_constraints</td><td>VIEW</td><td>NO</td><td>PRESERVE</td><td>System user</td><td>Reserved for future use.</td><td>2025-04-09T15:02:03.126Z</td><td>System user</td><td>2025-04-09T15:02:03.126Z</td><td>System user</td><td>UNKNOWN_DATA_SOURCE_FORMAT</td><td>null</td><td>null</td></tr><tr><td>labuser9907309_1744210882</td><td>information_schema</td><td>row_filters</td><td>VIEW</td><td>NO</td><td>PRESERVE</td><td>System user</td><td>null</td><td>2025-04-09T15:02:03.545Z</td><td>System user</td><td>2025-04-09T15:02:03.545Z</td><td>System user</td><td>UNKNOWN_DATA_SOURCE_FORMAT</td><td>null</td><td>null</td></tr><tr><td>labuser9907309_1744210882</td><td>information_schema</td><td>information_schema_catalog_name</td><td>VIEW</td><td>NO</td><td>PRESERVE</td><td>System user</td><td>Returns the name of this information schema’s catalog.</td><td>2025-04-09T15:02:03.209Z</td><td>System user</td><td>2025-04-09T15:02:03.209Z</td><td>System user</td><td>UNKNOWN_DATA_SOURCE_FORMAT</td><td>null</td><td>null</td></tr><tr><td>labuser9907309_1744210882</td><td>information_schema</td><td>catalogs</td><td>VIEW</td><td>NO</td><td>PRESERVE</td><td>System user</td><td>Describes catalogs.</td><td>2025-04-09T15:02:03.103Z</td><td>System user</td><td>2025-04-09T15:02:03.103Z</td><td>System user</td><td>UNKNOWN_DATA_SOURCE_FORMAT</td><td>null</td><td>null</td></tr><tr><td>labuser9907309_1744210882</td><td>information_schema</td><td>volume_privileges</td><td>VIEW</td><td>NO</td><td>PRESERVE</td><td>System user</td><td>null</td><td>2025-04-09T15:02:03.607Z</td><td>System user</td><td>2025-04-09T15:02:03.607Z</td><td>System user</td><td>UNKNOWN_DATA_SOURCE_FORMAT</td><td>null</td><td>null</td></tr><tr><td>labuser9907309_1744210882</td><td>information_schema</td><td>constraint_table_usage</td><td>VIEW</td><td>NO</td><td>PRESERVE</td><td>System user</td><td>Describes the constraints referencing tables in the catalog.</td><td>2025-04-09T15:02:03.457Z</td><td>System user</td><td>2025-04-09T15:02:03.457Z</td><td>System user</td><td>UNKNOWN_DATA_SOURCE_FORMAT</td><td>null</td><td>null</td></tr><tr><td>labuser9907309_1744210882</td><td>information_schema</td><td>schema_tags</td><td>VIEW</td><td>NO</td><td>PRESERVE</td><td>System user</td><td>null</td><td>2025-04-09T15:02:03.647Z</td><td>System user</td><td>2025-04-09T15:02:03.647Z</td><td>System user</td><td>UNKNOWN_DATA_SOURCE_FORMAT</td><td>null</td><td>null</td></tr><tr><td>labuser9907309_1744210882</td><td>information_schema</td><td>parameters</td><td>VIEW</td><td>NO</td><td>PRESERVE</td><td>System user</td><td>Describes parameters of routines (functions) in the catalog.</td><td>2025-04-09T15:02:03.299Z</td><td>System user</td><td>2025-04-09T15:02:03.299Z</td><td>System user</td><td>UNKNOWN_DATA_SOURCE_FORMAT</td><td>null</td><td>null</td></tr><tr><td>labuser9907309_1744210882</td><td>example</td><td>silver</td><td>MANAGED</td><td>YES</td><td>PRESERVE</td><td>labuser9907309_1744210882@vocareum.com</td><td>null</td><td>2025-04-09T15:09:13.847Z</td><td>labuser9907309_1744210882@vocareum.com</td><td>2025-04-09T15:09:13.847Z</td><td>labuser9907309_1744210882@vocareum.com</td><td>DELTA</td><td>tables/c555299e-bb89-4461-9b4c-97c7d9efe395</td><td>s3://unity-catalogs-us-west-2/metastore/3763185-root/83642ff0-0464-4d77-9401-f8233c076a6c/tables/c555299e-bb89-4461-9b4c-97c7d9efe395</td></tr><tr><td>labuser9907309_1744210882</td><td>information_schema</td><td>tables</td><td>VIEW</td><td>NO</td><td>PRESERVE</td><td>System user</td><td>Describes tables and views defined within the catalog.</td><td>2025-04-09T15:02:03.5Z</td><td>System user</td><td>2025-04-09T15:02:03.5Z</td><td>System user</td><td>UNKNOWN_DATA_SOURCE_FORMAT</td><td>null</td><td>null</td></tr><tr><td>labuser9907309_1744210882</td><td>information_schema</td><td>key_column_usage</td><td>VIEW</td><td>NO</td><td>PRESERVE</td><td>System user</td><td>Lists the columns of the primary or foreign key constraints within the catalog.</td><td>2025-04-09T15:02:03.412Z</td><td>System user</td><td>2025-04-09T15:02:03.412Z</td><td>System user</td><td>UNKNOWN_DATA_SOURCE_FORMAT</td><td>null</td><td>null</td></tr><tr><td>labuser9907309_1744210882</td><td>information_schema</td><td>constraint_column_usage</td><td>VIEW</td><td>NO</td><td>PRESERVE</td><td>System user</td><td>Describes the constraints referencing columns in the catalog.</td><td>2025-04-09T15:02:03.436Z</td><td>System user</td><td>2025-04-09T15:02:03.436Z</td><td>System user</td><td>UNKNOWN_DATA_SOURCE_FORMAT</td><td>null</td><td>null</td></tr><tr><td>labuser9907309_1744210882</td><td>information_schema</td><td>column_masks</td><td>VIEW</td><td>NO</td><td>PRESERVE</td><td>System user</td><td>null</td><td>2025-04-09T15:02:03.565Z</td><td>System user</td><td>2025-04-09T15:02:03.565Z</td><td>System user</td><td>UNKNOWN_DATA_SOURCE_FORMAT</td><td>null</td><td>null</td></tr><tr><td>labuser9907309_1744210882</td><td>information_schema</td><td>column_tags</td><td>VIEW</td><td>NO</td><td>PRESERVE</td><td>System user</td><td>null</td><td>2025-04-09T15:02:03.687Z</td><td>System user</td><td>2025-04-09T15:02:03.687Z</td><td>System user</td><td>UNKNOWN_DATA_SOURCE_FORMAT</td><td>null</td><td>null</td></tr></tbody></table></div>"
      ]
     },
     "metadata": {
      "application/vnd.databricks.v1+output": {
       "addedWidgets": {},
       "aggData": [],
       "aggError": "",
       "aggOverflow": false,
       "aggSchema": [],
       "aggSeriesLimitReached": false,
       "aggType": "",
       "arguments": {},
       "columnCustomDisplayInfos": {},
       "data": [
        [
         "labuser9907309_1744210882",
         "information_schema",
         "catalog_privileges",
         "VIEW",
         "NO",
         "PRESERVE",
         "System user",
         "Lists principals that have privileges on the catalogs.",
         "2025-04-09T15:02:03.081Z",
         "System user",
         "2025-04-09T15:02:03.081Z",
         "System user",
         "UNKNOWN_DATA_SOURCE_FORMAT",
         null,
         null
        ],
        [
         "labuser9907309_1744210882",
         "information_schema",
         "views",
         "VIEW",
         "NO",
         "PRESERVE",
         "System user",
         "Describes view specific information about the views in the catalog.",
         "2025-04-09T15:02:03.522Z",
         "System user",
         "2025-04-09T15:02:03.522Z",
         "System user",
         "UNKNOWN_DATA_SOURCE_FORMAT",
         null,
         null
        ],
        [
         "labuser9907309_1744210882",
         "information_schema",
         "routine_columns",
         "VIEW",
         "NO",
         "PRESERVE",
         "System user",
         "Describes result columns of table valued functions.",
         "2025-04-09T15:02:03.276Z",
         "System user",
         "2025-04-09T15:02:03.276Z",
         "System user",
         "UNKNOWN_DATA_SOURCE_FORMAT",
         null,
         null
        ],
        [
         "labuser9907309_1744210882",
         "information_schema",
         "table_privileges",
         "VIEW",
         "NO",
         "PRESERVE",
         "System user",
         "Lists principals that have privileges on the tables and views in the catalog.",
         "2025-04-09T15:02:03.477Z",
         "System user",
         "2025-04-09T15:02:03.477Z",
         "System user",
         "UNKNOWN_DATA_SOURCE_FORMAT",
         null,
         null
        ],
        [
         "labuser9907309_1744210882",
         "information_schema",
         "routine_privileges",
         "VIEW",
         "NO",
         "PRESERVE",
         "System user",
         "Lists principals that have privileges on the routines in the catalog.",
         "2025-04-09T15:02:03.324Z",
         "System user",
         "2025-04-09T15:02:03.324Z",
         "System user",
         "UNKNOWN_DATA_SOURCE_FORMAT",
         null,
         null
        ],
        [
         "labuser9907309_1744210882",
         "information_schema",
         "table_constraints",
         "VIEW",
         "NO",
         "PRESERVE",
         "System user",
         "Describes metadata for all primary and foreign key constraints within the catalog.",
         "2025-04-09T15:02:03.391Z",
         "System user",
         "2025-04-09T15:02:03.391Z",
         "System user",
         "UNKNOWN_DATA_SOURCE_FORMAT",
         null,
         null
        ],
        [
         "labuser9907309_1744210882",
         "information_schema",
         "table_tags",
         "VIEW",
         "NO",
         "PRESERVE",
         "System user",
         null,
         "2025-04-09T15:02:03.667Z",
         "System user",
         "2025-04-09T15:02:03.667Z",
         "System user",
         "UNKNOWN_DATA_SOURCE_FORMAT",
         null,
         null
        ],
        [
         "labuser9907309_1744210882",
         "information_schema",
         "catalog_tags",
         "VIEW",
         "NO",
         "PRESERVE",
         "System user",
         null,
         "2025-04-09T15:02:03.628Z",
         "System user",
         "2025-04-09T15:02:03.628Z",
         "System user",
         "UNKNOWN_DATA_SOURCE_FORMAT",
         null,
         null
        ],
        [
         "labuser9907309_1744210882",
         "information_schema",
         "schema_privileges",
         "VIEW",
         "NO",
         "PRESERVE",
         "System user",
         "Lists principals that have privileges on the schemas in the catalog.",
         "2025-04-09T15:02:03.346Z",
         "System user",
         "2025-04-09T15:02:03.346Z",
         "System user",
         "UNKNOWN_DATA_SOURCE_FORMAT",
         null,
         null
        ],
        [
         "labuser9907309_1744210882",
         "information_schema",
         "volume_tags",
         "VIEW",
         "NO",
         "PRESERVE",
         "System user",
         null,
         "2025-04-09T15:02:03.708Z",
         "System user",
         "2025-04-09T15:02:03.708Z",
         "System user",
         "UNKNOWN_DATA_SOURCE_FORMAT",
         null,
         null
        ],
        [
         "labuser9907309_1744210882",
         "information_schema",
         "schemata",
         "VIEW",
         "NO",
         "PRESERVE",
         "System user",
         "Describes schemas within the catalog.",
         "2025-04-09T15:02:03.367Z",
         "System user",
         "2025-04-09T15:02:03.367Z",
         "System user",
         "UNKNOWN_DATA_SOURCE_FORMAT",
         null,
         null
        ],
        [
         "labuser9907309_1744210882",
         "information_schema",
         "volumes",
         "VIEW",
         "NO",
         "PRESERVE",
         "System user",
         null,
         "2025-04-09T15:02:03.586Z",
         "System user",
         "2025-04-09T15:02:03.586Z",
         "System user",
         "UNKNOWN_DATA_SOURCE_FORMAT",
         null,
         null
        ],
        [
         "labuser9907309_1744210882",
         "information_schema",
         "columns",
         "VIEW",
         "NO",
         "PRESERVE",
         "System user",
         "Describes columns of tables and views in the catalog.",
         "2025-04-09T15:02:03.149Z",
         "System user",
         "2025-04-09T15:02:03.149Z",
         "System user",
         "UNKNOWN_DATA_SOURCE_FORMAT",
         null,
         null
        ],
        [
         "labuser9907309_1744210882",
         "example",
         "vw_gold",
         "VIEW",
         "NO",
         "PRESERVE",
         "labuser9907309_1744210882@vocareum.com",
         null,
         "2025-04-09T15:09:29.167Z",
         "labuser9907309_1744210882@vocareum.com",
         "2025-04-09T15:09:29.167Z",
         "labuser9907309_1744210882@vocareum.com",
         "UNKNOWN_DATA_SOURCE_FORMAT",
         null,
         null
        ],
        [
         "labuser9907309_1744210882",
         "information_schema",
         "referential_constraints",
         "VIEW",
         "NO",
         "PRESERVE",
         "System user",
         "Describes referential (foreign key) constraints defined in the catalog.",
         "2025-04-09T15:02:03.229Z",
         "System user",
         "2025-04-09T15:02:03.229Z",
         "System user",
         "UNKNOWN_DATA_SOURCE_FORMAT",
         null,
         null
        ],
        [
         "labuser9907309_1744210882",
         "information_schema",
         "routines",
         "VIEW",
         "NO",
         "PRESERVE",
         "System user",
         "Describes routines (functions) in the catalog.",
         "2025-04-09T15:02:03.25Z",
         "System user",
         "2025-04-09T15:02:03.25Z",
         "System user",
         "UNKNOWN_DATA_SOURCE_FORMAT",
         null,
         null
        ],
        [
         "labuser9907309_1744210882",
         "information_schema",
         "check_constraints",
         "VIEW",
         "NO",
         "PRESERVE",
         "System user",
         "Reserved for future use.",
         "2025-04-09T15:02:03.126Z",
         "System user",
         "2025-04-09T15:02:03.126Z",
         "System user",
         "UNKNOWN_DATA_SOURCE_FORMAT",
         null,
         null
        ],
        [
         "labuser9907309_1744210882",
         "information_schema",
         "row_filters",
         "VIEW",
         "NO",
         "PRESERVE",
         "System user",
         null,
         "2025-04-09T15:02:03.545Z",
         "System user",
         "2025-04-09T15:02:03.545Z",
         "System user",
         "UNKNOWN_DATA_SOURCE_FORMAT",
         null,
         null
        ],
        [
         "labuser9907309_1744210882",
         "information_schema",
         "information_schema_catalog_name",
         "VIEW",
         "NO",
         "PRESERVE",
         "System user",
         "Returns the name of this information schema’s catalog.",
         "2025-04-09T15:02:03.209Z",
         "System user",
         "2025-04-09T15:02:03.209Z",
         "System user",
         "UNKNOWN_DATA_SOURCE_FORMAT",
         null,
         null
        ],
        [
         "labuser9907309_1744210882",
         "information_schema",
         "catalogs",
         "VIEW",
         "NO",
         "PRESERVE",
         "System user",
         "Describes catalogs.",
         "2025-04-09T15:02:03.103Z",
         "System user",
         "2025-04-09T15:02:03.103Z",
         "System user",
         "UNKNOWN_DATA_SOURCE_FORMAT",
         null,
         null
        ],
        [
         "labuser9907309_1744210882",
         "information_schema",
         "volume_privileges",
         "VIEW",
         "NO",
         "PRESERVE",
         "System user",
         null,
         "2025-04-09T15:02:03.607Z",
         "System user",
         "2025-04-09T15:02:03.607Z",
         "System user",
         "UNKNOWN_DATA_SOURCE_FORMAT",
         null,
         null
        ],
        [
         "labuser9907309_1744210882",
         "information_schema",
         "constraint_table_usage",
         "VIEW",
         "NO",
         "PRESERVE",
         "System user",
         "Describes the constraints referencing tables in the catalog.",
         "2025-04-09T15:02:03.457Z",
         "System user",
         "2025-04-09T15:02:03.457Z",
         "System user",
         "UNKNOWN_DATA_SOURCE_FORMAT",
         null,
         null
        ],
        [
         "labuser9907309_1744210882",
         "information_schema",
         "schema_tags",
         "VIEW",
         "NO",
         "PRESERVE",
         "System user",
         null,
         "2025-04-09T15:02:03.647Z",
         "System user",
         "2025-04-09T15:02:03.647Z",
         "System user",
         "UNKNOWN_DATA_SOURCE_FORMAT",
         null,
         null
        ],
        [
         "labuser9907309_1744210882",
         "information_schema",
         "parameters",
         "VIEW",
         "NO",
         "PRESERVE",
         "System user",
         "Describes parameters of routines (functions) in the catalog.",
         "2025-04-09T15:02:03.299Z",
         "System user",
         "2025-04-09T15:02:03.299Z",
         "System user",
         "UNKNOWN_DATA_SOURCE_FORMAT",
         null,
         null
        ],
        [
         "labuser9907309_1744210882",
         "example",
         "silver",
         "MANAGED",
         "YES",
         "PRESERVE",
         "labuser9907309_1744210882@vocareum.com",
         null,
         "2025-04-09T15:09:13.847Z",
         "labuser9907309_1744210882@vocareum.com",
         "2025-04-09T15:09:13.847Z",
         "labuser9907309_1744210882@vocareum.com",
         "DELTA",
         "tables/c555299e-bb89-4461-9b4c-97c7d9efe395",
         "s3://unity-catalogs-us-west-2/metastore/3763185-root/83642ff0-0464-4d77-9401-f8233c076a6c/tables/c555299e-bb89-4461-9b4c-97c7d9efe395"
        ],
        [
         "labuser9907309_1744210882",
         "information_schema",
         "tables",
         "VIEW",
         "NO",
         "PRESERVE",
         "System user",
         "Describes tables and views defined within the catalog.",
         "2025-04-09T15:02:03.5Z",
         "System user",
         "2025-04-09T15:02:03.5Z",
         "System user",
         "UNKNOWN_DATA_SOURCE_FORMAT",
         null,
         null
        ],
        [
         "labuser9907309_1744210882",
         "information_schema",
         "key_column_usage",
         "VIEW",
         "NO",
         "PRESERVE",
         "System user",
         "Lists the columns of the primary or foreign key constraints within the catalog.",
         "2025-04-09T15:02:03.412Z",
         "System user",
         "2025-04-09T15:02:03.412Z",
         "System user",
         "UNKNOWN_DATA_SOURCE_FORMAT",
         null,
         null
        ],
        [
         "labuser9907309_1744210882",
         "information_schema",
         "constraint_column_usage",
         "VIEW",
         "NO",
         "PRESERVE",
         "System user",
         "Describes the constraints referencing columns in the catalog.",
         "2025-04-09T15:02:03.436Z",
         "System user",
         "2025-04-09T15:02:03.436Z",
         "System user",
         "UNKNOWN_DATA_SOURCE_FORMAT",
         null,
         null
        ],
        [
         "labuser9907309_1744210882",
         "information_schema",
         "column_masks",
         "VIEW",
         "NO",
         "PRESERVE",
         "System user",
         null,
         "2025-04-09T15:02:03.565Z",
         "System user",
         "2025-04-09T15:02:03.565Z",
         "System user",
         "UNKNOWN_DATA_SOURCE_FORMAT",
         null,
         null
        ],
        [
         "labuser9907309_1744210882",
         "information_schema",
         "column_tags",
         "VIEW",
         "NO",
         "PRESERVE",
         "System user",
         null,
         "2025-04-09T15:02:03.687Z",
         "System user",
         "2025-04-09T15:02:03.687Z",
         "System user",
         "UNKNOWN_DATA_SOURCE_FORMAT",
         null,
         null
        ]
       ],
       "datasetInfos": [],
       "dbfsResultPath": null,
       "isJsonSchema": true,
       "metadata": {},
       "overflow": false,
       "plotOptions": {
        "customPlotOptions": {},
        "displayType": "table",
        "pivotAggregation": null,
        "pivotColumns": null,
        "xColumns": null,
        "yColumns": null
       },
       "removedWidgets": [],
       "schema": [
        {
         "metadata": "{\"comment\":\"Catalog that contains the relation.\"}",
         "name": "table_catalog",
         "type": "\"string\""
        },
        {
         "metadata": "{\"comment\":\"Schema that contains the relation.\"}",
         "name": "table_schema",
         "type": "\"string\""
        },
        {
         "metadata": "{\"comment\":\"Name of the relation.\"}",
         "name": "table_name",
         "type": "\"string\""
        },
        {
         "metadata": "{\"comment\":\"One of 'BASE TABLE', 'VIEW'.\"}",
         "name": "table_type",
         "type": "\"string\""
        },
        {
         "metadata": "{\"comment\":\"'YES' if the relation can be inserted into, 'NO' otherwise.\"}",
         "name": "is_insertable_into",
         "type": "\"string\""
        },
        {
         "metadata": "{\"comment\":\"Always 'PRESERVE'. Reserved for future use.\"}",
         "name": "commit_action",
         "type": "\"string\""
        },
        {
         "metadata": "{\"comment\":\"User or group (principal) currently owning the relation.\"}",
         "name": "table_owner",
         "type": "\"string\""
        },
        {
         "metadata": "{\"comment\":\"An optional comment that describes the relation.\"}",
         "name": "comment",
         "type": "\"string\""
        },
        {
         "metadata": "{\"comment\":\"Timestamp when the relation was created.\"}",
         "name": "created",
         "type": "\"timestamp\""
        },
        {
         "metadata": "{\"comment\":\"Principal which created the relation.\"}",
         "name": "created_by",
         "type": "\"string\""
        },
        {
         "metadata": "{\"comment\":\"Timestamp when the relation definition was last altered in any way.\"}",
         "name": "last_altered",
         "type": "\"timestamp\""
        },
        {
         "metadata": "{\"comment\":\"Principal which last altered the relation.\"}",
         "name": "last_altered_by",
         "type": "\"string\""
        },
        {
         "metadata": "{\"comment\":\"Format of the data source such as PARQUET, or CSV.\"}",
         "name": "data_source_format",
         "type": "\"string\""
        },
        {
         "metadata": "{\"comment\":\"Path to the storage of an external table, NULL otherwise.\"}",
         "name": "storage_sub_directory",
         "type": "\"string\""
        },
        {
         "metadata": "{}",
         "name": "storage_path",
         "type": "\"string\""
        }
       ],
       "type": "table"
      }
     },
     "output_type": "display_data"
    }
   ],
   "source": [
    "SELECT * FROM information_schema.tables"
   ]
  },
  {
   "cell_type": "markdown",
   "metadata": {
    "application/vnd.databricks.v1+cell": {
     "cellMetadata": {},
     "inputWidgets": {},
     "nuid": "e6fb9b29-0ea7-4182-9d9a-e20beff3dff1",
     "showTitle": false,
     "tableResultSettingsMap": {},
     "title": ""
    }
   },
   "source": [
    "## E. Catalog Explorer\n"
   ]
  },
  {
   "cell_type": "markdown",
   "metadata": {
    "application/vnd.databricks.v1+cell": {
     "cellMetadata": {},
     "inputWidgets": {},
     "nuid": "4259da18-1296-4718-b274-d699844b4868",
     "showTitle": false,
     "tableResultSettingsMap": {},
     "title": ""
    }
   },
   "source": [
    "### E1. Open the Catalog Explorer\n",
    "1. Right-click on **Catalog** in the left sidebar to explore the metastore using the Catalog Explorer user interface.\n",
    "   \n",
    "   1. Observe the catalogs listed in the **Catalog** pane and select *Open Link in New Tab*.\n",
    "\n",
    "   2. The items in this list resemble those from the `SHOW CATALOGS` SQL statement we executed earlier.\n",
    "\n",
    "   3. Expand your unique catalog name, then expand **example**. This displays a list of tables, views, and functions.\n",
    "   \n",
    "   4. Expand **tables**, then select **vw_gold** to see detailed information regarding the view. \n",
    "   \n",
    "   5. From here, you can view the schema, sample data, details, and permissions (which we'll get to shortly).\n"
   ]
  },
  {
   "cell_type": "markdown",
   "metadata": {
    "application/vnd.databricks.v1+cell": {
     "cellMetadata": {},
     "inputWidgets": {},
     "nuid": "1383e013-1591-45a4-b024-2882faccecc2",
     "showTitle": false,
     "tableResultSettingsMap": {},
     "title": ""
    }
   },
   "source": [
    "### E2. Lineage\n",
    "\n",
    "Data lineage is a key pillar of any data governance solution.\n",
    "\n",
    "1. Select the **Lineage** tab.\n",
    "\n",
    "2. In the **Lineage** tab, you can identify elements related to the selected object.\n",
    "\n",
    "3. Select the **See lineage graph** button in the upper left corner.\n",
    "\n",
    "4. The lineage graph provides a visualization of the lineage relationships.\n"
   ]
  },
  {
   "cell_type": "markdown",
   "metadata": {
    "application/vnd.databricks.v1+cell": {
     "cellMetadata": {},
     "inputWidgets": {},
     "nuid": "58d5170d-36f5-4717-8d4c-a2648ec4f591",
     "showTitle": false,
     "tableResultSettingsMap": {},
     "title": ""
    }
   },
   "source": [
    "## Conclusion\n",
    "In this demo, we explored the structure and functionality of a metastore through practical exercises, enhancing our understanding of data organization and metadata management. We learned how to navigate and inspect various components such as catalogs, schemas, tables, and user-defined functions using SQL commands like SHOW and DESCRIBE. Additionally, we delved into the roles of the system catalog and information_schema, gaining insights into their importance in metadata access and management. The demo also highlighted the significance of data lineage for robust data governance, enabling us to trace data origins and impacts effectively. Overall, this hands-on approach has equipped us with essential skills to manage and analyze metadata within a metastore efficiently."
   ]
  },
  {
   "cell_type": "markdown",
   "metadata": {
    "application/vnd.databricks.v1+cell": {
     "cellMetadata": {},
     "inputWidgets": {},
     "nuid": "d40116a3-121d-4275-98d4-44bcf578f906",
     "showTitle": false,
     "tableResultSettingsMap": {},
     "title": ""
    }
   },
   "source": [
    "\n",
    "&copy; 2025 Databricks, Inc. All rights reserved.<br/>\n",
    "Apache, Apache Spark, Spark and the Spark logo are trademarks of the \n",
    "<a href=\"https://www.apache.org/\">Apache Software Foundation</a>.<br/>\n",
    "<br/><a href=\"https://databricks.com/privacy-policy\">Privacy Policy</a> | \n",
    "<a href=\"https://databricks.com/terms-of-use\">Terms of Use</a> | \n",
    "<a href=\"https://help.databricks.com/\">Support</a>"
   ]
  }
 ],
 "metadata": {
  "application/vnd.databricks.v1+notebook": {
   "computePreferences": null,
   "dashboards": [],
   "environmentMetadata": null,
   "inputWidgetPreferences": null,
   "language": "sql",
   "notebookMetadata": {
    "pythonIndentUnit": 4
   },
   "notebookName": "2L - Navigating the Metastore",
   "widgets": {}
  },
  "language_info": {
   "name": "sql"
  }
 },
 "nbformat": 4,
 "nbformat_minor": 0
}