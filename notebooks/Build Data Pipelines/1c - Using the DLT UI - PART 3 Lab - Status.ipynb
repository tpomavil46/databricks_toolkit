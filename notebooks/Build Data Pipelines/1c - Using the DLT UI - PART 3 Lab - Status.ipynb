{
 "cells": [
  {
   "cell_type": "markdown",
   "metadata": {
    "application/vnd.databricks.v1+cell": {
     "cellMetadata": {},
     "inputWidgets": {},
     "nuid": "3da168b6-e005-4823-8b62-9174e179d0e5",
     "showTitle": false,
     "tableResultSettingsMap": {},
     "title": ""
    }
   },
   "source": [
    "\n",
    "<div style=\"text-align: center; line-height: 0; padding-top: 9px;\">\n",
    "  <img src=\"https://databricks.com/wp-content/uploads/2018/03/db-academy-rgb-1200px.png\" alt=\"Databricks Learning\">\n",
    "</div>\n"
   ]
  },
  {
   "cell_type": "markdown",
   "metadata": {
    "application/vnd.databricks.v1+cell": {
     "cellMetadata": {},
     "inputWidgets": {},
     "nuid": "95b24892-c388-4094-af4d-454643bf6092",
     "showTitle": false,
     "tableResultSettingsMap": {},
     "title": ""
    }
   },
   "source": [
    "# Using the Delta Live Tables UI - PART 3 Lab - Status\n",
    "\n",
    "This demo will explore the DLT UI. By the end of this lesson you will be able to: \n",
    "\n",
    "* Deploy a DLT pipeline\n",
    "* Explore the resultant DAG\n",
    "* Execute an update of the pipeline\n",
    "\n",
    "This demonstration will focus on using SQL code with DLT. Python notebooks are available that replicate the SQL code."
   ]
  },
  {
   "cell_type": "markdown",
   "metadata": {
    "application/vnd.databricks.v1+cell": {
     "cellMetadata": {},
     "inputWidgets": {},
     "nuid": "d8c0e873-bab6-4b56-a08f-54ef43008a31",
     "showTitle": false,
     "tableResultSettingsMap": {},
     "title": ""
    }
   },
   "source": [
    "## REQUIRED - SELECT CLASSIC COMPUTE\n",
    "\n",
    "Before executing cells in this notebook, please select your classic compute cluster in the lab. Be aware that **Serverless** is enabled by default.\n",
    "\n",
    "Follow these steps to select the classic compute cluster:\n",
    "\n",
    "1. Navigate to the top-right of this notebook and click the drop-down menu to select your cluster. By default, the notebook will use **Serverless**.\n",
    "\n",
    "1. If your cluster is available, select it and continue to the next cell. If the cluster is not shown:\n",
    "\n",
    "  - In the drop-down, select **More**.\n",
    "\n",
    "  - In the **Attach to an existing compute resource** pop-up, select the first drop-down. You will see a unique cluster name in that drop-down. Please select that cluster.\n",
    "\n",
    "**NOTE:** If your cluster has terminated, you might need to restart it in order to select it. To do this:\n",
    "\n",
    "1. Right-click on **Compute** in the left navigation pane and select *Open in new tab*.\n",
    "\n",
    "1. Find the triangle icon to the right of your compute cluster name and click it.\n",
    "\n",
    "1. Wait a few minutes for the cluster to start.\n",
    "\n",
    "1. Once the cluster is running, complete the steps above to select your cluster."
   ]
  },
  {
   "cell_type": "markdown",
   "metadata": {
    "application/vnd.databricks.v1+cell": {
     "cellMetadata": {},
     "inputWidgets": {},
     "nuid": "47071c71-adb3-4a97-833f-36d839b8ecf8",
     "showTitle": false,
     "tableResultSettingsMap": {},
     "title": ""
    }
   },
   "source": [
    "## A. Classroom Setup\n",
    "\n",
    "Run the following cell to configure your working environment for this course. It will also set your default catalog to **dbacademy** and the schema to your specific schema name shown below using the `USE` statements.\n",
    "<br></br>\n",
    "\n",
    "\n",
    "```\n",
    "USE CATALOG dbacademy;\n",
    "USE SCHEMA dbacademy.<your unique schema name>;\n",
    "```\n",
    "\n",
    "**NOTE:** The `DA` object is only used in Databricks Academy courses and is not available outside of these courses. It will dynamically reference the information needed to run the course."
   ]
  },
  {
   "cell_type": "code",
   "execution_count": 0,
   "metadata": {
    "application/vnd.databricks.v1+cell": {
     "cellMetadata": {
      "byteLimit": 2048000,
      "rowLimit": 10000
     },
     "inputWidgets": {},
     "nuid": "31833954-14a3-460f-833d-274695a4575c",
     "showTitle": false,
     "tableResultSettingsMap": {},
     "title": ""
    }
   },
   "outputs": [
    {
     "output_type": "stream",
     "name": "stdout",
     "output_type": "stream",
     "text": [
      "\u001B[43mNote: you may need to restart the kernel using %restart_python or dbutils.library.restartPython() to use updated packages.\u001B[0m\n"
     ]
    },
    {
     "output_type": "stream",
     "name": "stdout",
     "output_type": "stream",
     "text": [
      "Loading batch 1 of 31...2 seconds\n"
     ]
    },
    {
     "output_type": "execute_result",
     "data": {
      "text/plain": [
       "True"
      ]
     },
     "execution_count": 15,
     "metadata": {},
     "output_type": "execute_result"
    }
   ],
   "source": [
    "%run ./Includes/Classroom-Setup-1"
   ]
  },
  {
   "cell_type": "markdown",
   "metadata": {
    "application/vnd.databricks.v1+cell": {
     "cellMetadata": {},
     "inputWidgets": {},
     "nuid": "bba8d951-0bc5-4cd0-891a-c2a7a547291a",
     "showTitle": false,
     "tableResultSettingsMap": {},
     "title": ""
    }
   },
   "source": [
    "## B. Generate Pipeline Configuration\n",
    "Run the following cell to obtain the pipeline configuration information we saw earlier. Modify the pipeline_language if necessary."
   ]
  },
  {
   "cell_type": "code",
   "execution_count": 0,
   "metadata": {
    "application/vnd.databricks.v1+cell": {
     "cellMetadata": {
      "byteLimit": 2048000,
      "rowLimit": 10000
     },
     "inputWidgets": {},
     "nuid": "030b534d-08ea-44b1-85a0-1bca5fc10c5d",
     "showTitle": false,
     "tableResultSettingsMap": {},
     "title": ""
    }
   },
   "outputs": [
    {
     "output_type": "stream",
     "name": "stdout",
     "output_type": "stream",
     "text": [
      "labuser9880383_1744063373: Example Pipeline\n"
     ]
    },
    {
     "output_type": "display_data",
     "data": {
      "text/html": [
       "<table style=\"width:100%\">\n",
       "            <tr>\n",
       "                <td style=\"white-space:nowrap; width:1em\">Pipeline Name:</td>\n",
       "                <td><input type=\"text\" value=\"labuser9880383_1744063373: Example Pipeline\" style=\"width: 100%\"></td></tr>\n",
       "            <tr>\n",
       "                <td style=\"white-space:nowrap; width:1em\">Notebook #1 Path:</td>\n",
       "                <td><input type=\"text\" value=\"/Users/labuser9880383_1744063373@vocareum.com/build-data-pipelines-with-delta-live-tables-2.1.2/Build Data Pipelines with Delta Live Tables/2A - SQL Pipelines/1 - Orders Pipeline\" style=\"width: 100%\"></td></tr>\n",
       "            <tr>\n",
       "                <td style=\"white-space:nowrap; width:1em\">Notebook #2 Path:</td>\n",
       "                <td><input type=\"text\" value=\"/Users/labuser9880383_1744063373@vocareum.com/build-data-pipelines-with-delta-live-tables-2.1.2/Build Data Pipelines with Delta Live Tables/2A - SQL Pipelines/2 - Customers Pipeline\" style=\"width: 100%\"></td></tr>\n",
       "            <tr>\n",
       "                <td style=\"white-space:nowrap; width:1em\">Notebook #3 Path:</td>\n",
       "                <td><input type=\"text\" value=\"/Users/labuser9880383_1744063373@vocareum.com/build-data-pipelines-with-delta-live-tables-2.1.2/Build Data Pipelines with Delta Live Tables/2A - SQL Pipelines/3L - Status Pipeline Lab\" style=\"width: 100%\"></td></tr>\n",
       "            <tr>\n",
       "                <td style=\"white-space:nowrap; width:1em\">Catalog:</td>\n",
       "                <td><input type=\"text\" value=\"dbacademy\" style=\"width: 100%\"></td></tr>\n",
       "            <tr>\n",
       "                <td style=\"white-space:nowrap; width:1em\">Target Schema:</td>\n",
       "                <td><input type=\"text\" value=\"labuser9880383_1744063373\" style=\"width: 100%\"></td></tr>\n",
       "            <tr>\n",
       "                <td style=\"white-space:nowrap; width:1em\">Source:</td>\n",
       "                <td><input type=\"text\" value=\"/Volumes/dbacademy/ops/labuser9880383_1744063373@vocareum_com/stream-source\" style=\"width: 100%\"></td></tr></table>"
      ]
     },
     "metadata": {},
     "output_type": "display_data"
    }
   ],
   "source": [
    "pipeline_language = \"SQL\"\n",
    "# pipeline_language = \"Python\"\n",
    "\n",
    "DA.print_pipeline_config(pipeline_language)"
   ]
  },
  {
   "cell_type": "markdown",
   "metadata": {
    "application/vnd.databricks.v1+cell": {
     "cellMetadata": {},
     "inputWidgets": {},
     "nuid": "04c163ba-d1b9-4a52-b401-6a54857af721",
     "showTitle": false,
     "tableResultSettingsMap": {},
     "title": ""
    }
   },
   "source": [
    "## PART 3, Your Turn!\n",
    "### LAB - Add the Third Notebook to the DLT Pipeline\n",
    "Complete the lab using the language of your choice (SQL or Python).\n",
    "\n",
    "1. Navigate back to your DLT pipeline.\n",
    "\n",
    "2. Select **Settings** at the top right corner.\n",
    "\n",
    "3. In the **Source code** section select **Add source code** and add **Notebook #3 - Status Pipeline Lab**. \n",
    "\n",
    "4. Select **Save** at the bottom right of the screen to save the DLT pipeline.\n",
    "\n",
    "5. Select the drop down arrow to the right of **Start** and select **Full refresh all** to rerun the entire DLT pipeline with the additional notebook.\n",
    "    - **IMPORTANT NOTE:** Remember, with a **Full refresh all**, all tables are updated to reflect the current state of their input data sources. For streaming tables, Delta Live Tables attempts to clear all data from each table and then load all data from the input streaming source.\n",
    "\n",
    "6. Errors will be returned. Navigate to the SQL notebook **3L - Status Pipeline Lab**. . If in a live class you can work with the Instructor. Rewrite code one table at a time (you can comment out the other tables) and run until pipeline successfully executes. Repeat for the remaining two tables. Rerun the pipeline until all errors have been solved.\n",
    "    - [SQL Notebook 3L - Status Pipeline Lab]($./2A - SQL Pipelines/3L - Status Pipeline Lab)\n",
    "    - [Python Notebook 3L - Status Pipeline Lab]($./2B - Python Pipelines/3L - Status Pipeline Lab)\n",
    "\n",
    "\n",
    "<br></br>\n",
    "\n",
    "#### Final DLT Pipeline Image\n",
    "![3LSolutionImage](files/images/build-data-pipelines-with-delta-live-tables-2.1.2/3LSolutionImage.png)"
   ]
  },
  {
   "cell_type": "markdown",
   "metadata": {
    "application/vnd.databricks.v1+cell": {
     "cellMetadata": {},
     "inputWidgets": {},
     "nuid": "05bdb3aa-474f-46e1-bb66-4da92469692d",
     "showTitle": false,
     "tableResultSettingsMap": {},
     "title": ""
    }
   },
   "source": [
    "\n",
    "&copy; 2025 Databricks, Inc. All rights reserved.<br/>\n",
    "Apache, Apache Spark, Spark and the Spark logo are trademarks of the \n",
    "<a href=\"https://www.apache.org/\">Apache Software Foundation</a>.<br/>\n",
    "<br/><a href=\"https://databricks.com/privacy-policy\">Privacy Policy</a> | \n",
    "<a href=\"https://databricks.com/terms-of-use\">Terms of Use</a> | \n",
    "<a href=\"https://help.databricks.com/\">Support</a>"
   ]
  }
 ],
 "metadata": {
  "application/vnd.databricks.v1+notebook": {
   "computePreferences": null,
   "dashboards": [],
   "environmentMetadata": null,
   "inputWidgetPreferences": null,
   "language": "python",
   "notebookMetadata": {
    "pythonIndentUnit": 4
   },
   "notebookName": "1c - Using the DLT UI - PART 3 Lab - Status",
   "widgets": {}
  },
  "language_info": {
   "name": "python"
  }
 },
 "nbformat": 4,
 "nbformat_minor": 0
}