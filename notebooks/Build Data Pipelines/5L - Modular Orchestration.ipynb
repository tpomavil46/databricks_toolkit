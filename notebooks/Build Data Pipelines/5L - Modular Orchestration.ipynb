{
 "cells": [
  {
   "cell_type": "markdown",
   "metadata": {
    "application/vnd.databricks.v1+cell": {
     "cellMetadata": {},
     "inputWidgets": {},
     "nuid": "055da358-5234-46f0-94d9-a3e45d3e795e",
     "showTitle": false,
     "tableResultSettingsMap": {},
     "title": ""
    }
   },
   "source": [
    "\n",
    "<div style=\"text-align: center; line-height: 0; padding-top: 9px;\">\n",
    "  <img src=\"https://databricks.com/wp-content/uploads/2018/03/db-academy-rgb-1200px.png\" alt=\"Databricks Learning\">\n",
    "</div>\n"
   ]
  },
  {
   "cell_type": "markdown",
   "metadata": {
    "application/vnd.databricks.v1+cell": {
     "cellMetadata": {},
     "inputWidgets": {},
     "nuid": "6ba56f7b-a267-4d8b-a7c1-693357cd7b46",
     "showTitle": false,
     "tableResultSettingsMap": {},
     "title": ""
    }
   },
   "source": [
    "# Lab: Modular Orchestration\n",
    "\n",
    "In this lab, you'll be configuring a multi-task job comprising of three notebooks.\n",
    "\n",
    "## Learning Objectives\n",
    "By the end of this lab, you should be able to:\n",
    "* Schedule a Master Job consists of SubJobs (RunJobs)"
   ]
  },
  {
   "cell_type": "markdown",
   "metadata": {
    "application/vnd.databricks.v1+cell": {
     "cellMetadata": {},
     "inputWidgets": {},
     "nuid": "d6e1967e-c1d4-49e6-bacc-278354cb05e7",
     "showTitle": false,
     "tableResultSettingsMap": {},
     "title": ""
    }
   },
   "source": [
    "## REQUIRED - SELECT CLASSIC COMPUTE\n",
    "\n",
    "Before executing cells in this notebook, please select your classic compute cluster in the lab. Be aware that **Serverless** is enabled by default.\n",
    "\n",
    "Follow these steps to select the classic compute cluster:\n",
    "\n",
    "1. Navigate to the top-right of this notebook and click the drop-down menu to select your cluster. By default, the notebook will use **Serverless**.\n",
    "\n",
    "1. If your cluster is available, select it and continue to the next cell. If the cluster is not shown:\n",
    "\n",
    "  - In the drop-down, select **More**.\n",
    "\n",
    "  - In the **Attach to an existing compute resource** pop-up, select the first drop-down. You will see a unique cluster name in that drop-down. Please select that cluster.\n",
    "\n",
    "**NOTE:** If your cluster has terminated, you might need to restart it in order to select it. To do this:\n",
    "\n",
    "1. Right-click on **Compute** in the left navigation pane and select *Open in new tab*.\n",
    "\n",
    "1. Find the triangle icon to the right of your compute cluster name and click it.\n",
    "\n",
    "1. Wait a few minutes for the cluster to start.\n",
    "\n",
    "1. Once the cluster is running, complete the steps above to select your cluster."
   ]
  },
  {
   "cell_type": "markdown",
   "metadata": {
    "application/vnd.databricks.v1+cell": {
     "cellMetadata": {},
     "inputWidgets": {},
     "nuid": "a2adcfc7-7124-4bc6-be60-e3369a15e56a",
     "showTitle": false,
     "tableResultSettingsMap": {},
     "title": ""
    }
   },
   "source": [
    "## A. Classroom Setup\n",
    "\n",
    "Run the following cell to configure your working environment for this course. It will also set your default catalog to **dbacademy** and the schema to your specific schema name shown below using the `USE` statements.\n",
    "<br></br>\n",
    "```\n",
    "USE CATALOG dbacademy;\n",
    "USE SCHEMA dbacademy.<your unique schema name>;\n",
    "```\n",
    "\n",
    "**NOTE:** The **DA** object is only used in Databricks Academy courses and is not available outside of these courses."
   ]
  },
  {
   "cell_type": "code",
   "execution_count": 0,
   "metadata": {
    "application/vnd.databricks.v1+cell": {
     "cellMetadata": {
      "byteLimit": 2048000,
      "rowLimit": 10000
     },
     "inputWidgets": {},
     "nuid": "ced04b35-8e22-4c0f-a40a-e277bc247edb",
     "showTitle": false,
     "tableResultSettingsMap": {},
     "title": ""
    }
   },
   "outputs": [
    {
     "output_type": "stream",
     "name": "stdout",
     "output_type": "stream",
     "text": [
      "\u001B[43mNote: you may need to restart the kernel using %restart_python or dbutils.library.restartPython() to use updated packages.\u001B[0m\n"
     ]
    },
    {
     "output_type": "display_data",
     "data": {
      "text/html": [
       "<table style=\"width:100%\">\n",
       "            <tr>\n",
       "                <td style=\"white-space:nowrap; width:1em\">Course Catalog:</td>\n",
       "                <td><input type=\"text\" value=\"dbacademy\" style=\"width: 100%\"></td></tr>\n",
       "            <tr>\n",
       "                <td style=\"white-space:nowrap; width:1em\">Your Schema:</td>\n",
       "                <td><input type=\"text\" value=\"labuser9875963_1744037892\" style=\"width: 100%\"></td></tr></table>"
      ]
     },
     "metadata": {},
     "output_type": "display_data"
    }
   ],
   "source": [
    "%run ./Includes/Classroom-Setup-5L"
   ]
  },
  {
   "cell_type": "markdown",
   "metadata": {
    "application/vnd.databricks.v1+cell": {
     "cellMetadata": {},
     "inputWidgets": {},
     "nuid": "d956babf-d84c-40ff-b9f1-77eb41f90c79",
     "showTitle": false,
     "tableResultSettingsMap": {},
     "title": ""
    }
   },
   "source": [
    "## B. Create a Starter Job"
   ]
  },
  {
   "cell_type": "markdown",
   "metadata": {
    "application/vnd.databricks.v1+cell": {
     "cellMetadata": {},
     "inputWidgets": {},
     "nuid": "564fa2be-1d92-48e2-ba68-d98c35290327",
     "showTitle": false,
     "tableResultSettingsMap": {},
     "title": ""
    }
   },
   "source": [
    "Run the cell below to use the custom `DA` object to create a starter job for this demonstration. After the cell completes, it will create a job named **\\<your-schema>_Lesson_05** with three individual jobs.\n",
    "\n",
    "**NOTE:** The following custom method uses the Databricks SDK to programmatically create a job for demonstration purposes. You can find the method definition that uses the Databricks SDK to create the job in the [Classroom-Setup-Common]($./Includes/Classroom-Setup-Common) notebook. However, the [Databricks SDK](https://databricks-sdk-py.readthedocs.io/en/latest/) is outside the scope of this course."
   ]
  },
  {
   "cell_type": "code",
   "execution_count": 0,
   "metadata": {
    "application/vnd.databricks.v1+cell": {
     "cellMetadata": {
      "byteLimit": 2048000,
      "rowLimit": 10000
     },
     "inputWidgets": {},
     "nuid": "f8e113b7-2774-4cd3-a364-c515b856e657",
     "showTitle": false,
     "tableResultSettingsMap": {},
     "title": ""
    }
   },
   "outputs": [
    {
     "output_type": "stream",
     "name": "stdout",
     "output_type": "stream",
     "text": [
      "Created the job: labuser9875963_1744037892_Lesson_5_Job_1\nJob ID: 92105791483936\nCreated the job: labuser9875963_1744037892_Lesson_5_Job_2\nJob ID: 1042686454587118\nCreated the job: labuser9875963_1744037892_Lesson_5_Job_3\nJob ID: 833481232362480\n"
     ]
    }
   ],
   "source": [
    "DA.create_job_lesson05()"
   ]
  },
  {
   "cell_type": "markdown",
   "metadata": {
    "application/vnd.databricks.v1+cell": {
     "cellMetadata": {},
     "inputWidgets": {},
     "nuid": "8f4af30b-a5a3-40b1-8592-a94b2de3c319",
     "showTitle": false,
     "tableResultSettingsMap": {},
     "title": ""
    }
   },
   "source": [
    "##C. Using the `Run Job` Task Type\n",
    "We are going to configure a job that has three \"sub-jobs\" where each sub-job will be a Task. The bundle we just deployed configured these sub-jobs for us. \n",
    "\n",
    "To confirm this, from fly-in menu, go to *Workflows* > *Jobs*.  You will see a **...Job1**, **...Job2** and **...Job3**.\n",
    "\n",
    "To setup the full job, complete the following:\n"
   ]
  },
  {
   "cell_type": "markdown",
   "metadata": {
    "application/vnd.databricks.v1+cell": {
     "cellMetadata": {},
     "inputWidgets": {},
     "nuid": "3f183cb6-ccd3-4820-8793-3e2079174e83",
     "showTitle": false,
     "tableResultSettingsMap": {},
     "title": ""
    }
   },
   "source": [
    "### C1. Creating a Master Job and adding Run Job as a task\n",
    "1. Right-click on **Workflows** in the left navigation bar, and open the link in a new tab.\n",
    "2. Click **Create job**, and give it the name of **your-schema - Modular Orchestration Job**\n",
    "3. For the first task, complete the fields as follows:\n",
    "\n",
    "Configure the task:\n",
    "\n",
    "| Setting | Instructions |\n",
    "|--|--|\n",
    "| Task name | Enter **Ingest_From_Source_1** |\n",
    "| Type | Choose **Run Job** |\n",
    "| Job | Start typing \"job_1\". You should see a job that is named -> **[your-schema]_Lesson_5_job_1** Select this job.|\n",
    "\n",
    "4. Click **Create task**\n",
    "\n",
    "![Lesson05_RunJob1](files/images/deploy-workloads-with-databricks-workflows-2.0.1/Lesson05_RunJob1.png)\n"
   ]
  },
  {
   "cell_type": "markdown",
   "metadata": {
    "application/vnd.databricks.v1+cell": {
     "cellMetadata": {},
     "inputWidgets": {},
     "nuid": "4794c903-4561-44c8-9a2a-55b4bd57cd2d",
     "showTitle": false,
     "tableResultSettingsMap": {},
     "title": ""
    }
   },
   "source": [
    "### C2. Add another Run Job as task\n",
    "Now, configure the second task similar to first task. The second task is already a job being created as **[your_schema]_Lesson_5_Job_2**\n",
    "1. Complete the fields as follows:\n",
    "Configure the task:\n",
    "\n",
    "| Setting | Instructions |\n",
    "|--|--|\n",
    "| Task name | Enter **Ingest_From_Source_2** |\n",
    "| Type | Choose **Run Job** |\n",
    "| Job | Start typing \"job_2\". You should see a job that is named -> \"[your-schema]_Lesson_5_job_2\" Select this job.|\n",
    "|Depends on| Click the \"x\" to remove **Ingest_From_Source_1** from the list.\n",
    "\n",
    "<br>\n",
    "\n",
    "2. Click **Create task**\n",
    "\n",
    "![Lesson05_RunJob2](files/images/deploy-workloads-with-databricks-workflows-2.0.1/Lesson05_RunJob2.png)"
   ]
  },
  {
   "cell_type": "markdown",
   "metadata": {
    "application/vnd.databricks.v1+cell": {
     "cellMetadata": {},
     "inputWidgets": {},
     "nuid": "05543697-7778-46b5-aae4-c4be1230db98",
     "showTitle": false,
     "tableResultSettingsMap": {},
     "title": ""
    }
   },
   "source": [
    "### C3. Adding a Dependent Run Job as task\n",
    "In our scenario, we are configuring two tasks that run jobs that ingest data from two different sources (however, these example jobs do not actually ingest any data). We are now going to configure a third task that runs a different job that is designed to perform data cleaning:\n",
    "1. Complete the fields as follows:\n",
    "Configure the task:\n",
    "\n",
    "| Setting | Instructions |\n",
    "|--|--|\n",
    "| Task name | Enter **Cleaning_Data** |\n",
    "| Type | Choose **Run Job** |\n",
    "| Job | Start typing \"job_3\". You should see a job that is named -> \"[your-schema]_Lesson_5_job_3\" Select this job.|\n",
    "|Depends on| Click inside the field, and select **`Ingest_From_Source_2`**, and **`Ingest_From_Source_1`** to add it to the list\n",
    "|Dependencies| Verify that \"All succeeded\" is selected.\n",
    "\n",
    "<br>\n",
    "\n",
    "2. Click **`Create task`**\n",
    "\n",
    "\n",
    "![Lesson05_RunJob3](files/images/deploy-workloads-with-databricks-workflows-2.0.1/Lesson05_RunJob3.png)"
   ]
  },
  {
   "cell_type": "markdown",
   "metadata": {
    "application/vnd.databricks.v1+cell": {
     "cellMetadata": {},
     "inputWidgets": {},
     "nuid": "008d62c4-9461-47f2-9523-b69674861227",
     "showTitle": false,
     "tableResultSettingsMap": {},
     "title": ""
    }
   },
   "source": [
    "##D. Job Parameters\n",
    "In a previous lesson, we configured \"Task parameters\" that passed key/value data to individual tasks. In the job we are currently configuring, we want to pass key/value data to *all* tasks. We can use \"Job parameters\" to perform this action.\n",
    "\n",
    "\n",
    "\n",
    "1. On the right side of the job configuration page, find the section called **`Job parameters`**, and click **`Edit parameters`**.\n",
    "1. Add a parameter as follows:\n",
    "  * Key: **test_value** --- Value: **Succeed**\n",
    "3. Click **`Save`**.\n",
    "\n",
    "![Lesson05_MasterJob_1](files/images/deploy-workloads-with-databricks-workflows-2.0.1/Lesson05_MasterJob_1.png)"
   ]
  },
  {
   "cell_type": "markdown",
   "metadata": {
    "application/vnd.databricks.v1+cell": {
     "cellMetadata": {},
     "inputWidgets": {},
     "nuid": "50393b28-d066-4373-9235-323669b91394",
     "showTitle": false,
     "tableResultSettingsMap": {},
     "title": ""
    }
   },
   "source": [
    "##E. Run the Job\n",
    "Click **`Run now`** to run the job"
   ]
  },
  {
   "cell_type": "markdown",
   "metadata": {
    "application/vnd.databricks.v1+cell": {
     "cellMetadata": {},
     "inputWidgets": {},
     "nuid": "13f571f0-8179-458c-bc84-b6587eb4308e",
     "showTitle": false,
     "tableResultSettingsMap": {},
     "title": ""
    }
   },
   "source": [
    "\n",
    "&copy; 2025 Databricks, Inc. All rights reserved.<br/>\n",
    "Apache, Apache Spark, Spark and the Spark logo are trademarks of the \n",
    "<a href=\"https://www.apache.org/\">Apache Software Foundation</a>.<br/>\n",
    "<br/><a href=\"https://databricks.com/privacy-policy\">Privacy Policy</a> | \n",
    "<a href=\"https://databricks.com/terms-of-use\">Terms of Use</a> | \n",
    "<a href=\"https://help.databricks.com/\">Support</a>"
   ]
  }
 ],
 "metadata": {
  "application/vnd.databricks.v1+notebook": {
   "computePreferences": null,
   "dashboards": [],
   "environmentMetadata": null,
   "inputWidgetPreferences": null,
   "language": "python",
   "notebookMetadata": {
    "pythonIndentUnit": 4
   },
   "notebookName": "5L - Modular Orchestration",
   "widgets": {}
  },
  "language_info": {
   "name": "python"
  }
 },
 "nbformat": 4,
 "nbformat_minor": 0
}